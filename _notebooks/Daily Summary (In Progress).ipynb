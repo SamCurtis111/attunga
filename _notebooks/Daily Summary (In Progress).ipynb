{
 "cells": [
  {
   "cell_type": "markdown",
   "id": "strong-training",
   "metadata": {},
   "source": [
    "# Morning Review\n",
    "(not in production)  \n",
    "need to put in appropriate formatting prior to production"
   ]
  },
  {
   "cell_type": "markdown",
   "id": "split-salad",
   "metadata": {},
   "source": [
    "## Rough Format\n",
    "\n",
    "#### NEM Summary\n",
    "* Spot market summary:\n",
    "    * Yest spot prices\n",
    "    * PD 7 Day spoot prices\n",
    "    * Average 7 day price table (incl. caps)\n",
    "    \n",
    "* Supply / Demand / Reserve\n",
    "    * IC flows / constraints\n",
    "    \n",
    "* Generation\n",
    "    * Fuel mix\n",
    "    * By DUID - outages / trips\n",
    "    * Bid stacks (some of these might not be worth the work)\n",
    "    \n",
    "#### ASX Summary\n",
    "* Yesterday biggest movers"
   ]
  },
  {
   "cell_type": "code",
   "execution_count": null,
   "id": "hispanic-lexington",
   "metadata": {},
   "outputs": [],
   "source": []
  }
 ],
 "metadata": {
  "kernelspec": {
   "display_name": "Python 3",
   "language": "python",
   "name": "python3"
  },
  "language_info": {
   "codemirror_mode": {
    "name": "ipython",
    "version": 3
   },
   "file_extension": ".py",
   "mimetype": "text/x-python",
   "name": "python",
   "nbconvert_exporter": "python",
   "pygments_lexer": "ipython3",
   "version": "3.7.9"
  }
 },
 "nbformat": 4,
 "nbformat_minor": 5
}
