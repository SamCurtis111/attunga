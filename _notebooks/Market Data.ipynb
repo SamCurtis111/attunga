{
 "cells": [
  {
   "cell_type": "markdown",
   "id": "comparable-citation",
   "metadata": {},
   "source": [
    "# Market Data\n",
    "> Updated NEM data\n",
    "\n",
    "- toc: true \n",
    "- badges: false\n",
    "- comments: true\n",
    "- categories: [jupyter]\n",
    "- image: images/chart-preview.png"
   ]
  },
  {
   "cell_type": "code",
   "execution_count": 12,
   "id": "hydraulic-karen",
   "metadata": {},
   "outputs": [],
   "source": [
    "#hide_input\n",
    "from datetime import datetime\n",
    "from datetime import date\n",
    "from datetime import timedelta\n",
    "import requests\n",
    "import re\n",
    "from tqdm import tqdm\n",
    "from collections import namedtuple\n",
    "from io import BytesIO\n",
    "from zipfile import ZipFile\n",
    "import pandas as pd\n",
    "import numpy as np\n",
    "import matplotlib.pyplot as plt\n",
    "from plotly.subplots import make_subplots\n",
    "import ipywidgets as widgets\n",
    "from IPython.display import display"
   ]
  },
  {
   "cell_type": "code",
   "execution_count": 13,
   "id": "respected-conservative",
   "metadata": {},
   "outputs": [],
   "source": [
    "#hide_input\n",
    "## GLOBAL VARIABLES ##\n",
    "current_date = datetime.date(datetime.now())\n",
    "yesterday = current_date - timedelta(days=1)\n",
    "states = [\"QLD\",\"NSW\",\"VIC\",\"SA\",\"TAS\",\"ACT\",\"WA\",\"NT\"]\n",
    "capital_cities = [\"Brisbane\",\"Sydney\",\"Melbourne\",\"Adelaide\",\"Hobart\",\"Canberra\",\"Perth\",\"Darwin\"]"
   ]
  },
  {
   "cell_type": "code",
   "execution_count": 14,
   "id": "temporal-funeral",
   "metadata": {},
   "outputs": [
    {
     "name": "stdout",
     "output_type": "stream",
     "text": [
      "Last ran:  2021-02-03 13:03:29\n"
     ]
    }
   ],
   "source": [
    "#hide_input\n",
    "print('Last ran: ', datetime.now().strftime('%Y-%m-%d %H:%M:%S'))"
   ]
  },
  {
   "cell_type": "markdown",
   "id": "cheap-advocacy",
   "metadata": {},
   "source": [
    "# NEM Price Data"
   ]
  },
  {
   "cell_type": "code",
   "execution_count": 15,
   "id": "opened-louis",
   "metadata": {},
   "outputs": [],
   "source": [
    "#hide_input\n",
    "base_url = \"http://www.nemweb.com.au\"\n",
    "section = \"Reports/CURRENT\"\n",
    "\n",
    "\n",
    "start_date=datetime.today().strftime(\"%Y%m%d\")\n",
    "start_date = datetime.strptime(start_date, '%Y%m%d')\n",
    "\n",
    "end_date='30001225'\n",
    "end_date = datetime.strptime(end_date, '%Y%m%d')\n",
    "\n",
    "\n",
    "\n",
    "\n",
    "CurrentDataset = namedtuple(\"NemwebCurrentFile\",\n",
    "                            [\"dataset_name\",\n",
    "                             \"nemfile_pattern\",\n",
    "                             \"datetime_format\",\n",
    "                             \"datetime_column\",\n",
    "                             \"tables\"])\n",
    "\n",
    "DATASETS = {\n",
    "    \"pd7day_gpg\": CurrentDataset(\n",
    "        dataset_name=\"PD7DAY\",\n",
    "        nemfile_pattern=\"PUBLIC_PD7DAY_GPG_([0-9]{14})_[0-9]{16}.zip\",\n",
    "        datetime_format=\"%Y%m%d%H%M%S\",\n",
    "        datetime_column=\"INTERVAL_DATETIME\",\n",
    "        tables=['GPG_PRICESOLUTION'])   \n",
    "}\n",
    "\n",
    "\n",
    "\n",
    "dataset = DATASETS['pd7day_gpg']"
   ]
  },
  {
   "cell_type": "code",
   "execution_count": 16,
   "id": "charitable-merchandise",
   "metadata": {},
   "outputs": [
    {
     "name": "stderr",
     "output_type": "stream",
     "text": [
      "180it [00:00, 17878.11it/s]\n"
     ]
    }
   ],
   "source": [
    "#hide_input\n",
    "class ZipFileStreamer(ZipFile):\n",
    "    \"\"\"ZipFile subclass, with method to extract ZipFile as byte stream to memory\"\"\"\n",
    "\n",
    "    def __init__(self, filename):\n",
    "        \"\"\"Initialises ZipFile object, and adds member_count attribute\"\"\"\n",
    "        ZipFile.__init__(self, filename)\n",
    "        self.member_count = len(self.filelist)\n",
    "\n",
    "    def extract_stream(self, member):\n",
    "        \"\"\"Extract a member from the archive as a byte stream or string steam, using\n",
    "        its full name. 'member' may be a filename or a ZipInfo object. \"\"\"\n",
    "        return BytesIO(self.read(member))\n",
    "\n",
    "\n",
    "\n",
    "\n",
    "\n",
    "\n",
    "page = requests.get(\"{0}/{1}/{2}/\".format(base_url,\n",
    "                                          section,\n",
    "                                          \"PD7DAY\"))\n",
    "\n",
    "regex = re.compile(\"/{0}/{1}/{2}\".format(section,\n",
    "                                         \"PD7DAY\",\n",
    "                                         \"PUBLIC_PD7DAY_GPG_([0-9]{14})_[0-9]{16}.zip\"))\n",
    "\n",
    "\n",
    "\n",
    "\n",
    "results_df = []     # initi empty dict to store results\n",
    "results_table = []\n",
    "\n",
    "\n",
    "\n",
    "for match in tqdm(regex.finditer(page.text)):\n",
    "    file_datetime = datetime.strptime(match.group(1), dataset.datetime_format)\n",
    "    final_match = match\n",
    "    \n",
    "\n",
    "# add function for timing code\n",
    "import pprofile\n",
    "profiler = pprofile.Profile()\n",
    "    \n",
    "''' seperate the for loop so that we only get the most recent file'''\n",
    "''' only do this for the pd7day file '''\n",
    "''' TO DO: re-attach this so that the daily reports show how the PD7Day has changed throughout the day '''\n",
    "with profiler:\n",
    "    if end_date > file_datetime > start_date:\n",
    "        ''' unpack the download function here'''\n",
    "        response = requests.get(\"{0}{1}\".format(base_url, final_match.group(0)))\n",
    "        zip_bytes = BytesIO(response.content)\n",
    "        ''' function then jumps to nemfile_reader.nemzip_reader(zip_bytes) '''\n",
    "        with ZipFileStreamer(zip_bytes) as zipfile:\n",
    "            if zipfile.member_count == 1:\n",
    "                filename = zipfile.namelist()[0]    # extracts the name of the csv file we want\n",
    "                nemfile_object = zipfile.extract_stream(filename)      # io.BytesIO object\n",
    "        ''' nemfile_object is then passed into nemfile_reader.nemfile_reader(nemfile_object) '''\n",
    "        table_dict = {}\n",
    "        table_dict = nemfile_object.readlines()\n",
    "                        \n",
    "    \n",
    "\n",
    "# Use list comprehension to extract price_solution\n",
    "zz = [x for x in table_dict if b'PRICESOLUTION' in x]\n",
    "\n",
    "\n",
    "# Convert the above list of bytest (zz) to a pd.DF \n",
    "table_dict = {}\n",
    "for line in zz:\n",
    "    rows = line.decode().split(',')\n",
    "    table = \"{0}_{1}\".format(rows[1], rows[2])\n",
    "    \n",
    "    #new table\n",
    "    if rows[0] == \"I\":\n",
    "        table_dict[table] = line\n",
    "\n",
    "    #append data to each table\n",
    "    elif rows[0] == \"D\":\n",
    "        table_dict[table] += line\n",
    "        \n",
    "price_dict = {table:pd.read_csv(BytesIO(table_dict[table]))}    # convert list of bytes to dict\n",
    "price_frame = price_dict['GPG_PRICESOLUTION']\n",
    "price_frame['INTERVAL_DATETIME'] = pd.to_datetime(price_frame['INTERVAL_DATETIME'], format='%Y/%m/%d %H:%M:%S')\n",
    "price_frame['INTERVAL_DATE'] = price_frame['INTERVAL_DATETIME'].dt.date     # extract date only for use in pivot"
   ]
  },
  {
   "cell_type": "markdown",
   "id": "stunning-theater",
   "metadata": {},
   "source": [
    "## Averaged Daily Prices\n",
    "Note that current day and 8 day ahead are partial days, do not use these figures for pricing / modelling  \n",
    "Click on individual states in chart to add / remove them for closer inspection"
   ]
  },
  {
   "cell_type": "code",
   "execution_count": 17,
   "id": "monthly-vertex",
   "metadata": {},
   "outputs": [
    {
     "name": "stdout",
     "output_type": "stream",
     "text": [
      "REGIONID        NSW1   QLD1     SA1    TAS1    VIC1         RUN_DATETIME\n",
      "INTERVAL_DATE                                                           \n",
      "2021-02-03     29.01  29.81   36.53   32.45   18.23  2021/02/03 07:30:00\n",
      "2021-02-04     87.53  84.64   95.62   62.98   65.93  2021/02/03 07:30:00\n",
      "2021-02-05     79.04  75.97 -157.07   52.05   48.23  2021/02/03 07:30:00\n",
      "2021-02-06     45.13  55.54 -276.83  216.99 -219.95  2021/02/03 07:30:00\n",
      "2021-02-07     30.04  76.11 -162.74   14.43   -4.58  2021/02/03 07:30:00\n",
      "2021-02-08     48.09  63.36   -7.82  285.57   11.02  2021/02/03 07:30:00\n",
      "2021-02-09     44.26  44.79   67.70  383.62   27.73  2021/02/03 07:30:00\n",
      "2021-02-10     33.84  33.11   39.84   38.47   31.79  2021/02/03 07:30:00\n"
     ]
    }
   ],
   "source": [
    "#hide_input\n",
    "''' create a pivot table '''\n",
    "''' IMPORTANT: should probably remove first and last data aggregations because they are incomplete days '''\n",
    "price_pivot = pd.pivot_table(price_frame, values='RRP', index=['INTERVAL_DATE', 'REGIONID', 'RUN_DATETIME'], aggfunc=np.mean)\n",
    "\n",
    "price_pivot = price_pivot.reset_index()\n",
    "price_pivot = price_pivot.pivot(index='INTERVAL_DATE', columns='REGIONID', values='RRP')\n",
    "price_pivot = price_pivot.round(2)\n",
    "price_pivot['RUN_DATETIME'] = price_frame['RUN_DATETIME'][0]\n",
    "print(price_pivot)"
   ]
  },
  {
   "cell_type": "code",
   "execution_count": 41,
   "id": "welcome-relation",
   "metadata": {},
   "outputs": [
    {
     "data": {
      "text/html": [
       "\n",
       "<div id=\"altair-viz-247c0878355a4bb4b267a777c6bde048\"></div>\n",
       "<script type=\"text/javascript\">\n",
       "  (function(spec, embedOpt){\n",
       "    let outputDiv = document.currentScript.previousElementSibling;\n",
       "    if (outputDiv.id !== \"altair-viz-247c0878355a4bb4b267a777c6bde048\") {\n",
       "      outputDiv = document.getElementById(\"altair-viz-247c0878355a4bb4b267a777c6bde048\");\n",
       "    }\n",
       "    const paths = {\n",
       "      \"vega\": \"https://cdn.jsdelivr.net/npm//vega@5?noext\",\n",
       "      \"vega-lib\": \"https://cdn.jsdelivr.net/npm//vega-lib?noext\",\n",
       "      \"vega-lite\": \"https://cdn.jsdelivr.net/npm//vega-lite@4.8.1?noext\",\n",
       "      \"vega-embed\": \"https://cdn.jsdelivr.net/npm//vega-embed@6?noext\",\n",
       "    };\n",
       "\n",
       "    function loadScript(lib) {\n",
       "      return new Promise(function(resolve, reject) {\n",
       "        var s = document.createElement('script');\n",
       "        s.src = paths[lib];\n",
       "        s.async = true;\n",
       "        s.onload = () => resolve(paths[lib]);\n",
       "        s.onerror = () => reject(`Error loading script: ${paths[lib]}`);\n",
       "        document.getElementsByTagName(\"head\")[0].appendChild(s);\n",
       "      });\n",
       "    }\n",
       "\n",
       "    function showError(err) {\n",
       "      outputDiv.innerHTML = `<div class=\"error\" style=\"color:red;\">${err}</div>`;\n",
       "      throw err;\n",
       "    }\n",
       "\n",
       "    function displayChart(vegaEmbed) {\n",
       "      vegaEmbed(outputDiv, spec, embedOpt)\n",
       "        .catch(err => showError(`Javascript Error: ${err.message}<br>This usually means there's a typo in your chart specification. See the javascript console for the full traceback.`));\n",
       "    }\n",
       "\n",
       "    if(typeof define === \"function\" && define.amd) {\n",
       "      requirejs.config({paths});\n",
       "      require([\"vega-embed\"], displayChart, err => showError(`Error loading script: ${err.message}`));\n",
       "    } else if (typeof vegaEmbed === \"function\") {\n",
       "      displayChart(vegaEmbed);\n",
       "    } else {\n",
       "      loadScript(\"vega\")\n",
       "        .then(() => loadScript(\"vega-lite\"))\n",
       "        .then(() => loadScript(\"vega-embed\"))\n",
       "        .catch(showError)\n",
       "        .then(() => displayChart(vegaEmbed));\n",
       "    }\n",
       "  })({\"config\": {\"view\": {\"continuousWidth\": 400, \"continuousHeight\": 300}}, \"hconcat\": [{\"data\": {\"name\": \"data-bb65c81fca3be5b39375fd4eeff0e88d\"}, \"mark\": \"rect\", \"encoding\": {\"color\": {\"condition\": {\"type\": \"nominal\", \"field\": \"REGIONID\", \"selection\": \"selector017\"}, \"value\": \"lightgray\"}, \"y\": {\"type\": \"nominal\", \"field\": \"REGIONID\"}}, \"selection\": {\"selector017\": {\"type\": \"multi\", \"fields\": [\"REGIONID\"]}}}, {\"data\": {\"name\": \"data-d80b6b228acfeb2225284cf7cff19e6b\"}, \"mark\": \"line\", \"encoding\": {\"color\": {\"type\": \"nominal\", \"field\": \"REGIONID\"}, \"x\": {\"type\": \"temporal\", \"field\": \"INTERVAL_DATETIME\"}, \"y\": {\"type\": \"quantitative\", \"field\": \"RRP\"}}, \"height\": 400, \"selection\": {\"selector018\": {\"type\": \"interval\", \"bind\": \"scales\", \"encodings\": [\"x\", \"y\"]}}, \"title\": \"30 Min NEM Prices - Interactive Chart\", \"transform\": [{\"filter\": {\"selection\": \"selector017\"}}], \"width\": 650}], \"$schema\": \"https://vega.github.io/schema/vega-lite/v4.8.1.json\", \"datasets\": {\"data-bb65c81fca3be5b39375fd4eeff0e88d\": [{\"REGIONID\": \"NSW1\"}, {\"REGIONID\": \"QLD1\"}, {\"REGIONID\": \"SA1\"}, {\"REGIONID\": \"VIC1\"}, {\"REGIONID\": \"TAS1\"}], \"data-d80b6b228acfeb2225284cf7cff19e6b\": [{\"INTERVAL_DATETIME\": \"2021-02-03T07:30:00\", \"REGIONID\": \"NSW1\", \"RRP\": 32.56}, {\"INTERVAL_DATETIME\": \"2021-02-03T07:30:00\", \"REGIONID\": \"QLD1\", \"RRP\": 31.3187}, {\"INTERVAL_DATETIME\": \"2021-02-03T07:30:00\", \"REGIONID\": \"SA1\", \"RRP\": 31.81599}, {\"INTERVAL_DATETIME\": \"2021-02-03T07:30:00\", \"REGIONID\": \"TAS1\", \"RRP\": 60.34}, {\"INTERVAL_DATETIME\": \"2021-02-03T07:30:00\", \"REGIONID\": \"VIC1\", \"RRP\": 28.96}, {\"INTERVAL_DATETIME\": \"2021-02-03T08:00:00\", \"REGIONID\": \"NSW1\", \"RRP\": 32.5603}, {\"INTERVAL_DATETIME\": \"2021-02-03T08:00:00\", \"REGIONID\": \"QLD1\", \"RRP\": 30.8486}, {\"INTERVAL_DATETIME\": \"2021-02-03T08:00:00\", \"REGIONID\": \"SA1\", \"RRP\": 22.44766}, {\"INTERVAL_DATETIME\": \"2021-02-03T08:00:00\", \"REGIONID\": \"TAS1\", \"RRP\": 30.75175}, {\"INTERVAL_DATETIME\": \"2021-02-03T08:00:00\", \"REGIONID\": \"VIC1\", \"RRP\": 20.95008}, {\"INTERVAL_DATETIME\": \"2021-02-03T08:30:00\", \"REGIONID\": \"NSW1\", \"RRP\": 32.5}, {\"INTERVAL_DATETIME\": \"2021-02-03T08:30:00\", \"REGIONID\": \"QLD1\", \"RRP\": 30.15}, {\"INTERVAL_DATETIME\": \"2021-02-03T08:30:00\", \"REGIONID\": \"SA1\", \"RRP\": 17.82984}, {\"INTERVAL_DATETIME\": \"2021-02-03T08:30:00\", \"REGIONID\": \"TAS1\", \"RRP\": 30.3}, {\"INTERVAL_DATETIME\": \"2021-02-03T08:30:00\", \"REGIONID\": \"VIC1\", \"RRP\": 18.1}, {\"INTERVAL_DATETIME\": \"2021-02-03T09:00:00\", \"REGIONID\": \"NSW1\", \"RRP\": 27.85471}, {\"INTERVAL_DATETIME\": \"2021-02-03T09:00:00\", \"REGIONID\": \"QLD1\", \"RRP\": 26.51}, {\"INTERVAL_DATETIME\": \"2021-02-03T09:00:00\", \"REGIONID\": \"SA1\", \"RRP\": 8.64115}, {\"INTERVAL_DATETIME\": \"2021-02-03T09:00:00\", \"REGIONID\": \"TAS1\", \"RRP\": 30.24}, {\"INTERVAL_DATETIME\": \"2021-02-03T09:00:00\", \"REGIONID\": \"VIC1\", \"RRP\": 8.95}, {\"INTERVAL_DATETIME\": \"2021-02-03T09:30:00\", \"REGIONID\": \"NSW1\", \"RRP\": 30.7813}, {\"INTERVAL_DATETIME\": \"2021-02-03T09:30:00\", \"REGIONID\": \"QLD1\", \"RRP\": 30.15}, {\"INTERVAL_DATETIME\": \"2021-02-03T09:30:00\", \"REGIONID\": \"SA1\", \"RRP\": 1.1502}, {\"INTERVAL_DATETIME\": \"2021-02-03T09:30:00\", \"REGIONID\": \"TAS1\", \"RRP\": 30.24}, {\"INTERVAL_DATETIME\": \"2021-02-03T09:30:00\", \"REGIONID\": \"VIC1\", \"RRP\": 1.20255}, {\"INTERVAL_DATETIME\": \"2021-02-03T10:00:00\", \"REGIONID\": \"NSW1\", \"RRP\": 24.80863}, {\"INTERVAL_DATETIME\": \"2021-02-03T10:00:00\", \"REGIONID\": \"QLD1\", \"RRP\": 25.0}, {\"INTERVAL_DATETIME\": \"2021-02-03T10:00:00\", \"REGIONID\": \"SA1\", \"RRP\": -3.60883}, {\"INTERVAL_DATETIME\": \"2021-02-03T10:00:00\", \"REGIONID\": \"TAS1\", \"RRP\": 30.22}, {\"INTERVAL_DATETIME\": \"2021-02-03T10:00:00\", \"REGIONID\": \"VIC1\", \"RRP\": -3.72591}, {\"INTERVAL_DATETIME\": \"2021-02-03T10:30:00\", \"REGIONID\": \"NSW1\", \"RRP\": 17.68061}, {\"INTERVAL_DATETIME\": \"2021-02-03T10:30:00\", \"REGIONID\": \"QLD1\", \"RRP\": 18.5}, {\"INTERVAL_DATETIME\": \"2021-02-03T10:30:00\", \"REGIONID\": \"SA1\", \"RRP\": -9.73654}, {\"INTERVAL_DATETIME\": \"2021-02-03T10:30:00\", \"REGIONID\": \"TAS1\", \"RRP\": 30.22}, {\"INTERVAL_DATETIME\": \"2021-02-03T10:30:00\", \"REGIONID\": \"VIC1\", \"RRP\": -9.82295}, {\"INTERVAL_DATETIME\": \"2021-02-03T11:00:00\", \"REGIONID\": \"NSW1\", \"RRP\": 17.56296}, {\"INTERVAL_DATETIME\": \"2021-02-03T11:00:00\", \"REGIONID\": \"QLD1\", \"RRP\": 18.5}, {\"INTERVAL_DATETIME\": \"2021-02-03T11:00:00\", \"REGIONID\": \"SA1\", \"RRP\": -3.1}, {\"INTERVAL_DATETIME\": \"2021-02-03T11:00:00\", \"REGIONID\": \"TAS1\", \"RRP\": 30.22}, {\"INTERVAL_DATETIME\": \"2021-02-03T11:00:00\", \"REGIONID\": \"VIC1\", \"RRP\": -3.15942}, {\"INTERVAL_DATETIME\": \"2021-02-03T11:30:00\", \"REGIONID\": \"NSW1\", \"RRP\": 12.57}, {\"INTERVAL_DATETIME\": \"2021-02-03T11:30:00\", \"REGIONID\": \"QLD1\", \"RRP\": 13.33595}, {\"INTERVAL_DATETIME\": \"2021-02-03T11:30:00\", \"REGIONID\": \"SA1\", \"RRP\": 8.73833}, {\"INTERVAL_DATETIME\": \"2021-02-03T11:30:00\", \"REGIONID\": \"TAS1\", \"RRP\": 30.2}, {\"INTERVAL_DATETIME\": \"2021-02-03T11:30:00\", \"REGIONID\": \"VIC1\", \"RRP\": 8.95}, {\"INTERVAL_DATETIME\": \"2021-02-03T12:00:00\", \"REGIONID\": \"NSW1\", \"RRP\": 12.57}, {\"INTERVAL_DATETIME\": \"2021-02-03T12:00:00\", \"REGIONID\": \"QLD1\", \"RRP\": 13.43884}, {\"INTERVAL_DATETIME\": \"2021-02-03T12:00:00\", \"REGIONID\": \"SA1\", \"RRP\": -13.82689}, {\"INTERVAL_DATETIME\": \"2021-02-03T12:00:00\", \"REGIONID\": \"TAS1\", \"RRP\": 30.22}, {\"INTERVAL_DATETIME\": \"2021-02-03T12:00:00\", \"REGIONID\": \"VIC1\", \"RRP\": -14.31621}, {\"INTERVAL_DATETIME\": \"2021-02-03T12:30:00\", \"REGIONID\": \"NSW1\", \"RRP\": 12.57}, {\"INTERVAL_DATETIME\": \"2021-02-03T12:30:00\", \"REGIONID\": \"QLD1\", \"RRP\": 13.85441}, {\"INTERVAL_DATETIME\": \"2021-02-03T12:30:00\", \"REGIONID\": \"SA1\", \"RRP\": -19.07666}, {\"INTERVAL_DATETIME\": \"2021-02-03T12:30:00\", \"REGIONID\": \"TAS1\", \"RRP\": 30.22}, {\"INTERVAL_DATETIME\": \"2021-02-03T12:30:00\", \"REGIONID\": \"VIC1\", \"RRP\": -19.64}, {\"INTERVAL_DATETIME\": \"2021-02-03T13:00:00\", \"REGIONID\": \"NSW1\", \"RRP\": 23.22254}, {\"INTERVAL_DATETIME\": \"2021-02-03T13:00:00\", \"REGIONID\": \"QLD1\", \"RRP\": 24.84}, {\"INTERVAL_DATETIME\": \"2021-02-03T13:00:00\", \"REGIONID\": \"SA1\", \"RRP\": -3.1}, {\"INTERVAL_DATETIME\": \"2021-02-03T13:00:00\", \"REGIONID\": \"TAS1\", \"RRP\": 30.2}, {\"INTERVAL_DATETIME\": \"2021-02-03T13:00:00\", \"REGIONID\": \"VIC1\", \"RRP\": -3.20935}, {\"INTERVAL_DATETIME\": \"2021-02-03T13:30:00\", \"REGIONID\": \"NSW1\", \"RRP\": 23.38164}, {\"INTERVAL_DATETIME\": \"2021-02-03T13:30:00\", \"REGIONID\": \"QLD1\", \"RRP\": 24.84}, {\"INTERVAL_DATETIME\": \"2021-02-03T13:30:00\", \"REGIONID\": \"SA1\", \"RRP\": 8.68982}, {\"INTERVAL_DATETIME\": \"2021-02-03T13:30:00\", \"REGIONID\": \"TAS1\", \"RRP\": 30.2}, {\"INTERVAL_DATETIME\": \"2021-02-03T13:30:00\", \"REGIONID\": \"VIC1\", \"RRP\": 8.95}, {\"INTERVAL_DATETIME\": \"2021-02-03T14:00:00\", \"REGIONID\": \"NSW1\", \"RRP\": 23.53165}, {\"INTERVAL_DATETIME\": \"2021-02-03T14:00:00\", \"REGIONID\": \"QLD1\", \"RRP\": 24.84}, {\"INTERVAL_DATETIME\": \"2021-02-03T14:00:00\", \"REGIONID\": \"SA1\", \"RRP\": 8.63743}, {\"INTERVAL_DATETIME\": \"2021-02-03T14:00:00\", \"REGIONID\": \"TAS1\", \"RRP\": 30.2}, {\"INTERVAL_DATETIME\": \"2021-02-03T14:00:00\", \"REGIONID\": \"VIC1\", \"RRP\": 8.95}, {\"INTERVAL_DATETIME\": \"2021-02-03T14:30:00\", \"REGIONID\": \"NSW1\", \"RRP\": 24.40325}, {\"INTERVAL_DATETIME\": \"2021-02-03T14:30:00\", \"REGIONID\": \"QLD1\", \"RRP\": 25.41}, {\"INTERVAL_DATETIME\": \"2021-02-03T14:30:00\", \"REGIONID\": \"SA1\", \"RRP\": 8.87414}, {\"INTERVAL_DATETIME\": \"2021-02-03T14:30:00\", \"REGIONID\": \"TAS1\", \"RRP\": 30.22}, {\"INTERVAL_DATETIME\": \"2021-02-03T14:30:00\", \"REGIONID\": \"VIC1\", \"RRP\": 8.95}, {\"INTERVAL_DATETIME\": \"2021-02-03T15:00:00\", \"REGIONID\": \"NSW1\", \"RRP\": 26.38182}, {\"INTERVAL_DATETIME\": \"2021-02-03T15:00:00\", \"REGIONID\": \"QLD1\", \"RRP\": 26.51}, {\"INTERVAL_DATETIME\": \"2021-02-03T15:00:00\", \"REGIONID\": \"SA1\", \"RRP\": 9.25979}, {\"INTERVAL_DATETIME\": \"2021-02-03T15:00:00\", \"REGIONID\": \"TAS1\", \"RRP\": 30.22}, {\"INTERVAL_DATETIME\": \"2021-02-03T15:00:00\", \"REGIONID\": \"VIC1\", \"RRP\": 8.95}, {\"INTERVAL_DATETIME\": \"2021-02-03T15:30:00\", \"REGIONID\": \"NSW1\", \"RRP\": 27.64277}, {\"INTERVAL_DATETIME\": \"2021-02-03T15:30:00\", \"REGIONID\": \"QLD1\", \"RRP\": 26.62004}, {\"INTERVAL_DATETIME\": \"2021-02-03T15:30:00\", \"REGIONID\": \"SA1\", \"RRP\": 9.35004}, {\"INTERVAL_DATETIME\": \"2021-02-03T15:30:00\", \"REGIONID\": \"TAS1\", \"RRP\": 30.22}, {\"INTERVAL_DATETIME\": \"2021-02-03T15:30:00\", \"REGIONID\": \"VIC1\", \"RRP\": 8.9501}, {\"INTERVAL_DATETIME\": \"2021-02-03T16:00:00\", \"REGIONID\": \"NSW1\", \"RRP\": 30.99177}, {\"INTERVAL_DATETIME\": \"2021-02-03T16:00:00\", \"REGIONID\": \"QLD1\", \"RRP\": 30.15}, {\"INTERVAL_DATETIME\": \"2021-02-03T16:00:00\", \"REGIONID\": \"SA1\", \"RRP\": 28.10244}, {\"INTERVAL_DATETIME\": \"2021-02-03T16:00:00\", \"REGIONID\": \"TAS1\", \"RRP\": 30.22}, {\"INTERVAL_DATETIME\": \"2021-02-03T16:00:00\", \"REGIONID\": \"VIC1\", \"RRP\": 26.50773}, {\"INTERVAL_DATETIME\": \"2021-02-03T16:30:00\", \"REGIONID\": \"NSW1\", \"RRP\": 32.56}, {\"INTERVAL_DATETIME\": \"2021-02-03T16:30:00\", \"REGIONID\": \"QLD1\", \"RRP\": 30.38144}, {\"INTERVAL_DATETIME\": \"2021-02-03T16:30:00\", \"REGIONID\": \"SA1\", \"RRP\": 48.0}, {\"INTERVAL_DATETIME\": \"2021-02-03T16:30:00\", \"REGIONID\": \"TAS1\", \"RRP\": 30.79953}, {\"INTERVAL_DATETIME\": \"2021-02-03T16:30:00\", \"REGIONID\": \"VIC1\", \"RRP\": 28.96}, {\"INTERVAL_DATETIME\": \"2021-02-03T17:00:00\", \"REGIONID\": \"NSW1\", \"RRP\": 32.56}, {\"INTERVAL_DATETIME\": \"2021-02-03T17:00:00\", \"REGIONID\": \"QLD1\", \"RRP\": 31.85449}, {\"INTERVAL_DATETIME\": \"2021-02-03T17:00:00\", \"REGIONID\": \"SA1\", \"RRP\": 60.44}, {\"INTERVAL_DATETIME\": \"2021-02-03T17:00:00\", \"REGIONID\": \"TAS1\", \"RRP\": 30.3}, {\"INTERVAL_DATETIME\": \"2021-02-03T17:00:00\", \"REGIONID\": \"VIC1\", \"RRP\": 29.40752}, {\"INTERVAL_DATETIME\": \"2021-02-03T17:30:00\", \"REGIONID\": \"NSW1\", \"RRP\": 35.47}, {\"INTERVAL_DATETIME\": \"2021-02-03T17:30:00\", \"REGIONID\": \"QLD1\", \"RRP\": 36.08314}, {\"INTERVAL_DATETIME\": \"2021-02-03T17:30:00\", \"REGIONID\": \"SA1\", \"RRP\": 60.44}, {\"INTERVAL_DATETIME\": \"2021-02-03T17:30:00\", \"REGIONID\": \"TAS1\", \"RRP\": 31.70601}, {\"INTERVAL_DATETIME\": \"2021-02-03T17:30:00\", \"REGIONID\": \"VIC1\", \"RRP\": 32.0112}, {\"INTERVAL_DATETIME\": \"2021-02-03T18:00:00\", \"REGIONID\": \"NSW1\", \"RRP\": 35.47}, {\"INTERVAL_DATETIME\": \"2021-02-03T18:00:00\", \"REGIONID\": \"QLD1\", \"RRP\": 37.01}, {\"INTERVAL_DATETIME\": \"2021-02-03T18:00:00\", \"REGIONID\": \"SA1\", \"RRP\": 62.0}, {\"INTERVAL_DATETIME\": \"2021-02-03T18:00:00\", \"REGIONID\": \"TAS1\", \"RRP\": 31.153}, {\"INTERVAL_DATETIME\": \"2021-02-03T18:00:00\", \"REGIONID\": \"VIC1\", \"RRP\": 31.37053}, {\"INTERVAL_DATETIME\": \"2021-02-03T18:30:00\", \"REGIONID\": \"NSW1\", \"RRP\": 35.48}, {\"INTERVAL_DATETIME\": \"2021-02-03T18:30:00\", \"REGIONID\": \"QLD1\", \"RRP\": 38.09908}, {\"INTERVAL_DATETIME\": \"2021-02-03T18:30:00\", \"REGIONID\": \"SA1\", \"RRP\": 249.0}, {\"INTERVAL_DATETIME\": \"2021-02-03T18:30:00\", \"REGIONID\": \"TAS1\", \"RRP\": 32.96862}, {\"INTERVAL_DATETIME\": \"2021-02-03T18:30:00\", \"REGIONID\": \"VIC1\", \"RRP\": 33.19883}, {\"INTERVAL_DATETIME\": \"2021-02-03T19:00:00\", \"REGIONID\": \"NSW1\", \"RRP\": 35.58}, {\"INTERVAL_DATETIME\": \"2021-02-03T19:00:00\", \"REGIONID\": \"QLD1\", \"RRP\": 40.73009}, {\"INTERVAL_DATETIME\": \"2021-02-03T19:00:00\", \"REGIONID\": \"SA1\", \"RRP\": 61.0}, {\"INTERVAL_DATETIME\": \"2021-02-03T19:00:00\", \"REGIONID\": \"TAS1\", \"RRP\": 33.85689}, {\"INTERVAL_DATETIME\": \"2021-02-03T19:00:00\", \"REGIONID\": \"VIC1\", \"RRP\": 34.0933}, {\"INTERVAL_DATETIME\": \"2021-02-03T19:30:00\", \"REGIONID\": \"NSW1\", \"RRP\": 35.58}, {\"INTERVAL_DATETIME\": \"2021-02-03T19:30:00\", \"REGIONID\": \"QLD1\", \"RRP\": 40.73009}, {\"INTERVAL_DATETIME\": \"2021-02-03T19:30:00\", \"REGIONID\": \"SA1\", \"RRP\": 62.0}, {\"INTERVAL_DATETIME\": \"2021-02-03T19:30:00\", \"REGIONID\": \"TAS1\", \"RRP\": 34.53582}, {\"INTERVAL_DATETIME\": \"2021-02-03T19:30:00\", \"REGIONID\": \"VIC1\", \"RRP\": 34.96}, {\"INTERVAL_DATETIME\": \"2021-02-03T20:00:00\", \"REGIONID\": \"NSW1\", \"RRP\": 35.58}, {\"INTERVAL_DATETIME\": \"2021-02-03T20:00:00\", \"REGIONID\": \"QLD1\", \"RRP\": 40.73009}, {\"INTERVAL_DATETIME\": \"2021-02-03T20:00:00\", \"REGIONID\": \"SA1\", \"RRP\": 62.0}, {\"INTERVAL_DATETIME\": \"2021-02-03T20:00:00\", \"REGIONID\": \"TAS1\", \"RRP\": 34.53582}, {\"INTERVAL_DATETIME\": \"2021-02-03T20:00:00\", \"REGIONID\": \"VIC1\", \"RRP\": 34.96}, {\"INTERVAL_DATETIME\": \"2021-02-03T20:30:00\", \"REGIONID\": \"NSW1\", \"RRP\": 35.58}, {\"INTERVAL_DATETIME\": \"2021-02-03T20:30:00\", \"REGIONID\": \"QLD1\", \"RRP\": 38.39821}, {\"INTERVAL_DATETIME\": \"2021-02-03T20:30:00\", \"REGIONID\": \"SA1\", \"RRP\": 62.0}, {\"INTERVAL_DATETIME\": \"2021-02-03T20:30:00\", \"REGIONID\": \"TAS1\", \"RRP\": 34.6267}, {\"INTERVAL_DATETIME\": \"2021-02-03T20:30:00\", \"REGIONID\": \"VIC1\", \"RRP\": 34.96}, {\"INTERVAL_DATETIME\": \"2021-02-03T21:00:00\", \"REGIONID\": \"NSW1\", \"RRP\": 35.48}, {\"INTERVAL_DATETIME\": \"2021-02-03T21:00:00\", \"REGIONID\": \"QLD1\", \"RRP\": 37.01}, {\"INTERVAL_DATETIME\": \"2021-02-03T21:00:00\", \"REGIONID\": \"SA1\", \"RRP\": 62.0}, {\"INTERVAL_DATETIME\": \"2021-02-03T21:00:00\", \"REGIONID\": \"TAS1\", \"RRP\": 34.71758}, {\"INTERVAL_DATETIME\": \"2021-02-03T21:00:00\", \"REGIONID\": \"VIC1\", \"RRP\": 34.96}, {\"INTERVAL_DATETIME\": \"2021-02-03T21:30:00\", \"REGIONID\": \"NSW1\", \"RRP\": 35.47}, {\"INTERVAL_DATETIME\": \"2021-02-03T21:30:00\", \"REGIONID\": \"QLD1\", \"RRP\": 35.34371}, {\"INTERVAL_DATETIME\": \"2021-02-03T21:30:00\", \"REGIONID\": \"SA1\", \"RRP\": 62.0}, {\"INTERVAL_DATETIME\": \"2021-02-03T21:30:00\", \"REGIONID\": \"TAS1\", \"RRP\": 34.20893}, {\"INTERVAL_DATETIME\": \"2021-02-03T21:30:00\", \"REGIONID\": \"VIC1\", \"RRP\": 34.17939}, {\"INTERVAL_DATETIME\": \"2021-02-03T22:00:00\", \"REGIONID\": \"NSW1\", \"RRP\": 32.56}, {\"INTERVAL_DATETIME\": \"2021-02-03T22:00:00\", \"REGIONID\": \"QLD1\", \"RRP\": 33.61015}, {\"INTERVAL_DATETIME\": \"2021-02-03T22:00:00\", \"REGIONID\": \"SA1\", \"RRP\": 61.0}, {\"INTERVAL_DATETIME\": \"2021-02-03T22:00:00\", \"REGIONID\": \"TAS1\", \"RRP\": 30.62175}, {\"INTERVAL_DATETIME\": \"2021-02-03T22:00:00\", \"REGIONID\": \"VIC1\", \"RRP\": 30.4372}, {\"INTERVAL_DATETIME\": \"2021-02-03T22:30:00\", \"REGIONID\": \"NSW1\", \"RRP\": 35.47}, {\"INTERVAL_DATETIME\": \"2021-02-03T22:30:00\", \"REGIONID\": \"QLD1\", \"RRP\": 36.55431}, {\"INTERVAL_DATETIME\": \"2021-02-03T22:30:00\", \"REGIONID\": \"SA1\", \"RRP\": 61.0}, {\"INTERVAL_DATETIME\": \"2021-02-03T22:30:00\", \"REGIONID\": \"TAS1\", \"RRP\": 34.10268}, {\"INTERVAL_DATETIME\": \"2021-02-03T22:30:00\", \"REGIONID\": \"VIC1\", \"RRP\": 34.43093}, {\"INTERVAL_DATETIME\": \"2021-02-03T23:00:00\", \"REGIONID\": \"NSW1\", \"RRP\": 35.46015}, {\"INTERVAL_DATETIME\": \"2021-02-03T23:00:00\", \"REGIONID\": \"QLD1\", \"RRP\": 36.20293}, {\"INTERVAL_DATETIME\": \"2021-02-03T23:00:00\", \"REGIONID\": \"SA1\", \"RRP\": 61.0}, {\"INTERVAL_DATETIME\": \"2021-02-03T23:00:00\", \"REGIONID\": \"TAS1\", \"RRP\": 33.62805}, {\"INTERVAL_DATETIME\": \"2021-02-03T23:00:00\", \"REGIONID\": \"VIC1\", \"RRP\": 34.04107}, {\"INTERVAL_DATETIME\": \"2021-02-03T23:30:00\", \"REGIONID\": \"NSW1\", \"RRP\": 35.47}, {\"INTERVAL_DATETIME\": \"2021-02-03T23:30:00\", \"REGIONID\": \"QLD1\", \"RRP\": 36.13253}, {\"INTERVAL_DATETIME\": \"2021-02-03T23:30:00\", \"REGIONID\": \"SA1\", \"RRP\": 60.44}, {\"INTERVAL_DATETIME\": \"2021-02-03T23:30:00\", \"REGIONID\": \"TAS1\", \"RRP\": 34.53582}, {\"INTERVAL_DATETIME\": \"2021-02-03T23:30:00\", \"REGIONID\": \"VIC1\", \"RRP\": 34.96}, {\"INTERVAL_DATETIME\": \"2021-02-04T00:00:00\", \"REGIONID\": \"NSW1\", \"RRP\": 35.47}, {\"INTERVAL_DATETIME\": \"2021-02-04T00:00:00\", \"REGIONID\": \"QLD1\", \"RRP\": 35.25}, {\"INTERVAL_DATETIME\": \"2021-02-04T00:00:00\", \"REGIONID\": \"SA1\", \"RRP\": 61.0}, {\"INTERVAL_DATETIME\": \"2021-02-04T00:00:00\", \"REGIONID\": \"TAS1\", \"RRP\": 34.69218}, {\"INTERVAL_DATETIME\": \"2021-02-04T00:00:00\", \"REGIONID\": \"VIC1\", \"RRP\": 35.11827}, {\"INTERVAL_DATETIME\": \"2021-02-04T00:30:00\", \"REGIONID\": \"NSW1\", \"RRP\": 35.47}, {\"INTERVAL_DATETIME\": \"2021-02-04T00:30:00\", \"REGIONID\": \"QLD1\", \"RRP\": 36.40118}, {\"INTERVAL_DATETIME\": \"2021-02-04T00:30:00\", \"REGIONID\": \"SA1\", \"RRP\": 61.0}, {\"INTERVAL_DATETIME\": \"2021-02-04T00:30:00\", \"REGIONID\": \"TAS1\", \"RRP\": 34.53582}, {\"INTERVAL_DATETIME\": \"2021-02-04T00:30:00\", \"REGIONID\": \"VIC1\", \"RRP\": 34.96}, {\"INTERVAL_DATETIME\": \"2021-02-04T01:00:00\", \"REGIONID\": \"NSW1\", \"RRP\": 35.47}, {\"INTERVAL_DATETIME\": \"2021-02-04T01:00:00\", \"REGIONID\": \"QLD1\", \"RRP\": 35.92977}, {\"INTERVAL_DATETIME\": \"2021-02-04T01:00:00\", \"REGIONID\": \"SA1\", \"RRP\": 62.0}, {\"INTERVAL_DATETIME\": \"2021-02-04T01:00:00\", \"REGIONID\": \"TAS1\", \"RRP\": 34.53582}, {\"INTERVAL_DATETIME\": \"2021-02-04T01:00:00\", \"REGIONID\": \"VIC1\", \"RRP\": 34.96}, {\"INTERVAL_DATETIME\": \"2021-02-04T01:30:00\", \"REGIONID\": \"NSW1\", \"RRP\": 35.47}, {\"INTERVAL_DATETIME\": \"2021-02-04T01:30:00\", \"REGIONID\": \"QLD1\", \"RRP\": 35.61604}, {\"INTERVAL_DATETIME\": \"2021-02-04T01:30:00\", \"REGIONID\": \"SA1\", \"RRP\": 62.0}, {\"INTERVAL_DATETIME\": \"2021-02-04T01:30:00\", \"REGIONID\": \"TAS1\", \"RRP\": 34.57009}, {\"INTERVAL_DATETIME\": \"2021-02-04T01:30:00\", \"REGIONID\": \"VIC1\", \"RRP\": 34.99469}, {\"INTERVAL_DATETIME\": \"2021-02-04T02:00:00\", \"REGIONID\": \"NSW1\", \"RRP\": 35.46}, {\"INTERVAL_DATETIME\": \"2021-02-04T02:00:00\", \"REGIONID\": \"QLD1\", \"RRP\": 35.25001}, {\"INTERVAL_DATETIME\": \"2021-02-04T02:00:00\", \"REGIONID\": \"SA1\", \"RRP\": 62.0}, {\"INTERVAL_DATETIME\": \"2021-02-04T02:00:00\", \"REGIONID\": \"TAS1\", \"RRP\": 34.46798}, {\"INTERVAL_DATETIME\": \"2021-02-04T02:00:00\", \"REGIONID\": \"VIC1\", \"RRP\": 34.89132}, {\"INTERVAL_DATETIME\": \"2021-02-04T02:30:00\", \"REGIONID\": \"NSW1\", \"RRP\": 35.43212}, {\"INTERVAL_DATETIME\": \"2021-02-04T02:30:00\", \"REGIONID\": \"QLD1\", \"RRP\": 35.25001}, {\"INTERVAL_DATETIME\": \"2021-02-04T02:30:00\", \"REGIONID\": \"SA1\", \"RRP\": 62.0}, {\"INTERVAL_DATETIME\": \"2021-02-04T02:30:00\", \"REGIONID\": \"TAS1\", \"RRP\": 33.64501}, {\"INTERVAL_DATETIME\": \"2021-02-04T02:30:00\", \"REGIONID\": \"VIC1\", \"RRP\": 34.14811}, {\"INTERVAL_DATETIME\": \"2021-02-04T03:00:00\", \"REGIONID\": \"NSW1\", \"RRP\": 35.46}, {\"INTERVAL_DATETIME\": \"2021-02-04T03:00:00\", \"REGIONID\": \"QLD1\", \"RRP\": 35.26172}, {\"INTERVAL_DATETIME\": \"2021-02-04T03:00:00\", \"REGIONID\": \"SA1\", \"RRP\": 62.0}, {\"INTERVAL_DATETIME\": \"2021-02-04T03:00:00\", \"REGIONID\": \"TAS1\", \"RRP\": 33.32286}, {\"INTERVAL_DATETIME\": \"2021-02-04T03:00:00\", \"REGIONID\": \"VIC1\", \"RRP\": 33.82114}, {\"INTERVAL_DATETIME\": \"2021-02-04T03:30:00\", \"REGIONID\": \"NSW1\", \"RRP\": 35.46}, {\"INTERVAL_DATETIME\": \"2021-02-04T03:30:00\", \"REGIONID\": \"QLD1\", \"RRP\": 35.25756}, {\"INTERVAL_DATETIME\": \"2021-02-04T03:30:00\", \"REGIONID\": \"SA1\", \"RRP\": 60.44}, {\"INTERVAL_DATETIME\": \"2021-02-04T03:30:00\", \"REGIONID\": \"TAS1\", \"RRP\": 33.63356}, {\"INTERVAL_DATETIME\": \"2021-02-04T03:30:00\", \"REGIONID\": \"VIC1\", \"RRP\": 33.77999}, {\"INTERVAL_DATETIME\": \"2021-02-04T04:00:00\", \"REGIONID\": \"NSW1\", \"RRP\": 35.46}, {\"INTERVAL_DATETIME\": \"2021-02-04T04:00:00\", \"REGIONID\": \"QLD1\", \"RRP\": 35.263}, {\"INTERVAL_DATETIME\": \"2021-02-04T04:00:00\", \"REGIONID\": \"SA1\", \"RRP\": 60.44}, {\"INTERVAL_DATETIME\": \"2021-02-04T04:00:00\", \"REGIONID\": \"TAS1\", \"RRP\": 33.59389}, {\"INTERVAL_DATETIME\": \"2021-02-04T04:00:00\", \"REGIONID\": \"VIC1\", \"RRP\": 33.74015}, {\"INTERVAL_DATETIME\": \"2021-02-04T04:30:00\", \"REGIONID\": \"NSW1\", \"RRP\": 35.48}, {\"INTERVAL_DATETIME\": \"2021-02-04T04:30:00\", \"REGIONID\": \"QLD1\", \"RRP\": 35.57558}, {\"INTERVAL_DATETIME\": \"2021-02-04T04:30:00\", \"REGIONID\": \"SA1\", \"RRP\": 60.44}, {\"INTERVAL_DATETIME\": \"2021-02-04T04:30:00\", \"REGIONID\": \"TAS1\", \"RRP\": 32.49067}, {\"INTERVAL_DATETIME\": \"2021-02-04T04:30:00\", \"REGIONID\": \"VIC1\", \"RRP\": 33.41734}, {\"INTERVAL_DATETIME\": \"2021-02-04T05:00:00\", \"REGIONID\": \"NSW1\", \"RRP\": 35.58}, {\"INTERVAL_DATETIME\": \"2021-02-04T05:00:00\", \"REGIONID\": \"QLD1\", \"RRP\": 36.25362}, {\"INTERVAL_DATETIME\": \"2021-02-04T05:00:00\", \"REGIONID\": \"SA1\", \"RRP\": 46.49}, {\"INTERVAL_DATETIME\": \"2021-02-04T05:00:00\", \"REGIONID\": \"TAS1\", \"RRP\": 32.06366}, {\"INTERVAL_DATETIME\": \"2021-02-04T05:00:00\", \"REGIONID\": \"VIC1\", \"RRP\": 33.5262}, {\"INTERVAL_DATETIME\": \"2021-02-04T05:30:00\", \"REGIONID\": \"NSW1\", \"RRP\": 39.15}, {\"INTERVAL_DATETIME\": \"2021-02-04T05:30:00\", \"REGIONID\": \"QLD1\", \"RRP\": 40.73003}, {\"INTERVAL_DATETIME\": \"2021-02-04T05:30:00\", \"REGIONID\": \"SA1\", \"RRP\": 60.19}, {\"INTERVAL_DATETIME\": \"2021-02-04T05:30:00\", \"REGIONID\": \"TAS1\", \"RRP\": 37.41558}, {\"INTERVAL_DATETIME\": \"2021-02-04T05:30:00\", \"REGIONID\": \"VIC1\", \"RRP\": 38.37323}, {\"INTERVAL_DATETIME\": \"2021-02-04T06:00:00\", \"REGIONID\": \"NSW1\", \"RRP\": 45.63033}, {\"INTERVAL_DATETIME\": \"2021-02-04T06:00:00\", \"REGIONID\": \"QLD1\", \"RRP\": 47.73006}, {\"INTERVAL_DATETIME\": \"2021-02-04T06:00:00\", \"REGIONID\": \"SA1\", \"RRP\": 56.85513}, {\"INTERVAL_DATETIME\": \"2021-02-04T06:00:00\", \"REGIONID\": \"TAS1\", \"RRP\": 43.72501}, {\"INTERVAL_DATETIME\": \"2021-02-04T06:00:00\", \"REGIONID\": \"VIC1\", \"RRP\": 44.85218}, {\"INTERVAL_DATETIME\": \"2021-02-04T06:30:00\", \"REGIONID\": \"NSW1\", \"RRP\": 41.55312}, {\"INTERVAL_DATETIME\": \"2021-02-04T06:30:00\", \"REGIONID\": \"QLD1\", \"RRP\": 40.73009}, {\"INTERVAL_DATETIME\": \"2021-02-04T06:30:00\", \"REGIONID\": \"SA1\", \"RRP\": 50.5114}, {\"INTERVAL_DATETIME\": \"2021-02-04T06:30:00\", \"REGIONID\": \"TAS1\", \"RRP\": 42.92099}, {\"INTERVAL_DATETIME\": \"2021-02-04T06:30:00\", \"REGIONID\": \"VIC1\", \"RRP\": 42.9956}, {\"INTERVAL_DATETIME\": \"2021-02-04T07:00:00\", \"REGIONID\": \"NSW1\", \"RRP\": 45.73857}, {\"INTERVAL_DATETIME\": \"2021-02-04T07:00:00\", \"REGIONID\": \"QLD1\", \"RRP\": 44.25001}, {\"INTERVAL_DATETIME\": \"2021-02-04T07:00:00\", \"REGIONID\": \"SA1\", \"RRP\": 54.53468}, {\"INTERVAL_DATETIME\": \"2021-02-04T07:00:00\", \"REGIONID\": \"TAS1\", \"RRP\": 48.32031}, {\"INTERVAL_DATETIME\": \"2021-02-04T07:00:00\", \"REGIONID\": \"VIC1\", \"RRP\": 47.90531}, {\"INTERVAL_DATETIME\": \"2021-02-04T07:30:00\", \"REGIONID\": \"NSW1\", \"RRP\": 35.96869}, {\"INTERVAL_DATETIME\": \"2021-02-04T07:30:00\", \"REGIONID\": \"QLD1\", \"RRP\": 35.25001}, {\"INTERVAL_DATETIME\": \"2021-02-04T07:30:00\", \"REGIONID\": \"SA1\", \"RRP\": 54.22}, {\"INTERVAL_DATETIME\": \"2021-02-04T07:30:00\", \"REGIONID\": \"TAS1\", \"RRP\": 35.17197}, {\"INTERVAL_DATETIME\": \"2021-02-04T07:30:00\", \"REGIONID\": \"VIC1\", \"RRP\": 34.96}, {\"INTERVAL_DATETIME\": \"2021-02-04T08:00:00\", \"REGIONID\": \"NSW1\", \"RRP\": 35.48}, {\"INTERVAL_DATETIME\": \"2021-02-04T08:00:00\", \"REGIONID\": \"QLD1\", \"RRP\": 33.58122}, {\"INTERVAL_DATETIME\": \"2021-02-04T08:00:00\", \"REGIONID\": \"SA1\", \"RRP\": 60.44}, {\"INTERVAL_DATETIME\": \"2021-02-04T08:00:00\", \"REGIONID\": \"TAS1\", \"RRP\": 34.99021}, {\"INTERVAL_DATETIME\": \"2021-02-04T08:00:00\", \"REGIONID\": \"VIC1\", \"RRP\": 34.96}, {\"INTERVAL_DATETIME\": \"2021-02-04T08:30:00\", \"REGIONID\": \"NSW1\", \"RRP\": 35.48}, {\"INTERVAL_DATETIME\": \"2021-02-04T08:30:00\", \"REGIONID\": \"QLD1\", \"RRP\": 32.64406}, {\"INTERVAL_DATETIME\": \"2021-02-04T08:30:00\", \"REGIONID\": \"SA1\", \"RRP\": 60.44}, {\"INTERVAL_DATETIME\": \"2021-02-04T08:30:00\", \"REGIONID\": \"TAS1\", \"RRP\": 35.32}, {\"INTERVAL_DATETIME\": \"2021-02-04T08:30:00\", \"REGIONID\": \"VIC1\", \"RRP\": 34.96}, {\"INTERVAL_DATETIME\": \"2021-02-04T09:00:00\", \"REGIONID\": \"NSW1\", \"RRP\": 35.46025}, {\"INTERVAL_DATETIME\": \"2021-02-04T09:00:00\", \"REGIONID\": \"QLD1\", \"RRP\": 32.52824}, {\"INTERVAL_DATETIME\": \"2021-02-04T09:00:00\", \"REGIONID\": \"SA1\", \"RRP\": 66.34}, {\"INTERVAL_DATETIME\": \"2021-02-04T09:00:00\", \"REGIONID\": \"TAS1\", \"RRP\": 35.17197}, {\"INTERVAL_DATETIME\": \"2021-02-04T09:00:00\", \"REGIONID\": \"VIC1\", \"RRP\": 34.96}, {\"INTERVAL_DATETIME\": \"2021-02-04T09:30:00\", \"REGIONID\": \"NSW1\", \"RRP\": 35.48}, {\"INTERVAL_DATETIME\": \"2021-02-04T09:30:00\", \"REGIONID\": \"QLD1\", \"RRP\": 33.74105}, {\"INTERVAL_DATETIME\": \"2021-02-04T09:30:00\", \"REGIONID\": \"SA1\", \"RRP\": 60.44}, {\"INTERVAL_DATETIME\": \"2021-02-04T09:30:00\", \"REGIONID\": \"TAS1\", \"RRP\": 36.35339}, {\"INTERVAL_DATETIME\": \"2021-02-04T09:30:00\", \"REGIONID\": \"VIC1\", \"RRP\": 34.96}, {\"INTERVAL_DATETIME\": \"2021-02-04T10:00:00\", \"REGIONID\": \"NSW1\", \"RRP\": 35.47}, {\"INTERVAL_DATETIME\": \"2021-02-04T10:00:00\", \"REGIONID\": \"QLD1\", \"RRP\": 33.20284}, {\"INTERVAL_DATETIME\": \"2021-02-04T10:00:00\", \"REGIONID\": \"SA1\", \"RRP\": 379.95}, {\"INTERVAL_DATETIME\": \"2021-02-04T10:00:00\", \"REGIONID\": \"TAS1\", \"RRP\": 36.02267}, {\"INTERVAL_DATETIME\": \"2021-02-04T10:00:00\", \"REGIONID\": \"VIC1\", \"RRP\": 34.81603}, {\"INTERVAL_DATETIME\": \"2021-02-04T10:30:00\", \"REGIONID\": \"NSW1\", \"RRP\": 34.36125}, {\"INTERVAL_DATETIME\": \"2021-02-04T10:30:00\", \"REGIONID\": \"QLD1\", \"RRP\": 31.43896}, {\"INTERVAL_DATETIME\": \"2021-02-04T10:30:00\", \"REGIONID\": \"SA1\", \"RRP\": 60.44}, {\"INTERVAL_DATETIME\": \"2021-02-04T10:30:00\", \"REGIONID\": \"TAS1\", \"RRP\": 33.61}, {\"INTERVAL_DATETIME\": \"2021-02-04T10:30:00\", \"REGIONID\": \"VIC1\", \"RRP\": 32.73087}, {\"INTERVAL_DATETIME\": \"2021-02-04T11:00:00\", \"REGIONID\": \"NSW1\", \"RRP\": 35.0106}, {\"INTERVAL_DATETIME\": \"2021-02-04T11:00:00\", \"REGIONID\": \"QLD1\", \"RRP\": 31.63161}, {\"INTERVAL_DATETIME\": \"2021-02-04T11:00:00\", \"REGIONID\": \"SA1\", \"RRP\": 38.73555}, {\"INTERVAL_DATETIME\": \"2021-02-04T11:00:00\", \"REGIONID\": \"TAS1\", \"RRP\": 35.80812}, {\"INTERVAL_DATETIME\": \"2021-02-04T11:00:00\", \"REGIONID\": \"VIC1\", \"RRP\": 34.96}, {\"INTERVAL_DATETIME\": \"2021-02-04T11:30:00\", \"REGIONID\": \"NSW1\", \"RRP\": 34.99}, {\"INTERVAL_DATETIME\": \"2021-02-04T11:30:00\", \"REGIONID\": \"QLD1\", \"RRP\": 30.84076}, {\"INTERVAL_DATETIME\": \"2021-02-04T11:30:00\", \"REGIONID\": \"SA1\", \"RRP\": 38.73924}, {\"INTERVAL_DATETIME\": \"2021-02-04T11:30:00\", \"REGIONID\": \"TAS1\", \"RRP\": 36.43051}, {\"INTERVAL_DATETIME\": \"2021-02-04T11:30:00\", \"REGIONID\": \"VIC1\", \"RRP\": 35.56765}, {\"INTERVAL_DATETIME\": \"2021-02-04T12:00:00\", \"REGIONID\": \"NSW1\", \"RRP\": 34.99}, {\"INTERVAL_DATETIME\": \"2021-02-04T12:00:00\", \"REGIONID\": \"QLD1\", \"RRP\": 30.85518}, {\"INTERVAL_DATETIME\": \"2021-02-04T12:00:00\", \"REGIONID\": \"SA1\", \"RRP\": 36.9743}, {\"INTERVAL_DATETIME\": \"2021-02-04T12:00:00\", \"REGIONID\": \"TAS1\", \"RRP\": 35.95074}, {\"INTERVAL_DATETIME\": \"2021-02-04T12:00:00\", \"REGIONID\": \"VIC1\", \"RRP\": 34.83403}, {\"INTERVAL_DATETIME\": \"2021-02-04T12:30:00\", \"REGIONID\": \"NSW1\", \"RRP\": 34.99}, {\"INTERVAL_DATETIME\": \"2021-02-04T12:30:00\", \"REGIONID\": \"QLD1\", \"RRP\": 31.09841}, {\"INTERVAL_DATETIME\": \"2021-02-04T12:30:00\", \"REGIONID\": \"SA1\", \"RRP\": 36.02192}, {\"INTERVAL_DATETIME\": \"2021-02-04T12:30:00\", \"REGIONID\": \"TAS1\", \"RRP\": 35.58278}, {\"INTERVAL_DATETIME\": \"2021-02-04T12:30:00\", \"REGIONID\": \"VIC1\", \"RRP\": 34.47749}, {\"INTERVAL_DATETIME\": \"2021-02-04T13:00:00\", \"REGIONID\": \"NSW1\", \"RRP\": 35.46}, {\"INTERVAL_DATETIME\": \"2021-02-04T13:00:00\", \"REGIONID\": \"QLD1\", \"RRP\": 32.00345}, {\"INTERVAL_DATETIME\": \"2021-02-04T13:00:00\", \"REGIONID\": \"SA1\", \"RRP\": 35.75454}, {\"INTERVAL_DATETIME\": \"2021-02-04T13:00:00\", \"REGIONID\": \"TAS1\", \"RRP\": 35.60548}, {\"INTERVAL_DATETIME\": \"2021-02-04T13:00:00\", \"REGIONID\": \"VIC1\", \"RRP\": 34.5866}, {\"INTERVAL_DATETIME\": \"2021-02-04T13:30:00\", \"REGIONID\": \"NSW1\", \"RRP\": 35.48}, {\"INTERVAL_DATETIME\": \"2021-02-04T13:30:00\", \"REGIONID\": \"QLD1\", \"RRP\": 32.53197}, {\"INTERVAL_DATETIME\": \"2021-02-04T13:30:00\", \"REGIONID\": \"SA1\", \"RRP\": 37.36473}, {\"INTERVAL_DATETIME\": \"2021-02-04T13:30:00\", \"REGIONID\": \"TAS1\", \"RRP\": 36.61146}, {\"INTERVAL_DATETIME\": \"2021-02-04T13:30:00\", \"REGIONID\": \"VIC1\", \"RRP\": 35.5638}, {\"INTERVAL_DATETIME\": \"2021-02-04T14:00:00\", \"REGIONID\": \"NSW1\", \"RRP\": 37.82567}, {\"INTERVAL_DATETIME\": \"2021-02-04T14:00:00\", \"REGIONID\": \"QLD1\", \"RRP\": 35.25001}, {\"INTERVAL_DATETIME\": \"2021-02-04T14:00:00\", \"REGIONID\": \"SA1\", \"RRP\": 42.03473}, {\"INTERVAL_DATETIME\": \"2021-02-04T14:00:00\", \"REGIONID\": \"TAS1\", \"RRP\": 40.53909}, {\"INTERVAL_DATETIME\": \"2021-02-04T14:00:00\", \"REGIONID\": \"VIC1\", \"RRP\": 39.37903}, {\"INTERVAL_DATETIME\": \"2021-02-04T14:30:00\", \"REGIONID\": \"NSW1\", \"RRP\": 39.15}, {\"INTERVAL_DATETIME\": \"2021-02-04T14:30:00\", \"REGIONID\": \"QLD1\", \"RRP\": 37.65013}, {\"INTERVAL_DATETIME\": \"2021-02-04T14:30:00\", \"REGIONID\": \"SA1\", \"RRP\": 44.38188}, {\"INTERVAL_DATETIME\": \"2021-02-04T14:30:00\", \"REGIONID\": \"TAS1\", \"RRP\": 38.96923}, {\"INTERVAL_DATETIME\": \"2021-02-04T14:30:00\", \"REGIONID\": \"VIC1\", \"RRP\": 40.52435}, {\"INTERVAL_DATETIME\": \"2021-02-04T15:00:00\", \"REGIONID\": \"NSW1\", \"RRP\": 49.9}, {\"INTERVAL_DATETIME\": \"2021-02-04T15:00:00\", \"REGIONID\": \"QLD1\", \"RRP\": 46.6829}, {\"INTERVAL_DATETIME\": \"2021-02-04T15:00:00\", \"REGIONID\": \"SA1\", \"RRP\": 60.44}, {\"INTERVAL_DATETIME\": \"2021-02-04T15:00:00\", \"REGIONID\": \"TAS1\", \"RRP\": 52.31772}, {\"INTERVAL_DATETIME\": \"2021-02-04T15:00:00\", \"REGIONID\": \"VIC1\", \"RRP\": 54.54892}, {\"INTERVAL_DATETIME\": \"2021-02-04T15:30:00\", \"REGIONID\": \"NSW1\", \"RRP\": 49.9}, {\"INTERVAL_DATETIME\": \"2021-02-04T15:30:00\", \"REGIONID\": \"QLD1\", \"RRP\": 46.45341}, {\"INTERVAL_DATETIME\": \"2021-02-04T15:30:00\", \"REGIONID\": \"SA1\", \"RRP\": 60.44}, {\"INTERVAL_DATETIME\": \"2021-02-04T15:30:00\", \"REGIONID\": \"TAS1\", \"RRP\": 43.04234}, {\"INTERVAL_DATETIME\": \"2021-02-04T15:30:00\", \"REGIONID\": \"VIC1\", \"RRP\": 46.08884}, {\"INTERVAL_DATETIME\": \"2021-02-04T16:00:00\", \"REGIONID\": \"NSW1\", \"RRP\": 60.62109}, {\"INTERVAL_DATETIME\": \"2021-02-04T16:00:00\", \"REGIONID\": \"QLD1\", \"RRP\": 54.94774}, {\"INTERVAL_DATETIME\": \"2021-02-04T16:00:00\", \"REGIONID\": \"SA1\", \"RRP\": 379.95}, {\"INTERVAL_DATETIME\": \"2021-02-04T16:00:00\", \"REGIONID\": \"TAS1\", \"RRP\": 51.50147}, {\"INTERVAL_DATETIME\": \"2021-02-04T16:00:00\", \"REGIONID\": \"VIC1\", \"RRP\": 55.0}, {\"INTERVAL_DATETIME\": \"2021-02-04T16:30:00\", \"REGIONID\": \"NSW1\", \"RRP\": 79.53822}, {\"INTERVAL_DATETIME\": \"2021-02-04T16:30:00\", \"REGIONID\": \"QLD1\", \"RRP\": 70.73002}, {\"INTERVAL_DATETIME\": \"2021-02-04T16:30:00\", \"REGIONID\": \"SA1\", \"RRP\": 66.87544}, {\"INTERVAL_DATETIME\": \"2021-02-04T16:30:00\", \"REGIONID\": \"TAS1\", \"RRP\": 55.29867}, {\"INTERVAL_DATETIME\": \"2021-02-04T16:30:00\", \"REGIONID\": \"VIC1\", \"RRP\": 59.83103}, {\"INTERVAL_DATETIME\": \"2021-02-04T17:00:00\", \"REGIONID\": \"NSW1\", \"RRP\": 299.6}, {\"INTERVAL_DATETIME\": \"2021-02-04T17:00:00\", \"REGIONID\": \"QLD1\", \"RRP\": 267.1645}, {\"INTERVAL_DATETIME\": \"2021-02-04T17:00:00\", \"REGIONID\": \"SA1\", \"RRP\": 243.43484}, {\"INTERVAL_DATETIME\": \"2021-02-04T17:00:00\", \"REGIONID\": \"TAS1\", \"RRP\": 203.44514}, {\"INTERVAL_DATETIME\": \"2021-02-04T17:00:00\", \"REGIONID\": \"VIC1\", \"RRP\": 222.37777}, {\"INTERVAL_DATETIME\": \"2021-02-04T17:30:00\", \"REGIONID\": \"NSW1\", \"RRP\": 299.6}, {\"INTERVAL_DATETIME\": \"2021-02-04T17:30:00\", \"REGIONID\": \"QLD1\", \"RRP\": 281.81685}, {\"INTERVAL_DATETIME\": \"2021-02-04T17:30:00\", \"REGIONID\": \"SA1\", \"RRP\": 228.33358}, {\"INTERVAL_DATETIME\": \"2021-02-04T17:30:00\", \"REGIONID\": \"TAS1\", \"RRP\": 193.4018}, {\"INTERVAL_DATETIME\": \"2021-02-04T17:30:00\", \"REGIONID\": \"VIC1\", \"RRP\": 211.94355}, {\"INTERVAL_DATETIME\": \"2021-02-04T18:00:00\", \"REGIONID\": \"NSW1\", \"RRP\": 299.6}, {\"INTERVAL_DATETIME\": \"2021-02-04T18:00:00\", \"REGIONID\": \"QLD1\", \"RRP\": 286.37119}, {\"INTERVAL_DATETIME\": \"2021-02-04T18:00:00\", \"REGIONID\": \"SA1\", \"RRP\": 228.75941}, {\"INTERVAL_DATETIME\": \"2021-02-04T18:00:00\", \"REGIONID\": \"TAS1\", \"RRP\": 195.84286}, {\"INTERVAL_DATETIME\": \"2021-02-04T18:00:00\", \"REGIONID\": \"VIC1\", \"RRP\": 215.71873}, {\"INTERVAL_DATETIME\": \"2021-02-04T18:30:00\", \"REGIONID\": \"NSW1\", \"RRP\": 299.6}, {\"INTERVAL_DATETIME\": \"2021-02-04T18:30:00\", \"REGIONID\": \"QLD1\", \"RRP\": 291.03}, {\"INTERVAL_DATETIME\": \"2021-02-04T18:30:00\", \"REGIONID\": \"SA1\", \"RRP\": 220.04115}, {\"INTERVAL_DATETIME\": \"2021-02-04T18:30:00\", \"REGIONID\": \"TAS1\", \"RRP\": 193.4018}, {\"INTERVAL_DATETIME\": \"2021-02-04T18:30:00\", \"REGIONID\": \"VIC1\", \"RRP\": 211.94355}, {\"INTERVAL_DATETIME\": \"2021-02-04T19:00:00\", \"REGIONID\": \"NSW1\", \"RRP\": 299.6}, {\"INTERVAL_DATETIME\": \"2021-02-04T19:00:00\", \"REGIONID\": \"QLD1\", \"RRP\": 296.4615}, {\"INTERVAL_DATETIME\": \"2021-02-04T19:00:00\", \"REGIONID\": \"SA1\", \"RRP\": 86.62414}, {\"INTERVAL_DATETIME\": \"2021-02-04T19:00:00\", \"REGIONID\": \"TAS1\", \"RRP\": 74.35294}, {\"INTERVAL_DATETIME\": \"2021-02-04T19:00:00\", \"REGIONID\": \"VIC1\", \"RRP\": 81.69653}, {\"INTERVAL_DATETIME\": \"2021-02-04T19:30:00\", \"REGIONID\": \"NSW1\", \"RRP\": 299.6}, {\"INTERVAL_DATETIME\": \"2021-02-04T19:30:00\", \"REGIONID\": \"QLD1\", \"RRP\": 297.38162}, {\"INTERVAL_DATETIME\": \"2021-02-04T19:30:00\", \"REGIONID\": \"SA1\", \"RRP\": 95.75122}, {\"INTERVAL_DATETIME\": \"2021-02-04T19:30:00\", \"REGIONID\": \"TAS1\", \"RRP\": 78.03384}, {\"INTERVAL_DATETIME\": \"2021-02-04T19:30:00\", \"REGIONID\": \"VIC1\", \"RRP\": 86.17885}, {\"INTERVAL_DATETIME\": \"2021-02-04T20:00:00\", \"REGIONID\": \"NSW1\", \"RRP\": 299.6}, {\"INTERVAL_DATETIME\": \"2021-02-04T20:00:00\", \"REGIONID\": \"QLD1\", \"RRP\": 301.49572}, {\"INTERVAL_DATETIME\": \"2021-02-04T20:00:00\", \"REGIONID\": \"SA1\", \"RRP\": 293.49504}, {\"INTERVAL_DATETIME\": \"2021-02-04T20:00:00\", \"REGIONID\": \"TAS1\", \"RRP\": 241.85078}, {\"INTERVAL_DATETIME\": \"2021-02-04T20:00:00\", \"REGIONID\": \"VIC1\", \"RRP\": 268.43152}, {\"INTERVAL_DATETIME\": \"2021-02-04T20:30:00\", \"REGIONID\": \"NSW1\", \"RRP\": 299.6}, {\"INTERVAL_DATETIME\": \"2021-02-04T20:30:00\", \"REGIONID\": \"QLD1\", \"RRP\": 291.03}, {\"INTERVAL_DATETIME\": \"2021-02-04T20:30:00\", \"REGIONID\": \"SA1\", \"RRP\": 302.25062}, {\"INTERVAL_DATETIME\": \"2021-02-04T20:30:00\", \"REGIONID\": \"TAS1\", \"RRP\": 239.15543}, {\"INTERVAL_DATETIME\": \"2021-02-04T20:30:00\", \"REGIONID\": \"VIC1\", \"RRP\": 266.78359}, {\"INTERVAL_DATETIME\": \"2021-02-04T21:00:00\", \"REGIONID\": \"NSW1\", \"RRP\": 204.27611}, {\"INTERVAL_DATETIME\": \"2021-02-04T21:00:00\", \"REGIONID\": \"QLD1\", \"RRP\": 200.11}, {\"INTERVAL_DATETIME\": \"2021-02-04T21:00:00\", \"REGIONID\": \"SA1\", \"RRP\": 83.85498}, {\"INTERVAL_DATETIME\": \"2021-02-04T21:00:00\", \"REGIONID\": \"TAS1\", \"RRP\": 50.18133}, {\"INTERVAL_DATETIME\": \"2021-02-04T21:00:00\", \"REGIONID\": \"VIC1\", \"RRP\": 55.0}, {\"INTERVAL_DATETIME\": \"2021-02-04T21:30:00\", \"REGIONID\": \"NSW1\", \"RRP\": 60.65162}, {\"INTERVAL_DATETIME\": \"2021-02-04T21:30:00\", \"REGIONID\": \"QLD1\", \"RRP\": 59.7}, {\"INTERVAL_DATETIME\": \"2021-02-04T21:30:00\", \"REGIONID\": \"SA1\", \"RRP\": 65.52592}, {\"INTERVAL_DATETIME\": \"2021-02-04T21:30:00\", \"REGIONID\": \"TAS1\", \"RRP\": 49.74249}, {\"INTERVAL_DATETIME\": \"2021-02-04T21:30:00\", \"REGIONID\": \"VIC1\", \"RRP\": 53.68077}, {\"INTERVAL_DATETIME\": \"2021-02-04T22:00:00\", \"REGIONID\": \"NSW1\", \"RRP\": 60.6594}, {\"INTERVAL_DATETIME\": \"2021-02-04T22:00:00\", \"REGIONID\": \"QLD1\", \"RRP\": 62.75922}, {\"INTERVAL_DATETIME\": \"2021-02-04T22:00:00\", \"REGIONID\": \"SA1\", \"RRP\": 68.41976}, {\"INTERVAL_DATETIME\": \"2021-02-04T22:00:00\", \"REGIONID\": \"TAS1\", \"RRP\": 58.78}, {\"INTERVAL_DATETIME\": \"2021-02-04T22:00:00\", \"REGIONID\": \"VIC1\", \"RRP\": 55.0}, {\"INTERVAL_DATETIME\": \"2021-02-04T22:30:00\", \"REGIONID\": \"NSW1\", \"RRP\": 55.26164}, {\"INTERVAL_DATETIME\": \"2021-02-04T22:30:00\", \"REGIONID\": \"QLD1\", \"RRP\": 58.8}, {\"INTERVAL_DATETIME\": \"2021-02-04T22:30:00\", \"REGIONID\": \"SA1\", \"RRP\": 65.66699}, {\"INTERVAL_DATETIME\": \"2021-02-04T22:30:00\", \"REGIONID\": \"TAS1\", \"RRP\": 58.0}, {\"INTERVAL_DATETIME\": \"2021-02-04T22:30:00\", \"REGIONID\": \"VIC1\", \"RRP\": 53.79634}, {\"INTERVAL_DATETIME\": \"2021-02-04T23:00:00\", \"REGIONID\": \"NSW1\", \"RRP\": 46.62099}, {\"INTERVAL_DATETIME\": \"2021-02-04T23:00:00\", \"REGIONID\": \"QLD1\", \"RRP\": 49.5}, {\"INTERVAL_DATETIME\": \"2021-02-04T23:00:00\", \"REGIONID\": \"SA1\", \"RRP\": 60.0}, {\"INTERVAL_DATETIME\": \"2021-02-04T23:00:00\", \"REGIONID\": \"TAS1\", \"RRP\": 58.0}, {\"INTERVAL_DATETIME\": \"2021-02-04T23:00:00\", \"REGIONID\": \"VIC1\", \"RRP\": 45.29633}, {\"INTERVAL_DATETIME\": \"2021-02-04T23:30:00\", \"REGIONID\": \"NSW1\", \"RRP\": 39.15}, {\"INTERVAL_DATETIME\": \"2021-02-04T23:30:00\", \"REGIONID\": \"QLD1\", \"RRP\": 41.15737}, {\"INTERVAL_DATETIME\": \"2021-02-04T23:30:00\", \"REGIONID\": \"SA1\", \"RRP\": 45.66308}, {\"INTERVAL_DATETIME\": \"2021-02-04T23:30:00\", \"REGIONID\": \"TAS1\", \"RRP\": 40.64401}, {\"INTERVAL_DATETIME\": \"2021-02-04T23:30:00\", \"REGIONID\": \"VIC1\", \"RRP\": 37.40854}, {\"INTERVAL_DATETIME\": \"2021-02-05T00:00:00\", \"REGIONID\": \"NSW1\", \"RRP\": 39.15}, {\"INTERVAL_DATETIME\": \"2021-02-05T00:00:00\", \"REGIONID\": \"QLD1\", \"RRP\": 39.85178}, {\"INTERVAL_DATETIME\": \"2021-02-05T00:00:00\", \"REGIONID\": \"SA1\", \"RRP\": 60.44}, {\"INTERVAL_DATETIME\": \"2021-02-05T00:00:00\", \"REGIONID\": \"TAS1\", \"RRP\": 39.10845}, {\"INTERVAL_DATETIME\": \"2021-02-05T00:00:00\", \"REGIONID\": \"VIC1\", \"RRP\": 37.38408}, {\"INTERVAL_DATETIME\": \"2021-02-05T00:30:00\", \"REGIONID\": \"NSW1\", \"RRP\": 39.15}, {\"INTERVAL_DATETIME\": \"2021-02-05T00:30:00\", \"REGIONID\": \"QLD1\", \"RRP\": 40.98616}, {\"INTERVAL_DATETIME\": \"2021-02-05T00:30:00\", \"REGIONID\": \"SA1\", \"RRP\": 44.32152}, {\"INTERVAL_DATETIME\": \"2021-02-05T00:30:00\", \"REGIONID\": \"TAS1\", \"RRP\": 37.99545}, {\"INTERVAL_DATETIME\": \"2021-02-05T00:30:00\", \"REGIONID\": \"VIC1\", \"RRP\": 36.3095}, {\"INTERVAL_DATETIME\": \"2021-02-05T01:00:00\", \"REGIONID\": \"NSW1\", \"RRP\": 35.48}, {\"INTERVAL_DATETIME\": \"2021-02-05T01:00:00\", \"REGIONID\": \"QLD1\", \"RRP\": 36.53073}, {\"INTERVAL_DATETIME\": \"2021-02-05T01:00:00\", \"REGIONID\": \"SA1\", \"RRP\": 35.74864}, {\"INTERVAL_DATETIME\": \"2021-02-05T01:00:00\", \"REGIONID\": \"TAS1\", \"RRP\": 33.53756}, {\"INTERVAL_DATETIME\": \"2021-02-05T01:00:00\", \"REGIONID\": \"VIC1\", \"RRP\": 32.17168}, {\"INTERVAL_DATETIME\": \"2021-02-05T01:30:00\", \"REGIONID\": \"NSW1\", \"RRP\": 35.48}, {\"INTERVAL_DATETIME\": \"2021-02-05T01:30:00\", \"REGIONID\": \"QLD1\", \"RRP\": 36.41144}, {\"INTERVAL_DATETIME\": \"2021-02-05T01:30:00\", \"REGIONID\": \"SA1\", \"RRP\": 34.4051}, {\"INTERVAL_DATETIME\": \"2021-02-05T01:30:00\", \"REGIONID\": \"TAS1\", \"RRP\": 33.14}, {\"INTERVAL_DATETIME\": \"2021-02-05T01:30:00\", \"REGIONID\": \"VIC1\", \"RRP\": 31.74551}, {\"INTERVAL_DATETIME\": \"2021-02-05T02:00:00\", \"REGIONID\": \"NSW1\", \"RRP\": 35.4598}, {\"INTERVAL_DATETIME\": \"2021-02-05T02:00:00\", \"REGIONID\": \"QLD1\", \"RRP\": 35.88177}, {\"INTERVAL_DATETIME\": \"2021-02-05T02:00:00\", \"REGIONID\": \"SA1\", \"RRP\": 31.91977}, {\"INTERVAL_DATETIME\": \"2021-02-05T02:00:00\", \"REGIONID\": \"TAS1\", \"RRP\": 33.14}, {\"INTERVAL_DATETIME\": \"2021-02-05T02:00:00\", \"REGIONID\": \"VIC1\", \"RRP\": 30.05581}, {\"INTERVAL_DATETIME\": \"2021-02-05T02:30:00\", \"REGIONID\": \"NSW1\", \"RRP\": 35.46}, {\"INTERVAL_DATETIME\": \"2021-02-05T02:30:00\", \"REGIONID\": \"QLD1\", \"RRP\": 35.58955}, {\"INTERVAL_DATETIME\": \"2021-02-05T02:30:00\", \"REGIONID\": \"SA1\", \"RRP\": 19.09923}, {\"INTERVAL_DATETIME\": \"2021-02-05T02:30:00\", \"REGIONID\": \"TAS1\", \"RRP\": 28.89175}, {\"INTERVAL_DATETIME\": \"2021-02-05T02:30:00\", \"REGIONID\": \"VIC1\", \"RRP\": 17.97}, {\"INTERVAL_DATETIME\": \"2021-02-05T03:00:00\", \"REGIONID\": \"NSW1\", \"RRP\": 35.46}, {\"INTERVAL_DATETIME\": \"2021-02-05T03:00:00\", \"REGIONID\": \"QLD1\", \"RRP\": 35.30676}, {\"INTERVAL_DATETIME\": \"2021-02-05T03:00:00\", \"REGIONID\": \"SA1\", \"RRP\": 10.06824}, {\"INTERVAL_DATETIME\": \"2021-02-05T03:00:00\", \"REGIONID\": \"TAS1\", \"RRP\": 31.45588}, {\"INTERVAL_DATETIME\": \"2021-02-05T03:00:00\", \"REGIONID\": \"VIC1\", \"RRP\": 9.1801}, {\"INTERVAL_DATETIME\": \"2021-02-05T03:30:00\", \"REGIONID\": \"NSW1\", \"RRP\": 35.46}, {\"INTERVAL_DATETIME\": \"2021-02-05T03:30:00\", \"REGIONID\": \"QLD1\", \"RRP\": 35.3013}, {\"INTERVAL_DATETIME\": \"2021-02-05T03:30:00\", \"REGIONID\": \"SA1\", \"RRP\": 9.81393}, {\"INTERVAL_DATETIME\": \"2021-02-05T03:30:00\", \"REGIONID\": \"TAS1\", \"RRP\": 36.45587}, {\"INTERVAL_DATETIME\": \"2021-02-05T03:30:00\", \"REGIONID\": \"VIC1\", \"RRP\": 9.04}, {\"INTERVAL_DATETIME\": \"2021-02-05T04:00:00\", \"REGIONID\": \"NSW1\", \"RRP\": 35.46}, {\"INTERVAL_DATETIME\": \"2021-02-05T04:00:00\", \"REGIONID\": \"QLD1\", \"RRP\": 35.30635}, {\"INTERVAL_DATETIME\": \"2021-02-05T04:00:00\", \"REGIONID\": \"SA1\", \"RRP\": 9.78647}, {\"INTERVAL_DATETIME\": \"2021-02-05T04:00:00\", \"REGIONID\": \"TAS1\", \"RRP\": 35.34}, {\"INTERVAL_DATETIME\": \"2021-02-05T04:00:00\", \"REGIONID\": \"VIC1\", \"RRP\": 9.04}, {\"INTERVAL_DATETIME\": \"2021-02-05T04:30:00\", \"REGIONID\": \"NSW1\", \"RRP\": 35.47}, {\"INTERVAL_DATETIME\": \"2021-02-05T04:30:00\", \"REGIONID\": \"QLD1\", \"RRP\": 35.61033}, {\"INTERVAL_DATETIME\": \"2021-02-05T04:30:00\", \"REGIONID\": \"SA1\", \"RRP\": 9.97865}, {\"INTERVAL_DATETIME\": \"2021-02-05T04:30:00\", \"REGIONID\": \"TAS1\", \"RRP\": 35.34}, {\"INTERVAL_DATETIME\": \"2021-02-05T04:30:00\", \"REGIONID\": \"VIC1\", \"RRP\": 9.19}, {\"INTERVAL_DATETIME\": \"2021-02-05T05:00:00\", \"REGIONID\": \"NSW1\", \"RRP\": 35.48}, {\"INTERVAL_DATETIME\": \"2021-02-05T05:00:00\", \"REGIONID\": \"QLD1\", \"RRP\": 36.19828}, {\"INTERVAL_DATETIME\": \"2021-02-05T05:00:00\", \"REGIONID\": \"SA1\", \"RRP\": 25.90283}, {\"INTERVAL_DATETIME\": \"2021-02-05T05:00:00\", \"REGIONID\": \"TAS1\", \"RRP\": 35.34}, {\"INTERVAL_DATETIME\": \"2021-02-05T05:00:00\", \"REGIONID\": \"VIC1\", \"RRP\": 24.89325}, {\"INTERVAL_DATETIME\": \"2021-02-05T05:30:00\", \"REGIONID\": \"NSW1\", \"RRP\": 39.15}, {\"INTERVAL_DATETIME\": \"2021-02-05T05:30:00\", \"REGIONID\": \"QLD1\", \"RRP\": 40.73003}, {\"INTERVAL_DATETIME\": \"2021-02-05T05:30:00\", \"REGIONID\": \"SA1\", \"RRP\": 36.75231}, {\"INTERVAL_DATETIME\": \"2021-02-05T05:30:00\", \"REGIONID\": \"TAS1\", \"RRP\": 36.52087}, {\"INTERVAL_DATETIME\": \"2021-02-05T05:30:00\", \"REGIONID\": \"VIC1\", \"RRP\": 34.96}, {\"INTERVAL_DATETIME\": \"2021-02-05T06:00:00\", \"REGIONID\": \"NSW1\", \"RRP\": 42.02117}, {\"INTERVAL_DATETIME\": \"2021-02-05T06:00:00\", \"REGIONID\": \"QLD1\", \"RRP\": 44.35}, {\"INTERVAL_DATETIME\": \"2021-02-05T06:00:00\", \"REGIONID\": \"SA1\", \"RRP\": 37.69801}, {\"INTERVAL_DATETIME\": \"2021-02-05T06:00:00\", \"REGIONID\": \"TAS1\", \"RRP\": 34.53582}, {\"INTERVAL_DATETIME\": \"2021-02-05T06:00:00\", \"REGIONID\": \"VIC1\", \"RRP\": 34.96}, {\"INTERVAL_DATETIME\": \"2021-02-05T06:30:00\", \"REGIONID\": \"NSW1\", \"RRP\": 46.08838}, {\"INTERVAL_DATETIME\": \"2021-02-05T06:30:00\", \"REGIONID\": \"QLD1\", \"RRP\": 44.25}, {\"INTERVAL_DATETIME\": \"2021-02-05T06:30:00\", \"REGIONID\": \"SA1\", \"RRP\": 46.51645}, {\"INTERVAL_DATETIME\": \"2021-02-05T06:30:00\", \"REGIONID\": \"TAS1\", \"RRP\": 41.86485}, {\"INTERVAL_DATETIME\": \"2021-02-05T06:30:00\", \"REGIONID\": \"VIC1\", \"RRP\": 42.49085}, {\"INTERVAL_DATETIME\": \"2021-02-05T07:00:00\", \"REGIONID\": \"NSW1\", \"RRP\": 49.9}, {\"INTERVAL_DATETIME\": \"2021-02-05T07:00:00\", \"REGIONID\": \"QLD1\", \"RRP\": 47.61232}, {\"INTERVAL_DATETIME\": \"2021-02-05T07:00:00\", \"REGIONID\": \"SA1\", \"RRP\": 53.52985}, {\"INTERVAL_DATETIME\": \"2021-02-05T07:00:00\", \"REGIONID\": \"TAS1\", \"RRP\": 47.97729}, {\"INTERVAL_DATETIME\": \"2021-02-05T07:00:00\", \"REGIONID\": \"VIC1\", \"RRP\": 48.3123}, {\"INTERVAL_DATETIME\": \"2021-02-05T07:30:00\", \"REGIONID\": \"NSW1\", \"RRP\": 45.92112}, {\"INTERVAL_DATETIME\": \"2021-02-05T07:30:00\", \"REGIONID\": \"QLD1\", \"RRP\": 44.25}, {\"INTERVAL_DATETIME\": \"2021-02-05T07:30:00\", \"REGIONID\": \"SA1\", \"RRP\": 37.28715}, {\"INTERVAL_DATETIME\": \"2021-02-05T07:30:00\", \"REGIONID\": \"TAS1\", \"RRP\": 34.71758}, {\"INTERVAL_DATETIME\": \"2021-02-05T07:30:00\", \"REGIONID\": \"VIC1\", \"RRP\": 34.96}, {\"INTERVAL_DATETIME\": \"2021-02-05T08:00:00\", \"REGIONID\": \"NSW1\", \"RRP\": 42.26586}, {\"INTERVAL_DATETIME\": \"2021-02-05T08:00:00\", \"REGIONID\": \"QLD1\", \"RRP\": 40.73009}, {\"INTERVAL_DATETIME\": \"2021-02-05T08:00:00\", \"REGIONID\": \"SA1\", \"RRP\": 35.0132}, {\"INTERVAL_DATETIME\": \"2021-02-05T08:00:00\", \"REGIONID\": \"TAS1\", \"RRP\": 34.44494}, {\"INTERVAL_DATETIME\": \"2021-02-05T08:00:00\", \"REGIONID\": \"VIC1\", \"RRP\": 34.96}, {\"INTERVAL_DATETIME\": \"2021-02-05T08:30:00\", \"REGIONID\": \"NSW1\", \"RRP\": 39.15}, {\"INTERVAL_DATETIME\": \"2021-02-05T08:30:00\", \"REGIONID\": \"QLD1\", \"RRP\": 37.16659}, {\"INTERVAL_DATETIME\": \"2021-02-05T08:30:00\", \"REGIONID\": \"SA1\", \"RRP\": 33.18255}, {\"INTERVAL_DATETIME\": \"2021-02-05T08:30:00\", \"REGIONID\": \"TAS1\", \"RRP\": 34.44494}, {\"INTERVAL_DATETIME\": \"2021-02-05T08:30:00\", \"REGIONID\": \"VIC1\", \"RRP\": 34.96}, {\"INTERVAL_DATETIME\": \"2021-02-05T09:00:00\", \"REGIONID\": \"NSW1\", \"RRP\": 39.15}, {\"INTERVAL_DATETIME\": \"2021-02-05T09:00:00\", \"REGIONID\": \"QLD1\", \"RRP\": 37.13925}, {\"INTERVAL_DATETIME\": \"2021-02-05T09:00:00\", \"REGIONID\": \"SA1\", \"RRP\": 31.76668}, {\"INTERVAL_DATETIME\": \"2021-02-05T09:00:00\", \"REGIONID\": \"TAS1\", \"RRP\": 34.80846}, {\"INTERVAL_DATETIME\": \"2021-02-05T09:00:00\", \"REGIONID\": \"VIC1\", \"RRP\": 34.96}, {\"INTERVAL_DATETIME\": \"2021-02-05T09:30:00\", \"REGIONID\": \"NSW1\", \"RRP\": 39.15}, {\"INTERVAL_DATETIME\": \"2021-02-05T09:30:00\", \"REGIONID\": \"QLD1\", \"RRP\": 37.95148}, {\"INTERVAL_DATETIME\": \"2021-02-05T09:30:00\", \"REGIONID\": \"SA1\", \"RRP\": 30.90034}, {\"INTERVAL_DATETIME\": \"2021-02-05T09:30:00\", \"REGIONID\": \"TAS1\", \"RRP\": 35.08698}, {\"INTERVAL_DATETIME\": \"2021-02-05T09:30:00\", \"REGIONID\": \"VIC1\", \"RRP\": 35.14797}, {\"INTERVAL_DATETIME\": \"2021-02-05T10:00:00\", \"REGIONID\": \"NSW1\", \"RRP\": 39.15}, {\"INTERVAL_DATETIME\": \"2021-02-05T10:00:00\", \"REGIONID\": \"QLD1\", \"RRP\": 36.81459}, {\"INTERVAL_DATETIME\": \"2021-02-05T10:00:00\", \"REGIONID\": \"SA1\", \"RRP\": 30.42592}, {\"INTERVAL_DATETIME\": \"2021-02-05T10:00:00\", \"REGIONID\": \"TAS1\", \"RRP\": 34.72999}, {\"INTERVAL_DATETIME\": \"2021-02-05T10:00:00\", \"REGIONID\": \"VIC1\", \"RRP\": 34.9725}, {\"INTERVAL_DATETIME\": \"2021-02-05T10:30:00\", \"REGIONID\": \"NSW1\", \"RRP\": 39.15}, {\"INTERVAL_DATETIME\": \"2021-02-05T10:30:00\", \"REGIONID\": \"QLD1\", \"RRP\": 36.26076}, {\"INTERVAL_DATETIME\": \"2021-02-05T10:30:00\", \"REGIONID\": \"SA1\", \"RRP\": -190.0}, {\"INTERVAL_DATETIME\": \"2021-02-05T10:30:00\", \"REGIONID\": \"TAS1\", \"RRP\": 37.62025}, {\"INTERVAL_DATETIME\": \"2021-02-05T10:30:00\", \"REGIONID\": \"VIC1\", \"RRP\": 36.1783}, {\"INTERVAL_DATETIME\": \"2021-02-05T11:00:00\", \"REGIONID\": \"NSW1\", \"RRP\": 39.15}, {\"INTERVAL_DATETIME\": \"2021-02-05T11:00:00\", \"REGIONID\": \"QLD1\", \"RRP\": 35.98407}, {\"INTERVAL_DATETIME\": \"2021-02-05T11:00:00\", \"REGIONID\": \"SA1\", \"RRP\": -200.0}, {\"INTERVAL_DATETIME\": \"2021-02-05T11:00:00\", \"REGIONID\": \"TAS1\", \"RRP\": 37.41101}, {\"INTERVAL_DATETIME\": \"2021-02-05T11:00:00\", \"REGIONID\": \"VIC1\", \"RRP\": 36.06724}, {\"INTERVAL_DATETIME\": \"2021-02-05T11:30:00\", \"REGIONID\": \"NSW1\", \"RRP\": 39.15}, {\"INTERVAL_DATETIME\": \"2021-02-05T11:30:00\", \"REGIONID\": \"QLD1\", \"RRP\": 35.25}, {\"INTERVAL_DATETIME\": \"2021-02-05T11:30:00\", \"REGIONID\": \"SA1\", \"RRP\": -200.0}, {\"INTERVAL_DATETIME\": \"2021-02-05T11:30:00\", \"REGIONID\": \"TAS1\", \"RRP\": 38.69921}, {\"INTERVAL_DATETIME\": \"2021-02-05T11:30:00\", \"REGIONID\": \"VIC1\", \"RRP\": 37.40291}, {\"INTERVAL_DATETIME\": \"2021-02-05T12:00:00\", \"REGIONID\": \"NSW1\", \"RRP\": 39.15}, {\"INTERVAL_DATETIME\": \"2021-02-05T12:00:00\", \"REGIONID\": \"QLD1\", \"RRP\": 35.25}, {\"INTERVAL_DATETIME\": \"2021-02-05T12:00:00\", \"REGIONID\": \"SA1\", \"RRP\": -649.33}, {\"INTERVAL_DATETIME\": \"2021-02-05T12:00:00\", \"REGIONID\": \"TAS1\", \"RRP\": 39.19644}, {\"INTERVAL_DATETIME\": \"2021-02-05T12:00:00\", \"REGIONID\": \"VIC1\", \"RRP\": 37.78854}, {\"INTERVAL_DATETIME\": \"2021-02-05T12:30:00\", \"REGIONID\": \"NSW1\", \"RRP\": 43.02}, {\"INTERVAL_DATETIME\": \"2021-02-05T12:30:00\", \"REGIONID\": \"QLD1\", \"RRP\": 38.7206}, {\"INTERVAL_DATETIME\": \"2021-02-05T12:30:00\", \"REGIONID\": \"SA1\", \"RRP\": -649.33}, {\"INTERVAL_DATETIME\": \"2021-02-05T12:30:00\", \"REGIONID\": \"TAS1\", \"RRP\": 43.32582}, {\"INTERVAL_DATETIME\": \"2021-02-05T12:30:00\", \"REGIONID\": \"VIC1\", \"RRP\": 41.87454}, {\"INTERVAL_DATETIME\": \"2021-02-05T13:00:00\", \"REGIONID\": \"NSW1\", \"RRP\": 49.9}, {\"INTERVAL_DATETIME\": \"2021-02-05T13:00:00\", \"REGIONID\": \"QLD1\", \"RRP\": 44.28723}, {\"INTERVAL_DATETIME\": \"2021-02-05T13:00:00\", \"REGIONID\": \"SA1\", \"RRP\": -999.99844}, {\"INTERVAL_DATETIME\": \"2021-02-05T13:00:00\", \"REGIONID\": \"TAS1\", \"RRP\": 50.75191}, {\"INTERVAL_DATETIME\": \"2021-02-05T13:00:00\", \"REGIONID\": \"VIC1\", \"RRP\": 48.92896}, {\"INTERVAL_DATETIME\": \"2021-02-05T13:30:00\", \"REGIONID\": \"NSW1\", \"RRP\": 44.95}, {\"INTERVAL_DATETIME\": \"2021-02-05T13:30:00\", \"REGIONID\": \"QLD1\", \"RRP\": 40.83013}, {\"INTERVAL_DATETIME\": \"2021-02-05T13:30:00\", \"REGIONID\": \"SA1\", \"RRP\": -999.99844}, {\"INTERVAL_DATETIME\": \"2021-02-05T13:30:00\", \"REGIONID\": \"TAS1\", \"RRP\": 41.40883}, {\"INTERVAL_DATETIME\": \"2021-02-05T13:30:00\", \"REGIONID\": \"VIC1\", \"RRP\": 41.91742}, {\"INTERVAL_DATETIME\": \"2021-02-05T14:00:00\", \"REGIONID\": \"NSW1\", \"RRP\": 49.9}, {\"INTERVAL_DATETIME\": \"2021-02-05T14:00:00\", \"REGIONID\": \"QLD1\", \"RRP\": 45.72517}, {\"INTERVAL_DATETIME\": \"2021-02-05T14:00:00\", \"REGIONID\": \"SA1\", \"RRP\": -879.21426}, {\"INTERVAL_DATETIME\": \"2021-02-05T14:00:00\", \"REGIONID\": \"TAS1\", \"RRP\": 35.22}, {\"INTERVAL_DATETIME\": \"2021-02-05T14:00:00\", \"REGIONID\": \"VIC1\", \"RRP\": 36.32162}, {\"INTERVAL_DATETIME\": \"2021-02-05T14:30:00\", \"REGIONID\": \"NSW1\", \"RRP\": 51.63248}, {\"INTERVAL_DATETIME\": \"2021-02-05T14:30:00\", \"REGIONID\": \"QLD1\", \"RRP\": 47.73006}, {\"INTERVAL_DATETIME\": \"2021-02-05T14:30:00\", \"REGIONID\": \"SA1\", \"RRP\": -896.54082}, {\"INTERVAL_DATETIME\": \"2021-02-05T14:30:00\", \"REGIONID\": \"TAS1\", \"RRP\": 35.22}, {\"INTERVAL_DATETIME\": \"2021-02-05T14:30:00\", \"REGIONID\": \"VIC1\", \"RRP\": 36.22451}, {\"INTERVAL_DATETIME\": \"2021-02-05T15:00:00\", \"REGIONID\": \"NSW1\", \"RRP\": 53.07748}, {\"INTERVAL_DATETIME\": \"2021-02-05T15:00:00\", \"REGIONID\": \"QLD1\", \"RRP\": 47.73006}, {\"INTERVAL_DATETIME\": \"2021-02-05T15:00:00\", \"REGIONID\": \"SA1\", \"RRP\": -881.35106}, {\"INTERVAL_DATETIME\": \"2021-02-05T15:00:00\", \"REGIONID\": \"TAS1\", \"RRP\": 47.33476}, {\"INTERVAL_DATETIME\": \"2021-02-05T15:00:00\", \"REGIONID\": \"VIC1\", \"RRP\": 49.35484}, {\"INTERVAL_DATETIME\": \"2021-02-05T15:30:00\", \"REGIONID\": \"NSW1\", \"RRP\": 53.35703}, {\"INTERVAL_DATETIME\": \"2021-02-05T15:30:00\", \"REGIONID\": \"QLD1\", \"RRP\": 47.73006}, {\"INTERVAL_DATETIME\": \"2021-02-05T15:30:00\", \"REGIONID\": \"SA1\", \"RRP\": -907.30505}, {\"INTERVAL_DATETIME\": \"2021-02-05T15:30:00\", \"REGIONID\": \"TAS1\", \"RRP\": 37.02587}, {\"INTERVAL_DATETIME\": \"2021-02-05T15:30:00\", \"REGIONID\": \"VIC1\", \"RRP\": 38.39996}, {\"INTERVAL_DATETIME\": \"2021-02-05T16:00:00\", \"REGIONID\": \"NSW1\", \"RRP\": 66.41636}, {\"INTERVAL_DATETIME\": \"2021-02-05T16:00:00\", \"REGIONID\": \"QLD1\", \"RRP\": 57.83454}, {\"INTERVAL_DATETIME\": \"2021-02-05T16:00:00\", \"REGIONID\": \"SA1\", \"RRP\": -947.23895}, {\"INTERVAL_DATETIME\": \"2021-02-05T16:00:00\", \"REGIONID\": \"TAS1\", \"RRP\": 31.36}, {\"INTERVAL_DATETIME\": \"2021-02-05T16:00:00\", \"REGIONID\": \"VIC1\", \"RRP\": 32.87776}, {\"INTERVAL_DATETIME\": \"2021-02-05T16:30:00\", \"REGIONID\": \"NSW1\", \"RRP\": 67.39686}, {\"INTERVAL_DATETIME\": \"2021-02-05T16:30:00\", \"REGIONID\": \"QLD1\", \"RRP\": 59.7}, {\"INTERVAL_DATETIME\": \"2021-02-05T16:30:00\", \"REGIONID\": \"SA1\", \"RRP\": -885.47975}, {\"INTERVAL_DATETIME\": \"2021-02-05T16:30:00\", \"REGIONID\": \"TAS1\", \"RRP\": 47.13226}, {\"INTERVAL_DATETIME\": \"2021-02-05T16:30:00\", \"REGIONID\": \"VIC1\", \"RRP\": 50.73203}, {\"INTERVAL_DATETIME\": \"2021-02-05T17:00:00\", \"REGIONID\": \"NSW1\", \"RRP\": 220.50865}, {\"INTERVAL_DATETIME\": \"2021-02-05T17:00:00\", \"REGIONID\": \"QLD1\", \"RRP\": 200.11}, {\"INTERVAL_DATETIME\": \"2021-02-05T17:00:00\", \"REGIONID\": \"SA1\", \"RRP\": -3.1}, {\"INTERVAL_DATETIME\": \"2021-02-05T17:00:00\", \"REGIONID\": \"TAS1\", \"RRP\": 37.05161}, {\"INTERVAL_DATETIME\": \"2021-02-05T17:00:00\", \"REGIONID\": \"VIC1\", \"RRP\": 40.61222}, {\"INTERVAL_DATETIME\": \"2021-02-05T17:30:00\", \"REGIONID\": \"NSW1\", \"RRP\": 299.6}, {\"INTERVAL_DATETIME\": \"2021-02-05T17:30:00\", \"REGIONID\": \"QLD1\", \"RRP\": 278.12253}, {\"INTERVAL_DATETIME\": \"2021-02-05T17:30:00\", \"REGIONID\": \"SA1\", \"RRP\": 47.97355}, {\"INTERVAL_DATETIME\": \"2021-02-05T17:30:00\", \"REGIONID\": \"TAS1\", \"RRP\": 53.77469}, {\"INTERVAL_DATETIME\": \"2021-02-05T17:30:00\", \"REGIONID\": \"VIC1\", \"RRP\": 55.0}, {\"INTERVAL_DATETIME\": \"2021-02-05T18:00:00\", \"REGIONID\": \"NSW1\", \"RRP\": 209.26977}, {\"INTERVAL_DATETIME\": \"2021-02-05T18:00:00\", \"REGIONID\": \"QLD1\", \"RRP\": 200.11}, {\"INTERVAL_DATETIME\": \"2021-02-05T18:00:00\", \"REGIONID\": \"SA1\", \"RRP\": 63.30021}, {\"INTERVAL_DATETIME\": \"2021-02-05T18:00:00\", \"REGIONID\": \"TAS1\", \"RRP\": 67.05722}, {\"INTERVAL_DATETIME\": \"2021-02-05T18:00:00\", \"REGIONID\": \"VIC1\", \"RRP\": 68.96977}, {\"INTERVAL_DATETIME\": \"2021-02-05T18:30:00\", \"REGIONID\": \"NSW1\", \"RRP\": 203.30429}, {\"INTERVAL_DATETIME\": \"2021-02-05T18:30:00\", \"REGIONID\": \"QLD1\", \"RRP\": 200.11}, {\"INTERVAL_DATETIME\": \"2021-02-05T18:30:00\", \"REGIONID\": \"SA1\", \"RRP\": 115.65656}, {\"INTERVAL_DATETIME\": \"2021-02-05T18:30:00\", \"REGIONID\": \"TAS1\", \"RRP\": 119.91265}, {\"INTERVAL_DATETIME\": \"2021-02-05T18:30:00\", \"REGIONID\": \"VIC1\", \"RRP\": 123.99573}, {\"INTERVAL_DATETIME\": \"2021-02-05T19:00:00\", \"REGIONID\": \"NSW1\", \"RRP\": 299.6}, {\"INTERVAL_DATETIME\": \"2021-02-05T19:00:00\", \"REGIONID\": \"QLD1\", \"RRP\": 291.03}, {\"INTERVAL_DATETIME\": \"2021-02-05T19:00:00\", \"REGIONID\": \"SA1\", \"RRP\": 63.73889}, {\"INTERVAL_DATETIME\": \"2021-02-05T19:00:00\", \"REGIONID\": \"TAS1\", \"RRP\": 62.88057}, {\"INTERVAL_DATETIME\": \"2021-02-05T19:00:00\", \"REGIONID\": \"VIC1\", \"RRP\": 64.33}, {\"INTERVAL_DATETIME\": \"2021-02-05T19:30:00\", \"REGIONID\": \"NSW1\", \"RRP\": 299.6}, {\"INTERVAL_DATETIME\": \"2021-02-05T19:30:00\", \"REGIONID\": \"QLD1\", \"RRP\": 291.03}, {\"INTERVAL_DATETIME\": \"2021-02-05T19:30:00\", \"REGIONID\": \"SA1\", \"RRP\": 80.6589}, {\"INTERVAL_DATETIME\": \"2021-02-05T19:30:00\", \"REGIONID\": \"TAS1\", \"RRP\": 78.33354}, {\"INTERVAL_DATETIME\": \"2021-02-05T19:30:00\", \"REGIONID\": \"VIC1\", \"RRP\": 81.00083}, {\"INTERVAL_DATETIME\": \"2021-02-05T20:00:00\", \"REGIONID\": \"NSW1\", \"RRP\": 299.99}, {\"INTERVAL_DATETIME\": \"2021-02-05T20:00:00\", \"REGIONID\": \"QLD1\", \"RRP\": 291.03}, {\"INTERVAL_DATETIME\": \"2021-02-05T20:00:00\", \"REGIONID\": \"SA1\", \"RRP\": 262.56036}, {\"INTERVAL_DATETIME\": \"2021-02-05T20:00:00\", \"REGIONID\": \"TAS1\", \"RRP\": 267.13889}, {\"INTERVAL_DATETIME\": \"2021-02-05T20:00:00\", \"REGIONID\": \"VIC1\", \"RRP\": 273.2966}, {\"INTERVAL_DATETIME\": \"2021-02-05T20:30:00\", \"REGIONID\": \"NSW1\", \"RRP\": 205.94346}, {\"INTERVAL_DATETIME\": \"2021-02-05T20:30:00\", \"REGIONID\": \"QLD1\", \"RRP\": 200.11}, {\"INTERVAL_DATETIME\": \"2021-02-05T20:30:00\", \"REGIONID\": \"SA1\", \"RRP\": 180.38667}, {\"INTERVAL_DATETIME\": \"2021-02-05T20:30:00\", \"REGIONID\": \"TAS1\", \"RRP\": 180.65851}, {\"INTERVAL_DATETIME\": \"2021-02-05T20:30:00\", \"REGIONID\": \"VIC1\", \"RRP\": 186.30921}, {\"INTERVAL_DATETIME\": \"2021-02-05T21:00:00\", \"REGIONID\": \"NSW1\", \"RRP\": 60.25555}, {\"INTERVAL_DATETIME\": \"2021-02-05T21:00:00\", \"REGIONID\": \"QLD1\", \"RRP\": 58.97835}, {\"INTERVAL_DATETIME\": \"2021-02-05T21:00:00\", \"REGIONID\": \"SA1\", \"RRP\": 53.8486}, {\"INTERVAL_DATETIME\": \"2021-02-05T21:00:00\", \"REGIONID\": \"TAS1\", \"RRP\": 54.04673}, {\"INTERVAL_DATETIME\": \"2021-02-05T21:00:00\", \"REGIONID\": \"VIC1\", \"RRP\": 55.0}, {\"INTERVAL_DATETIME\": \"2021-02-05T21:30:00\", \"REGIONID\": \"NSW1\", \"RRP\": 59.30551}, {\"INTERVAL_DATETIME\": \"2021-02-05T21:30:00\", \"REGIONID\": \"QLD1\", \"RRP\": 58.3625}, {\"INTERVAL_DATETIME\": \"2021-02-05T21:30:00\", \"REGIONID\": \"SA1\", \"RRP\": 53.57145}, {\"INTERVAL_DATETIME\": \"2021-02-05T21:30:00\", \"REGIONID\": \"TAS1\", \"RRP\": 60.34}, {\"INTERVAL_DATETIME\": \"2021-02-05T21:30:00\", \"REGIONID\": \"VIC1\", \"RRP\": 55.0}, {\"INTERVAL_DATETIME\": \"2021-02-05T22:00:00\", \"REGIONID\": \"NSW1\", \"RRP\": 53.85029}, {\"INTERVAL_DATETIME\": \"2021-02-05T22:00:00\", \"REGIONID\": \"QLD1\", \"RRP\": 55.73002}, {\"INTERVAL_DATETIME\": \"2021-02-05T22:00:00\", \"REGIONID\": \"SA1\", \"RRP\": 49.1646}, {\"INTERVAL_DATETIME\": \"2021-02-05T22:00:00\", \"REGIONID\": \"TAS1\", \"RRP\": 63.27319}, {\"INTERVAL_DATETIME\": \"2021-02-05T22:00:00\", \"REGIONID\": \"VIC1\", \"RRP\": 50.73769}, {\"INTERVAL_DATETIME\": \"2021-02-05T22:30:00\", \"REGIONID\": \"NSW1\", \"RRP\": 48.8}, {\"INTERVAL_DATETIME\": \"2021-02-05T22:30:00\", \"REGIONID\": \"QLD1\", \"RRP\": 51.95743}, {\"INTERVAL_DATETIME\": \"2021-02-05T22:30:00\", \"REGIONID\": \"SA1\", \"RRP\": 45.2547}, {\"INTERVAL_DATETIME\": \"2021-02-05T22:30:00\", \"REGIONID\": \"TAS1\", \"RRP\": 62.85806}, {\"INTERVAL_DATETIME\": \"2021-02-05T22:30:00\", \"REGIONID\": \"VIC1\", \"RRP\": 47.10519}, {\"INTERVAL_DATETIME\": \"2021-02-05T23:00:00\", \"REGIONID\": \"NSW1\", \"RRP\": 39.15}, {\"INTERVAL_DATETIME\": \"2021-02-05T23:00:00\", \"REGIONID\": \"QLD1\", \"RRP\": 42.23606}, {\"INTERVAL_DATETIME\": \"2021-02-05T23:00:00\", \"REGIONID\": \"SA1\", \"RRP\": 35.36314}, {\"INTERVAL_DATETIME\": \"2021-02-05T23:00:00\", \"REGIONID\": \"TAS1\", \"RRP\": 60.34}, {\"INTERVAL_DATETIME\": \"2021-02-05T23:00:00\", \"REGIONID\": \"VIC1\", \"RRP\": 37.08204}, {\"INTERVAL_DATETIME\": \"2021-02-05T23:30:00\", \"REGIONID\": \"NSW1\", \"RRP\": 39.15}, {\"INTERVAL_DATETIME\": \"2021-02-05T23:30:00\", \"REGIONID\": \"QLD1\", \"RRP\": 40.73003}, {\"INTERVAL_DATETIME\": \"2021-02-05T23:30:00\", \"REGIONID\": \"SA1\", \"RRP\": 33.34351}, {\"INTERVAL_DATETIME\": \"2021-02-05T23:30:00\", \"REGIONID\": \"TAS1\", \"RRP\": 59.9895}, {\"INTERVAL_DATETIME\": \"2021-02-05T23:30:00\", \"REGIONID\": \"VIC1\", \"RRP\": 34.96}, {\"INTERVAL_DATETIME\": \"2021-02-06T00:00:00\", \"REGIONID\": \"NSW1\", \"RRP\": 39.12}, {\"INTERVAL_DATETIME\": \"2021-02-06T00:00:00\", \"REGIONID\": \"QLD1\", \"RRP\": 38.96437}, {\"INTERVAL_DATETIME\": \"2021-02-06T00:00:00\", \"REGIONID\": \"SA1\", \"RRP\": 34.5915}, {\"INTERVAL_DATETIME\": \"2021-02-06T00:00:00\", \"REGIONID\": \"TAS1\", \"RRP\": 56.44672}, {\"INTERVAL_DATETIME\": \"2021-02-06T00:00:00\", \"REGIONID\": \"VIC1\", \"RRP\": 34.96}, {\"INTERVAL_DATETIME\": \"2021-02-06T00:30:00\", \"REGIONID\": \"NSW1\", \"RRP\": 39.15}, {\"INTERVAL_DATETIME\": \"2021-02-06T00:30:00\", \"REGIONID\": \"QLD1\", \"RRP\": 41.63107}, {\"INTERVAL_DATETIME\": \"2021-02-06T00:30:00\", \"REGIONID\": \"SA1\", \"RRP\": 34.40508}, {\"INTERVAL_DATETIME\": \"2021-02-06T00:30:00\", \"REGIONID\": \"TAS1\", \"RRP\": 58.14}, {\"INTERVAL_DATETIME\": \"2021-02-06T00:30:00\", \"REGIONID\": \"VIC1\", \"RRP\": 34.76766}, {\"INTERVAL_DATETIME\": \"2021-02-06T01:00:00\", \"REGIONID\": \"NSW1\", \"RRP\": 35.48}, {\"INTERVAL_DATETIME\": \"2021-02-06T01:00:00\", \"REGIONID\": \"QLD1\", \"RRP\": 37.09922}, {\"INTERVAL_DATETIME\": \"2021-02-06T01:00:00\", \"REGIONID\": \"SA1\", \"RRP\": 28.36799}, {\"INTERVAL_DATETIME\": \"2021-02-06T01:00:00\", \"REGIONID\": \"TAS1\", \"RRP\": 55.56}, {\"INTERVAL_DATETIME\": \"2021-02-06T01:00:00\", \"REGIONID\": \"VIC1\", \"RRP\": 28.96}, {\"INTERVAL_DATETIME\": \"2021-02-06T01:30:00\", \"REGIONID\": \"NSW1\", \"RRP\": 35.48}, {\"INTERVAL_DATETIME\": \"2021-02-06T01:30:00\", \"REGIONID\": \"QLD1\", \"RRP\": 36.49183}, {\"INTERVAL_DATETIME\": \"2021-02-06T01:30:00\", \"REGIONID\": \"SA1\", \"RRP\": 17.56739}, {\"INTERVAL_DATETIME\": \"2021-02-06T01:30:00\", \"REGIONID\": \"TAS1\", \"RRP\": 55.82}, {\"INTERVAL_DATETIME\": \"2021-02-06T01:30:00\", \"REGIONID\": \"VIC1\", \"RRP\": 18.11}, {\"INTERVAL_DATETIME\": \"2021-02-06T02:00:00\", \"REGIONID\": \"NSW1\", \"RRP\": 34.8339}, {\"INTERVAL_DATETIME\": \"2021-02-06T02:00:00\", \"REGIONID\": \"QLD1\", \"RRP\": 35.25}, {\"INTERVAL_DATETIME\": \"2021-02-06T02:00:00\", \"REGIONID\": \"SA1\", \"RRP\": 9.11028}, {\"INTERVAL_DATETIME\": \"2021-02-06T02:00:00\", \"REGIONID\": \"TAS1\", \"RRP\": 54.98082}, {\"INTERVAL_DATETIME\": \"2021-02-06T02:00:00\", \"REGIONID\": \"VIC1\", \"RRP\": 9.1801}, {\"INTERVAL_DATETIME\": \"2021-02-06T02:30:00\", \"REGIONID\": \"NSW1\", \"RRP\": 35.46}, {\"INTERVAL_DATETIME\": \"2021-02-06T02:30:00\", \"REGIONID\": \"QLD1\", \"RRP\": 35.58673}, {\"INTERVAL_DATETIME\": \"2021-02-06T02:30:00\", \"REGIONID\": \"SA1\", \"RRP\": 8.7892}, {\"INTERVAL_DATETIME\": \"2021-02-06T02:30:00\", \"REGIONID\": \"TAS1\", \"RRP\": 57.18082}, {\"INTERVAL_DATETIME\": \"2021-02-06T02:30:00\", \"REGIONID\": \"VIC1\", \"RRP\": 8.95011}, {\"INTERVAL_DATETIME\": \"2021-02-06T03:00:00\", \"REGIONID\": \"NSW1\", \"RRP\": 35.46}, {\"INTERVAL_DATETIME\": \"2021-02-06T03:00:00\", \"REGIONID\": \"QLD1\", \"RRP\": 35.30057}, {\"INTERVAL_DATETIME\": \"2021-02-06T03:00:00\", \"REGIONID\": \"SA1\", \"RRP\": 8.79055}, {\"INTERVAL_DATETIME\": \"2021-02-06T03:00:00\", \"REGIONID\": \"TAS1\", \"RRP\": 57.18082}, {\"INTERVAL_DATETIME\": \"2021-02-06T03:00:00\", \"REGIONID\": \"VIC1\", \"RRP\": 8.95011}, {\"INTERVAL_DATETIME\": \"2021-02-06T03:30:00\", \"REGIONID\": \"NSW1\", \"RRP\": 35.46}, {\"INTERVAL_DATETIME\": \"2021-02-06T03:30:00\", \"REGIONID\": \"QLD1\", \"RRP\": 35.25}, {\"INTERVAL_DATETIME\": \"2021-02-06T03:30:00\", \"REGIONID\": \"SA1\", \"RRP\": 8.74443}, {\"INTERVAL_DATETIME\": \"2021-02-06T03:30:00\", \"REGIONID\": \"TAS1\", \"RRP\": 56.17673}, {\"INTERVAL_DATETIME\": \"2021-02-06T03:30:00\", \"REGIONID\": \"VIC1\", \"RRP\": 8.95}, {\"INTERVAL_DATETIME\": \"2021-02-06T04:00:00\", \"REGIONID\": \"NSW1\", \"RRP\": 35.46}, {\"INTERVAL_DATETIME\": \"2021-02-06T04:00:00\", \"REGIONID\": \"QLD1\", \"RRP\": 35.25}, {\"INTERVAL_DATETIME\": \"2021-02-06T04:00:00\", \"REGIONID\": \"SA1\", \"RRP\": 8.74575}, {\"INTERVAL_DATETIME\": \"2021-02-06T04:00:00\", \"REGIONID\": \"TAS1\", \"RRP\": 58.14}, {\"INTERVAL_DATETIME\": \"2021-02-06T04:00:00\", \"REGIONID\": \"VIC1\", \"RRP\": 8.95}, {\"INTERVAL_DATETIME\": \"2021-02-06T04:30:00\", \"REGIONID\": \"NSW1\", \"RRP\": 32.5}, {\"INTERVAL_DATETIME\": \"2021-02-06T04:30:00\", \"REGIONID\": \"QLD1\", \"RRP\": 32.58633}, {\"INTERVAL_DATETIME\": \"2021-02-06T04:30:00\", \"REGIONID\": \"SA1\", \"RRP\": 8.74605}, {\"INTERVAL_DATETIME\": \"2021-02-06T04:30:00\", \"REGIONID\": \"TAS1\", \"RRP\": 60.18082}, {\"INTERVAL_DATETIME\": \"2021-02-06T04:30:00\", \"REGIONID\": \"VIC1\", \"RRP\": 8.95}, {\"INTERVAL_DATETIME\": \"2021-02-06T05:00:00\", \"REGIONID\": \"NSW1\", \"RRP\": 32.5}, {\"INTERVAL_DATETIME\": \"2021-02-06T05:00:00\", \"REGIONID\": \"QLD1\", \"RRP\": 32.59365}, {\"INTERVAL_DATETIME\": \"2021-02-06T05:00:00\", \"REGIONID\": \"SA1\", \"RRP\": 8.79329}, {\"INTERVAL_DATETIME\": \"2021-02-06T05:00:00\", \"REGIONID\": \"TAS1\", \"RRP\": 58.14}, {\"INTERVAL_DATETIME\": \"2021-02-06T05:00:00\", \"REGIONID\": \"VIC1\", \"RRP\": 8.95}, {\"INTERVAL_DATETIME\": \"2021-02-06T05:30:00\", \"REGIONID\": \"NSW1\", \"RRP\": 32.5}, {\"INTERVAL_DATETIME\": \"2021-02-06T05:30:00\", \"REGIONID\": \"QLD1\", \"RRP\": 32.85934}, {\"INTERVAL_DATETIME\": \"2021-02-06T05:30:00\", \"REGIONID\": \"SA1\", \"RRP\": 8.79237}, {\"INTERVAL_DATETIME\": \"2021-02-06T05:30:00\", \"REGIONID\": \"TAS1\", \"RRP\": 397.88}, {\"INTERVAL_DATETIME\": \"2021-02-06T05:30:00\", \"REGIONID\": \"VIC1\", \"RRP\": 8.95}, {\"INTERVAL_DATETIME\": \"2021-02-06T06:00:00\", \"REGIONID\": \"NSW1\", \"RRP\": 31.89015}, {\"INTERVAL_DATETIME\": \"2021-02-06T06:00:00\", \"REGIONID\": \"QLD1\", \"RRP\": 31.53294}, {\"INTERVAL_DATETIME\": \"2021-02-06T06:00:00\", \"REGIONID\": \"SA1\", \"RRP\": 8.88367}, {\"INTERVAL_DATETIME\": \"2021-02-06T06:00:00\", \"REGIONID\": \"TAS1\", \"RRP\": 397.88}, {\"INTERVAL_DATETIME\": \"2021-02-06T06:00:00\", \"REGIONID\": \"VIC1\", \"RRP\": 8.95}, {\"INTERVAL_DATETIME\": \"2021-02-06T06:30:00\", \"REGIONID\": \"NSW1\", \"RRP\": 28.34132}, {\"INTERVAL_DATETIME\": \"2021-02-06T06:30:00\", \"REGIONID\": \"QLD1\", \"RRP\": 26.62}, {\"INTERVAL_DATETIME\": \"2021-02-06T06:30:00\", \"REGIONID\": \"SA1\", \"RRP\": 8.83702}, {\"INTERVAL_DATETIME\": \"2021-02-06T06:30:00\", \"REGIONID\": \"TAS1\", \"RRP\": 397.88}, {\"INTERVAL_DATETIME\": \"2021-02-06T06:30:00\", \"REGIONID\": \"VIC1\", \"RRP\": 8.95}, {\"INTERVAL_DATETIME\": \"2021-02-06T07:00:00\", \"REGIONID\": \"NSW1\", \"RRP\": 28.5311}, {\"INTERVAL_DATETIME\": \"2021-02-06T07:00:00\", \"REGIONID\": \"QLD1\", \"RRP\": 26.62}, {\"INTERVAL_DATETIME\": \"2021-02-06T07:00:00\", \"REGIONID\": \"SA1\", \"RRP\": -3.1}, {\"INTERVAL_DATETIME\": \"2021-02-06T07:00:00\", \"REGIONID\": \"TAS1\", \"RRP\": 397.88}, {\"INTERVAL_DATETIME\": \"2021-02-06T07:00:00\", \"REGIONID\": \"VIC1\", \"RRP\": -3.08921}, {\"INTERVAL_DATETIME\": \"2021-02-06T07:30:00\", \"REGIONID\": \"NSW1\", \"RRP\": 26.22283}, {\"INTERVAL_DATETIME\": \"2021-02-06T07:30:00\", \"REGIONID\": \"QLD1\", \"RRP\": 25.41}, {\"INTERVAL_DATETIME\": \"2021-02-06T07:30:00\", \"REGIONID\": \"SA1\", \"RRP\": -3.1}, {\"INTERVAL_DATETIME\": \"2021-02-06T07:30:00\", \"REGIONID\": \"TAS1\", \"RRP\": 397.88}, {\"INTERVAL_DATETIME\": \"2021-02-06T07:30:00\", \"REGIONID\": \"VIC1\", \"RRP\": -3.07223}, {\"INTERVAL_DATETIME\": \"2021-02-06T08:00:00\", \"REGIONID\": \"NSW1\", \"RRP\": 29.02347}, {\"INTERVAL_DATETIME\": \"2021-02-06T08:00:00\", \"REGIONID\": \"QLD1\", \"RRP\": 26.51008}, {\"INTERVAL_DATETIME\": \"2021-02-06T08:00:00\", \"REGIONID\": \"SA1\", \"RRP\": -16.17369}, {\"INTERVAL_DATETIME\": \"2021-02-06T08:00:00\", \"REGIONID\": \"TAS1\", \"RRP\": 397.88}, {\"INTERVAL_DATETIME\": \"2021-02-06T08:00:00\", \"REGIONID\": \"VIC1\", \"RRP\": -17.01998}, {\"INTERVAL_DATETIME\": \"2021-02-06T08:30:00\", \"REGIONID\": \"NSW1\", \"RRP\": 32.5}, {\"INTERVAL_DATETIME\": \"2021-02-06T08:30:00\", \"REGIONID\": \"QLD1\", \"RRP\": 29.48532}, {\"INTERVAL_DATETIME\": \"2021-02-06T08:30:00\", \"REGIONID\": \"SA1\", \"RRP\": -32.72205}, {\"INTERVAL_DATETIME\": \"2021-02-06T08:30:00\", \"REGIONID\": \"TAS1\", \"RRP\": 397.88}, {\"INTERVAL_DATETIME\": \"2021-02-06T08:30:00\", \"REGIONID\": \"VIC1\", \"RRP\": -36.84}, {\"INTERVAL_DATETIME\": \"2021-02-06T09:00:00\", \"REGIONID\": \"NSW1\", \"RRP\": 32.39}, {\"INTERVAL_DATETIME\": \"2021-02-06T09:00:00\", \"REGIONID\": \"QLD1\", \"RRP\": 28.74248}, {\"INTERVAL_DATETIME\": \"2021-02-06T09:00:00\", \"REGIONID\": \"SA1\", \"RRP\": -43.16179}, {\"INTERVAL_DATETIME\": \"2021-02-06T09:00:00\", \"REGIONID\": \"TAS1\", \"RRP\": 397.88}, {\"INTERVAL_DATETIME\": \"2021-02-06T09:00:00\", \"REGIONID\": \"VIC1\", \"RRP\": -49.7}, {\"INTERVAL_DATETIME\": \"2021-02-06T09:30:00\", \"REGIONID\": \"NSW1\", \"RRP\": 32.55}, {\"INTERVAL_DATETIME\": \"2021-02-06T09:30:00\", \"REGIONID\": \"QLD1\", \"RRP\": 29.97204}, {\"INTERVAL_DATETIME\": \"2021-02-06T09:30:00\", \"REGIONID\": \"SA1\", \"RRP\": -190.0}, {\"INTERVAL_DATETIME\": \"2021-02-06T09:30:00\", \"REGIONID\": \"TAS1\", \"RRP\": 397.88}, {\"INTERVAL_DATETIME\": \"2021-02-06T09:30:00\", \"REGIONID\": \"VIC1\", \"RRP\": -100.0}, {\"INTERVAL_DATETIME\": \"2021-02-06T10:00:00\", \"REGIONID\": \"NSW1\", \"RRP\": 32.56}, {\"INTERVAL_DATETIME\": \"2021-02-06T10:00:00\", \"REGIONID\": \"QLD1\", \"RRP\": 29.74949}, {\"INTERVAL_DATETIME\": \"2021-02-06T10:00:00\", \"REGIONID\": \"SA1\", \"RRP\": -602.98777}, {\"INTERVAL_DATETIME\": \"2021-02-06T10:00:00\", \"REGIONID\": \"TAS1\", \"RRP\": 397.88}, {\"INTERVAL_DATETIME\": \"2021-02-06T10:00:00\", \"REGIONID\": \"VIC1\", \"RRP\": -696.99586}, {\"INTERVAL_DATETIME\": \"2021-02-06T10:30:00\", \"REGIONID\": \"NSW1\", \"RRP\": 32.5}, {\"INTERVAL_DATETIME\": \"2021-02-06T10:30:00\", \"REGIONID\": \"QLD1\", \"RRP\": 29.25443}, {\"INTERVAL_DATETIME\": \"2021-02-06T10:30:00\", \"REGIONID\": \"SA1\", \"RRP\": -999.99857}, {\"INTERVAL_DATETIME\": \"2021-02-06T10:30:00\", \"REGIONID\": \"TAS1\", \"RRP\": 397.88}, {\"INTERVAL_DATETIME\": \"2021-02-06T10:30:00\", \"REGIONID\": \"VIC1\", \"RRP\": -711.46781}, {\"INTERVAL_DATETIME\": \"2021-02-06T11:00:00\", \"REGIONID\": \"NSW1\", \"RRP\": 32.5}, {\"INTERVAL_DATETIME\": \"2021-02-06T11:00:00\", \"REGIONID\": \"QLD1\", \"RRP\": 29.2513}, {\"INTERVAL_DATETIME\": \"2021-02-06T11:00:00\", \"REGIONID\": \"SA1\", \"RRP\": -999.99905}, {\"INTERVAL_DATETIME\": \"2021-02-06T11:00:00\", \"REGIONID\": \"TAS1\", \"RRP\": 397.88}, {\"INTERVAL_DATETIME\": \"2021-02-06T11:00:00\", \"REGIONID\": \"VIC1\", \"RRP\": -519.69897}, {\"INTERVAL_DATETIME\": \"2021-02-06T11:30:00\", \"REGIONID\": \"NSW1\", \"RRP\": 32.39}, {\"INTERVAL_DATETIME\": \"2021-02-06T11:30:00\", \"REGIONID\": \"QLD1\", \"RRP\": 28.51988}, {\"INTERVAL_DATETIME\": \"2021-02-06T11:30:00\", \"REGIONID\": \"SA1\", \"RRP\": -999.99928}, {\"INTERVAL_DATETIME\": \"2021-02-06T11:30:00\", \"REGIONID\": \"TAS1\", \"RRP\": 397.88}, {\"INTERVAL_DATETIME\": \"2021-02-06T11:30:00\", \"REGIONID\": \"VIC1\", \"RRP\": -768.25548}, {\"INTERVAL_DATETIME\": \"2021-02-06T12:00:00\", \"REGIONID\": \"NSW1\", \"RRP\": 32.5}, {\"INTERVAL_DATETIME\": \"2021-02-06T12:00:00\", \"REGIONID\": \"QLD1\", \"RRP\": 28.85484}, {\"INTERVAL_DATETIME\": \"2021-02-06T12:00:00\", \"REGIONID\": \"SA1\", \"RRP\": -999.99928}, {\"INTERVAL_DATETIME\": \"2021-02-06T12:00:00\", \"REGIONID\": \"TAS1\", \"RRP\": 397.88}, {\"INTERVAL_DATETIME\": \"2021-02-06T12:00:00\", \"REGIONID\": \"VIC1\", \"RRP\": -768.36981}, {\"INTERVAL_DATETIME\": \"2021-02-06T12:30:00\", \"REGIONID\": \"NSW1\", \"RRP\": 32.55}, {\"INTERVAL_DATETIME\": \"2021-02-06T12:30:00\", \"REGIONID\": \"QLD1\", \"RRP\": 29.40849}, {\"INTERVAL_DATETIME\": \"2021-02-06T12:30:00\", \"REGIONID\": \"SA1\", \"RRP\": -823.43876}, {\"INTERVAL_DATETIME\": \"2021-02-06T12:30:00\", \"REGIONID\": \"TAS1\", \"RRP\": 397.85}, {\"INTERVAL_DATETIME\": \"2021-02-06T12:30:00\", \"REGIONID\": \"VIC1\", \"RRP\": -937.42226}, {\"INTERVAL_DATETIME\": \"2021-02-06T13:00:00\", \"REGIONID\": \"NSW1\", \"RRP\": 32.5}, {\"INTERVAL_DATETIME\": \"2021-02-06T13:00:00\", \"REGIONID\": \"QLD1\", \"RRP\": 28.9036}, {\"INTERVAL_DATETIME\": \"2021-02-06T13:00:00\", \"REGIONID\": \"SA1\", \"RRP\": -868.54913}, {\"INTERVAL_DATETIME\": \"2021-02-06T13:00:00\", \"REGIONID\": \"TAS1\", \"RRP\": 397.82}, {\"INTERVAL_DATETIME\": \"2021-02-06T13:00:00\", \"REGIONID\": \"VIC1\", \"RRP\": -999.96}, {\"INTERVAL_DATETIME\": \"2021-02-06T13:30:00\", \"REGIONID\": \"NSW1\", \"RRP\": 33.06477}, {\"INTERVAL_DATETIME\": \"2021-02-06T13:30:00\", \"REGIONID\": \"QLD1\", \"RRP\": 30.09998}, {\"INTERVAL_DATETIME\": \"2021-02-06T13:30:00\", \"REGIONID\": \"SA1\", \"RRP\": -999.99861}, {\"INTERVAL_DATETIME\": \"2021-02-06T13:30:00\", \"REGIONID\": \"TAS1\", \"RRP\": 397.85}, {\"INTERVAL_DATETIME\": \"2021-02-06T13:30:00\", \"REGIONID\": \"VIC1\", \"RRP\": -999.96}, {\"INTERVAL_DATETIME\": \"2021-02-06T14:00:00\", \"REGIONID\": \"NSW1\", \"RRP\": 35.46}, {\"INTERVAL_DATETIME\": \"2021-02-06T14:00:00\", \"REGIONID\": \"QLD1\", \"RRP\": 32.80708}, {\"INTERVAL_DATETIME\": \"2021-02-06T14:00:00\", \"REGIONID\": \"SA1\", \"RRP\": -999.99899}, {\"INTERVAL_DATETIME\": \"2021-02-06T14:00:00\", \"REGIONID\": \"TAS1\", \"RRP\": 397.82}, {\"INTERVAL_DATETIME\": \"2021-02-06T14:00:00\", \"REGIONID\": \"VIC1\", \"RRP\": -999.96}, {\"INTERVAL_DATETIME\": \"2021-02-06T14:30:00\", \"REGIONID\": \"NSW1\", \"RRP\": 35.47}, {\"INTERVAL_DATETIME\": \"2021-02-06T14:30:00\", \"REGIONID\": \"QLD1\", \"RRP\": 34.11082}, {\"INTERVAL_DATETIME\": \"2021-02-06T14:30:00\", \"REGIONID\": \"SA1\", \"RRP\": -999.99844}, {\"INTERVAL_DATETIME\": \"2021-02-06T14:30:00\", \"REGIONID\": \"TAS1\", \"RRP\": 397.88}, {\"INTERVAL_DATETIME\": \"2021-02-06T14:30:00\", \"REGIONID\": \"VIC1\", \"RRP\": -999.95995}, {\"INTERVAL_DATETIME\": \"2021-02-06T15:00:00\", \"REGIONID\": \"NSW1\", \"RRP\": 35.48}, {\"INTERVAL_DATETIME\": \"2021-02-06T15:00:00\", \"REGIONID\": \"QLD1\", \"RRP\": 34.20434}, {\"INTERVAL_DATETIME\": \"2021-02-06T15:00:00\", \"REGIONID\": \"SA1\", \"RRP\": -787.77632}, {\"INTERVAL_DATETIME\": \"2021-02-06T15:00:00\", \"REGIONID\": \"TAS1\", \"RRP\": 397.85}, {\"INTERVAL_DATETIME\": \"2021-02-06T15:00:00\", \"REGIONID\": \"VIC1\", \"RRP\": -888.4393}, {\"INTERVAL_DATETIME\": \"2021-02-06T15:30:00\", \"REGIONID\": \"NSW1\", \"RRP\": 35.47}, {\"INTERVAL_DATETIME\": \"2021-02-06T15:30:00\", \"REGIONID\": \"QLD1\", \"RRP\": 33.27566}, {\"INTERVAL_DATETIME\": \"2021-02-06T15:30:00\", \"REGIONID\": \"SA1\", \"RRP\": -781.00079}, {\"INTERVAL_DATETIME\": \"2021-02-06T15:30:00\", \"REGIONID\": \"TAS1\", \"RRP\": 397.85}, {\"INTERVAL_DATETIME\": \"2021-02-06T15:30:00\", \"REGIONID\": \"VIC1\", \"RRP\": -643.32746}, {\"INTERVAL_DATETIME\": \"2021-02-06T16:00:00\", \"REGIONID\": \"NSW1\", \"RRP\": 35.48}, {\"INTERVAL_DATETIME\": \"2021-02-06T16:00:00\", \"REGIONID\": \"QLD1\", \"RRP\": 34.89587}, {\"INTERVAL_DATETIME\": \"2021-02-06T16:00:00\", \"REGIONID\": \"SA1\", \"RRP\": -864.65261}, {\"INTERVAL_DATETIME\": \"2021-02-06T16:00:00\", \"REGIONID\": \"TAS1\", \"RRP\": 397.88}, {\"INTERVAL_DATETIME\": \"2021-02-06T16:00:00\", \"REGIONID\": \"VIC1\", \"RRP\": -233.99099}, {\"INTERVAL_DATETIME\": \"2021-02-06T16:30:00\", \"REGIONID\": \"NSW1\", \"RRP\": 35.58}, {\"INTERVAL_DATETIME\": \"2021-02-06T16:30:00\", \"REGIONID\": \"QLD1\", \"RRP\": 35.61301}, {\"INTERVAL_DATETIME\": \"2021-02-06T16:30:00\", \"REGIONID\": \"SA1\", \"RRP\": -891.53812}, {\"INTERVAL_DATETIME\": \"2021-02-06T16:30:00\", \"REGIONID\": \"TAS1\", \"RRP\": 397.88}, {\"INTERVAL_DATETIME\": \"2021-02-06T16:30:00\", \"REGIONID\": \"VIC1\", \"RRP\": -510.82276}, {\"INTERVAL_DATETIME\": \"2021-02-06T17:00:00\", \"REGIONID\": \"NSW1\", \"RRP\": 39.12}, {\"INTERVAL_DATETIME\": \"2021-02-06T17:00:00\", \"REGIONID\": \"QLD1\", \"RRP\": 40.45728}, {\"INTERVAL_DATETIME\": \"2021-02-06T17:00:00\", \"REGIONID\": \"SA1\", \"RRP\": -577.24206}, {\"INTERVAL_DATETIME\": \"2021-02-06T17:00:00\", \"REGIONID\": \"TAS1\", \"RRP\": 397.85}, {\"INTERVAL_DATETIME\": \"2021-02-06T17:00:00\", \"REGIONID\": \"VIC1\", \"RRP\": -57.31461}, {\"INTERVAL_DATETIME\": \"2021-02-06T17:30:00\", \"REGIONID\": \"NSW1\", \"RRP\": 39.15}, {\"INTERVAL_DATETIME\": \"2021-02-06T17:30:00\", \"REGIONID\": \"QLD1\", \"RRP\": 41.7814}, {\"INTERVAL_DATETIME\": \"2021-02-06T17:30:00\", \"REGIONID\": \"SA1\", \"RRP\": -190.0}, {\"INTERVAL_DATETIME\": \"2021-02-06T17:30:00\", \"REGIONID\": \"TAS1\", \"RRP\": 37.497}, {\"INTERVAL_DATETIME\": \"2021-02-06T17:30:00\", \"REGIONID\": \"VIC1\", \"RRP\": 8.95}, {\"INTERVAL_DATETIME\": \"2021-02-06T18:00:00\", \"REGIONID\": \"NSW1\", \"RRP\": 39.15}, {\"INTERVAL_DATETIME\": \"2021-02-06T18:00:00\", \"REGIONID\": \"QLD1\", \"RRP\": 47.73005}, {\"INTERVAL_DATETIME\": \"2021-02-06T18:00:00\", \"REGIONID\": \"SA1\", \"RRP\": 7.94188}, {\"INTERVAL_DATETIME\": \"2021-02-06T18:00:00\", \"REGIONID\": \"TAS1\", \"RRP\": 35.3}, {\"INTERVAL_DATETIME\": \"2021-02-06T18:00:00\", \"REGIONID\": \"VIC1\", \"RRP\": 8.95}, {\"INTERVAL_DATETIME\": \"2021-02-06T18:30:00\", \"REGIONID\": \"NSW1\", \"RRP\": 39.15}, {\"INTERVAL_DATETIME\": \"2021-02-06T18:30:00\", \"REGIONID\": \"QLD1\", \"RRP\": 70.73002}, {\"INTERVAL_DATETIME\": \"2021-02-06T18:30:00\", \"REGIONID\": \"SA1\", \"RRP\": 8.72936}, {\"INTERVAL_DATETIME\": \"2021-02-06T18:30:00\", \"REGIONID\": \"TAS1\", \"RRP\": 11.16}, {\"INTERVAL_DATETIME\": \"2021-02-06T18:30:00\", \"REGIONID\": \"VIC1\", \"RRP\": 8.95011}, {\"INTERVAL_DATETIME\": \"2021-02-06T19:00:00\", \"REGIONID\": \"NSW1\", \"RRP\": 39.15}, {\"INTERVAL_DATETIME\": \"2021-02-06T19:00:00\", \"REGIONID\": \"QLD1\", \"RRP\": 199.73002}, {\"INTERVAL_DATETIME\": \"2021-02-06T19:00:00\", \"REGIONID\": \"SA1\", \"RRP\": 11.09735}, {\"INTERVAL_DATETIME\": \"2021-02-06T19:00:00\", \"REGIONID\": \"TAS1\", \"RRP\": 11.16}, {\"INTERVAL_DATETIME\": \"2021-02-06T19:00:00\", \"REGIONID\": \"VIC1\", \"RRP\": 10.78618}, {\"INTERVAL_DATETIME\": \"2021-02-06T19:30:00\", \"REGIONID\": \"NSW1\", \"RRP\": 39.15}, {\"INTERVAL_DATETIME\": \"2021-02-06T19:30:00\", \"REGIONID\": \"QLD1\", \"RRP\": 199.73002}, {\"INTERVAL_DATETIME\": \"2021-02-06T19:30:00\", \"REGIONID\": \"SA1\", \"RRP\": 28.20777}, {\"INTERVAL_DATETIME\": \"2021-02-06T19:30:00\", \"REGIONID\": \"TAS1\", \"RRP\": 28.26647}, {\"INTERVAL_DATETIME\": \"2021-02-06T19:30:00\", \"REGIONID\": \"VIC1\", \"RRP\": 27.88}, {\"INTERVAL_DATETIME\": \"2021-02-06T20:00:00\", \"REGIONID\": \"NSW1\", \"RRP\": 42.36}, {\"INTERVAL_DATETIME\": \"2021-02-06T20:00:00\", \"REGIONID\": \"QLD1\", \"RRP\": 200.11}, {\"INTERVAL_DATETIME\": \"2021-02-06T20:00:00\", \"REGIONID\": \"SA1\", \"RRP\": 32.10986}, {\"INTERVAL_DATETIME\": \"2021-02-06T20:00:00\", \"REGIONID\": \"TAS1\", \"RRP\": 30.32}, {\"INTERVAL_DATETIME\": \"2021-02-06T20:00:00\", \"REGIONID\": \"VIC1\", \"RRP\": 31.10161}, {\"INTERVAL_DATETIME\": \"2021-02-06T20:30:00\", \"REGIONID\": \"NSW1\", \"RRP\": 299.6}, {\"INTERVAL_DATETIME\": \"2021-02-06T20:30:00\", \"REGIONID\": \"QLD1\", \"RRP\": 291.03}, {\"INTERVAL_DATETIME\": \"2021-02-06T20:30:00\", \"REGIONID\": \"SA1\", \"RRP\": 12.29919}, {\"INTERVAL_DATETIME\": \"2021-02-06T20:30:00\", \"REGIONID\": \"TAS1\", \"RRP\": 11.21}, {\"INTERVAL_DATETIME\": \"2021-02-06T20:30:00\", \"REGIONID\": \"VIC1\", \"RRP\": 11.11372}, {\"INTERVAL_DATETIME\": \"2021-02-06T21:00:00\", \"REGIONID\": \"NSW1\", \"RRP\": 206.09104}, {\"INTERVAL_DATETIME\": \"2021-02-06T21:00:00\", \"REGIONID\": \"QLD1\", \"RRP\": 200.11}, {\"INTERVAL_DATETIME\": \"2021-02-06T21:00:00\", \"REGIONID\": \"SA1\", \"RRP\": 12.19564}, {\"INTERVAL_DATETIME\": \"2021-02-06T21:00:00\", \"REGIONID\": \"TAS1\", \"RRP\": 11.2}, {\"INTERVAL_DATETIME\": \"2021-02-06T21:00:00\", \"REGIONID\": \"VIC1\", \"RRP\": 10.96255}, {\"INTERVAL_DATETIME\": \"2021-02-06T21:30:00\", \"REGIONID\": \"NSW1\", \"RRP\": 71.37943}, {\"INTERVAL_DATETIME\": \"2021-02-06T21:30:00\", \"REGIONID\": \"QLD1\", \"RRP\": 70.73002}, {\"INTERVAL_DATETIME\": \"2021-02-06T21:30:00\", \"REGIONID\": \"SA1\", \"RRP\": 12.52787}, {\"INTERVAL_DATETIME\": \"2021-02-06T21:30:00\", \"REGIONID\": \"TAS1\", \"RRP\": 11.21}, {\"INTERVAL_DATETIME\": \"2021-02-06T21:30:00\", \"REGIONID\": \"VIC1\", \"RRP\": 11.20032}, {\"INTERVAL_DATETIME\": \"2021-02-06T22:00:00\", \"REGIONID\": \"NSW1\", \"RRP\": 55.99324}, {\"INTERVAL_DATETIME\": \"2021-02-06T22:00:00\", \"REGIONID\": \"QLD1\", \"RRP\": 58.8}, {\"INTERVAL_DATETIME\": \"2021-02-06T22:00:00\", \"REGIONID\": \"SA1\", \"RRP\": 13.83414}, {\"INTERVAL_DATETIME\": \"2021-02-06T22:00:00\", \"REGIONID\": \"TAS1\", \"RRP\": 11.2}, {\"INTERVAL_DATETIME\": \"2021-02-06T22:00:00\", \"REGIONID\": \"VIC1\", \"RRP\": 11.1325}, {\"INTERVAL_DATETIME\": \"2021-02-06T22:30:00\", \"REGIONID\": \"NSW1\", \"RRP\": 39.15}, {\"INTERVAL_DATETIME\": \"2021-02-06T22:30:00\", \"REGIONID\": \"QLD1\", \"RRP\": 58.80001}, {\"INTERVAL_DATETIME\": \"2021-02-06T22:30:00\", \"REGIONID\": \"SA1\", \"RRP\": 12.55573}, {\"INTERVAL_DATETIME\": \"2021-02-06T22:30:00\", \"REGIONID\": \"TAS1\", \"RRP\": 11.2}, {\"INTERVAL_DATETIME\": \"2021-02-06T22:30:00\", \"REGIONID\": \"VIC1\", \"RRP\": 11.27821}, {\"INTERVAL_DATETIME\": \"2021-02-06T23:00:00\", \"REGIONID\": \"NSW1\", \"RRP\": 39.15}, {\"INTERVAL_DATETIME\": \"2021-02-06T23:00:00\", \"REGIONID\": \"QLD1\", \"RRP\": 49.5}, {\"INTERVAL_DATETIME\": \"2021-02-06T23:00:00\", \"REGIONID\": \"SA1\", \"RRP\": 13.14659}, {\"INTERVAL_DATETIME\": \"2021-02-06T23:00:00\", \"REGIONID\": \"TAS1\", \"RRP\": 11.21}, {\"INTERVAL_DATETIME\": \"2021-02-06T23:00:00\", \"REGIONID\": \"VIC1\", \"RRP\": 11.34768}, {\"INTERVAL_DATETIME\": \"2021-02-06T23:30:00\", \"REGIONID\": \"NSW1\", \"RRP\": 39.12}, {\"INTERVAL_DATETIME\": \"2021-02-06T23:30:00\", \"REGIONID\": \"QLD1\", \"RRP\": 44.05456}, {\"INTERVAL_DATETIME\": \"2021-02-06T23:30:00\", \"REGIONID\": \"SA1\", \"RRP\": 20.01716}, {\"INTERVAL_DATETIME\": \"2021-02-06T23:30:00\", \"REGIONID\": \"TAS1\", \"RRP\": 17.57489}, {\"INTERVAL_DATETIME\": \"2021-02-06T23:30:00\", \"REGIONID\": \"VIC1\", \"RRP\": 17.98}, {\"INTERVAL_DATETIME\": \"2021-02-07T00:00:00\", \"REGIONID\": \"NSW1\", \"RRP\": 39.03982}, {\"INTERVAL_DATETIME\": \"2021-02-07T00:00:00\", \"REGIONID\": \"QLD1\", \"RRP\": 40.35733}, {\"INTERVAL_DATETIME\": \"2021-02-07T00:00:00\", \"REGIONID\": \"SA1\", \"RRP\": 59.6}, {\"INTERVAL_DATETIME\": \"2021-02-07T00:00:00\", \"REGIONID\": \"TAS1\", \"RRP\": 27.24295}, {\"INTERVAL_DATETIME\": \"2021-02-07T00:00:00\", \"REGIONID\": \"VIC1\", \"RRP\": 28.17058}, {\"INTERVAL_DATETIME\": \"2021-02-07T00:30:00\", \"REGIONID\": \"NSW1\", \"RRP\": 35.58}, {\"INTERVAL_DATETIME\": \"2021-02-07T00:30:00\", \"REGIONID\": \"QLD1\", \"RRP\": 47.73006}, {\"INTERVAL_DATETIME\": \"2021-02-07T00:30:00\", \"REGIONID\": \"SA1\", \"RRP\": 60.44}, {\"INTERVAL_DATETIME\": \"2021-02-07T00:30:00\", \"REGIONID\": \"TAS1\", \"RRP\": 23.85676}, {\"INTERVAL_DATETIME\": \"2021-02-07T00:30:00\", \"REGIONID\": \"VIC1\", \"RRP\": 24.60296}, {\"INTERVAL_DATETIME\": \"2021-02-07T01:00:00\", \"REGIONID\": \"NSW1\", \"RRP\": 35.48}, {\"INTERVAL_DATETIME\": \"2021-02-07T01:00:00\", \"REGIONID\": \"QLD1\", \"RRP\": 44.35}, {\"INTERVAL_DATETIME\": \"2021-02-07T01:00:00\", \"REGIONID\": \"SA1\", \"RRP\": 379.95}, {\"INTERVAL_DATETIME\": \"2021-02-07T01:00:00\", \"REGIONID\": \"TAS1\", \"RRP\": 13.60667}, {\"INTERVAL_DATETIME\": \"2021-02-07T01:00:00\", \"REGIONID\": \"VIC1\", \"RRP\": 14.06999}, {\"INTERVAL_DATETIME\": \"2021-02-07T01:30:00\", \"REGIONID\": \"NSW1\", \"RRP\": 35.48}, {\"INTERVAL_DATETIME\": \"2021-02-07T01:30:00\", \"REGIONID\": \"QLD1\", \"RRP\": 40.73003}, {\"INTERVAL_DATETIME\": \"2021-02-07T01:30:00\", \"REGIONID\": \"SA1\", \"RRP\": 60.44}, {\"INTERVAL_DATETIME\": \"2021-02-07T01:30:00\", \"REGIONID\": \"TAS1\", \"RRP\": 11.21}, {\"INTERVAL_DATETIME\": \"2021-02-07T01:30:00\", \"REGIONID\": \"VIC1\", \"RRP\": 11.3179}, {\"INTERVAL_DATETIME\": \"2021-02-07T02:00:00\", \"REGIONID\": \"NSW1\", \"RRP\": 35.4598}, {\"INTERVAL_DATETIME\": \"2021-02-07T02:00:00\", \"REGIONID\": \"QLD1\", \"RRP\": 36.97272}, {\"INTERVAL_DATETIME\": \"2021-02-07T02:00:00\", \"REGIONID\": \"SA1\", \"RRP\": 379.95}, {\"INTERVAL_DATETIME\": \"2021-02-07T02:00:00\", \"REGIONID\": \"TAS1\", \"RRP\": 11.16}, {\"INTERVAL_DATETIME\": \"2021-02-07T02:00:00\", \"REGIONID\": \"VIC1\", \"RRP\": 10.86809}, {\"INTERVAL_DATETIME\": \"2021-02-07T02:30:00\", \"REGIONID\": \"NSW1\", \"RRP\": 35.46}, {\"INTERVAL_DATETIME\": \"2021-02-07T02:30:00\", \"REGIONID\": \"QLD1\", \"RRP\": 36.39236}, {\"INTERVAL_DATETIME\": \"2021-02-07T02:30:00\", \"REGIONID\": \"SA1\", \"RRP\": 379.95}, {\"INTERVAL_DATETIME\": \"2021-02-07T02:30:00\", \"REGIONID\": \"TAS1\", \"RRP\": 9.45053}, {\"INTERVAL_DATETIME\": \"2021-02-07T02:30:00\", \"REGIONID\": \"VIC1\", \"RRP\": 9.1801}, {\"INTERVAL_DATETIME\": \"2021-02-07T03:00:00\", \"REGIONID\": \"NSW1\", \"RRP\": 35.46}, {\"INTERVAL_DATETIME\": \"2021-02-07T03:00:00\", \"REGIONID\": \"QLD1\", \"RRP\": 36.09858}, {\"INTERVAL_DATETIME\": \"2021-02-07T03:00:00\", \"REGIONID\": \"SA1\", \"RRP\": 379.98}, {\"INTERVAL_DATETIME\": \"2021-02-07T03:00:00\", \"REGIONID\": \"TAS1\", \"RRP\": 9.12071}, {\"INTERVAL_DATETIME\": \"2021-02-07T03:00:00\", \"REGIONID\": \"VIC1\", \"RRP\": 8.95011}, {\"INTERVAL_DATETIME\": \"2021-02-07T03:30:00\", \"REGIONID\": \"NSW1\", \"RRP\": 35.46}, {\"INTERVAL_DATETIME\": \"2021-02-07T03:30:00\", \"REGIONID\": \"QLD1\", \"RRP\": 35.81669}, {\"INTERVAL_DATETIME\": \"2021-02-07T03:30:00\", \"REGIONID\": \"SA1\", \"RRP\": 578.81}, {\"INTERVAL_DATETIME\": \"2021-02-07T03:30:00\", \"REGIONID\": \"TAS1\", \"RRP\": 9.09744}, {\"INTERVAL_DATETIME\": \"2021-02-07T03:30:00\", \"REGIONID\": \"VIC1\", \"RRP\": 8.95011}, {\"INTERVAL_DATETIME\": \"2021-02-07T04:00:00\", \"REGIONID\": \"NSW1\", \"RRP\": 35.46}, {\"INTERVAL_DATETIME\": \"2021-02-07T04:00:00\", \"REGIONID\": \"QLD1\", \"RRP\": 35.54282}, {\"INTERVAL_DATETIME\": \"2021-02-07T04:00:00\", \"REGIONID\": \"SA1\", \"RRP\": 578.81}, {\"INTERVAL_DATETIME\": \"2021-02-07T04:00:00\", \"REGIONID\": \"TAS1\", \"RRP\": 9.12071}, {\"INTERVAL_DATETIME\": \"2021-02-07T04:00:00\", \"REGIONID\": \"VIC1\", \"RRP\": 8.95011}, {\"INTERVAL_DATETIME\": \"2021-02-07T04:30:00\", \"REGIONID\": \"NSW1\", \"RRP\": 32.5}, {\"INTERVAL_DATETIME\": \"2021-02-07T04:30:00\", \"REGIONID\": \"QLD1\", \"RRP\": 33.31516}, {\"INTERVAL_DATETIME\": \"2021-02-07T04:30:00\", \"REGIONID\": \"SA1\", \"RRP\": 14.29391}, {\"INTERVAL_DATETIME\": \"2021-02-07T04:30:00\", \"REGIONID\": \"TAS1\", \"RRP\": 9.14397}, {\"INTERVAL_DATETIME\": \"2021-02-07T04:30:00\", \"REGIONID\": \"VIC1\", \"RRP\": 8.95011}, {\"INTERVAL_DATETIME\": \"2021-02-07T05:00:00\", \"REGIONID\": \"NSW1\", \"RRP\": 32.47}, {\"INTERVAL_DATETIME\": \"2021-02-07T05:00:00\", \"REGIONID\": \"QLD1\", \"RRP\": 33.28525}, {\"INTERVAL_DATETIME\": \"2021-02-07T05:00:00\", \"REGIONID\": \"SA1\", \"RRP\": 14.28998}, {\"INTERVAL_DATETIME\": \"2021-02-07T05:00:00\", \"REGIONID\": \"TAS1\", \"RRP\": 9.14397}, {\"INTERVAL_DATETIME\": \"2021-02-07T05:00:00\", \"REGIONID\": \"VIC1\", \"RRP\": 8.95011}, {\"INTERVAL_DATETIME\": \"2021-02-07T05:30:00\", \"REGIONID\": \"NSW1\", \"RRP\": 31.89015}, {\"INTERVAL_DATETIME\": \"2021-02-07T05:30:00\", \"REGIONID\": \"QLD1\", \"RRP\": 32.69948}, {\"INTERVAL_DATETIME\": \"2021-02-07T05:30:00\", \"REGIONID\": \"SA1\", \"RRP\": 13.75289}, {\"INTERVAL_DATETIME\": \"2021-02-07T05:30:00\", \"REGIONID\": \"TAS1\", \"RRP\": 9.14397}, {\"INTERVAL_DATETIME\": \"2021-02-07T05:30:00\", \"REGIONID\": \"VIC1\", \"RRP\": 8.95011}, {\"INTERVAL_DATETIME\": \"2021-02-07T06:00:00\", \"REGIONID\": \"NSW1\", \"RRP\": 30.08644}, {\"INTERVAL_DATETIME\": \"2021-02-07T06:00:00\", \"REGIONID\": \"QLD1\", \"RRP\": 30.15}, {\"INTERVAL_DATETIME\": \"2021-02-07T06:00:00\", \"REGIONID\": \"SA1\", \"RRP\": 13.68811}, {\"INTERVAL_DATETIME\": \"2021-02-07T06:00:00\", \"REGIONID\": \"TAS1\", \"RRP\": 9.16724}, {\"INTERVAL_DATETIME\": \"2021-02-07T06:00:00\", \"REGIONID\": \"VIC1\", \"RRP\": 8.95011}, {\"INTERVAL_DATETIME\": \"2021-02-07T06:30:00\", \"REGIONID\": \"NSW1\", \"RRP\": 26.44678}, {\"INTERVAL_DATETIME\": \"2021-02-07T06:30:00\", \"REGIONID\": \"QLD1\", \"RRP\": 26.51}, {\"INTERVAL_DATETIME\": \"2021-02-07T06:30:00\", \"REGIONID\": \"SA1\", \"RRP\": 12.66546}, {\"INTERVAL_DATETIME\": \"2021-02-07T06:30:00\", \"REGIONID\": \"TAS1\", \"RRP\": 9.1905}, {\"INTERVAL_DATETIME\": \"2021-02-07T06:30:00\", \"REGIONID\": \"VIC1\", \"RRP\": 8.95011}, {\"INTERVAL_DATETIME\": \"2021-02-07T07:00:00\", \"REGIONID\": \"NSW1\", \"RRP\": 24.25558}, {\"INTERVAL_DATETIME\": \"2021-02-07T07:00:00\", \"REGIONID\": \"QLD1\", \"RRP\": 25.06294}, {\"INTERVAL_DATETIME\": \"2021-02-07T07:00:00\", \"REGIONID\": \"SA1\", \"RRP\": 11.28459}, {\"INTERVAL_DATETIME\": \"2021-02-07T07:00:00\", \"REGIONID\": \"TAS1\", \"RRP\": 9.23692}, {\"INTERVAL_DATETIME\": \"2021-02-07T07:00:00\", \"REGIONID\": \"VIC1\", \"RRP\": 8.95}, {\"INTERVAL_DATETIME\": \"2021-02-07T07:30:00\", \"REGIONID\": \"NSW1\", \"RRP\": 21.51804}, {\"INTERVAL_DATETIME\": \"2021-02-07T07:30:00\", \"REGIONID\": \"QLD1\", \"RRP\": 23.27151}, {\"INTERVAL_DATETIME\": \"2021-02-07T07:30:00\", \"REGIONID\": \"SA1\", \"RRP\": 9.72976}, {\"INTERVAL_DATETIME\": \"2021-02-07T07:30:00\", \"REGIONID\": \"TAS1\", \"RRP\": 9.28345}, {\"INTERVAL_DATETIME\": \"2021-02-07T07:30:00\", \"REGIONID\": \"VIC1\", \"RRP\": 8.95}, {\"INTERVAL_DATETIME\": \"2021-02-07T08:00:00\", \"REGIONID\": \"NSW1\", \"RRP\": 12.14626}, {\"INTERVAL_DATETIME\": \"2021-02-07T08:00:00\", \"REGIONID\": \"QLD1\", \"RRP\": 12.94}, {\"INTERVAL_DATETIME\": \"2021-02-07T08:00:00\", \"REGIONID\": \"SA1\", \"RRP\": 9.0865}, {\"INTERVAL_DATETIME\": \"2021-02-07T08:00:00\", \"REGIONID\": \"TAS1\", \"RRP\": 9.30672}, {\"INTERVAL_DATETIME\": \"2021-02-07T08:00:00\", \"REGIONID\": \"VIC1\", \"RRP\": 8.95}, {\"INTERVAL_DATETIME\": \"2021-02-07T08:30:00\", \"REGIONID\": \"NSW1\", \"RRP\": 25.31299}, {\"INTERVAL_DATETIME\": \"2021-02-07T08:30:00\", \"REGIONID\": \"QLD1\", \"RRP\": 25.41}, {\"INTERVAL_DATETIME\": \"2021-02-07T08:30:00\", \"REGIONID\": \"SA1\", \"RRP\": -1.9118}, {\"INTERVAL_DATETIME\": \"2021-02-07T08:30:00\", \"REGIONID\": \"TAS1\", \"RRP\": 18.24}, {\"INTERVAL_DATETIME\": \"2021-02-07T08:30:00\", \"REGIONID\": \"VIC1\", \"RRP\": -1.96527}, {\"INTERVAL_DATETIME\": \"2021-02-07T09:00:00\", \"REGIONID\": \"NSW1\", \"RRP\": 23.29495}, {\"INTERVAL_DATETIME\": \"2021-02-07T09:00:00\", \"REGIONID\": \"QLD1\", \"RRP\": 24.84}, {\"INTERVAL_DATETIME\": \"2021-02-07T09:00:00\", \"REGIONID\": \"SA1\", \"RRP\": -3.53079}, {\"INTERVAL_DATETIME\": \"2021-02-07T09:00:00\", \"REGIONID\": \"TAS1\", \"RRP\": 25.74281}, {\"INTERVAL_DATETIME\": \"2021-02-07T09:00:00\", \"REGIONID\": \"VIC1\", \"RRP\": -3.72774}, {\"INTERVAL_DATETIME\": \"2021-02-07T09:30:00\", \"REGIONID\": \"NSW1\", \"RRP\": 22.93208}, {\"INTERVAL_DATETIME\": \"2021-02-07T09:30:00\", \"REGIONID\": \"QLD1\", \"RRP\": 24.84}, {\"INTERVAL_DATETIME\": \"2021-02-07T09:30:00\", \"REGIONID\": \"SA1\", \"RRP\": -3.94668}, {\"INTERVAL_DATETIME\": \"2021-02-07T09:30:00\", \"REGIONID\": \"TAS1\", \"RRP\": 25.02981}, {\"INTERVAL_DATETIME\": \"2021-02-07T09:30:00\", \"REGIONID\": \"VIC1\", \"RRP\": -4.35358}, {\"INTERVAL_DATETIME\": \"2021-02-07T10:00:00\", \"REGIONID\": \"NSW1\", \"RRP\": 12.57}, {\"INTERVAL_DATETIME\": \"2021-02-07T10:00:00\", \"REGIONID\": \"QLD1\", \"RRP\": 25.0}, {\"INTERVAL_DATETIME\": \"2021-02-07T10:00:00\", \"REGIONID\": \"SA1\", \"RRP\": -11.88849}, {\"INTERVAL_DATETIME\": \"2021-02-07T10:00:00\", \"REGIONID\": \"TAS1\", \"RRP\": 21.35}, {\"INTERVAL_DATETIME\": \"2021-02-07T10:00:00\", \"REGIONID\": \"VIC1\", \"RRP\": -13.55848}, {\"INTERVAL_DATETIME\": \"2021-02-07T10:30:00\", \"REGIONID\": \"NSW1\", \"RRP\": 12.57}, {\"INTERVAL_DATETIME\": \"2021-02-07T10:30:00\", \"REGIONID\": \"QLD1\", \"RRP\": 25.0}, {\"INTERVAL_DATETIME\": \"2021-02-07T10:30:00\", \"REGIONID\": \"SA1\", \"RRP\": -200.0}, {\"INTERVAL_DATETIME\": \"2021-02-07T10:30:00\", \"REGIONID\": \"TAS1\", \"RRP\": 21.42615}, {\"INTERVAL_DATETIME\": \"2021-02-07T10:30:00\", \"REGIONID\": \"VIC1\", \"RRP\": -36.81993}, {\"INTERVAL_DATETIME\": \"2021-02-07T11:00:00\", \"REGIONID\": \"NSW1\", \"RRP\": 12.57}, {\"INTERVAL_DATETIME\": \"2021-02-07T11:00:00\", \"REGIONID\": \"QLD1\", \"RRP\": 25.11002}, {\"INTERVAL_DATETIME\": \"2021-02-07T11:00:00\", \"REGIONID\": \"SA1\", \"RRP\": -931.51742}, {\"INTERVAL_DATETIME\": \"2021-02-07T11:00:00\", \"REGIONID\": \"TAS1\", \"RRP\": 21.35}, {\"INTERVAL_DATETIME\": \"2021-02-07T11:00:00\", \"REGIONID\": \"VIC1\", \"RRP\": -36.81993}, {\"INTERVAL_DATETIME\": \"2021-02-07T11:30:00\", \"REGIONID\": \"NSW1\", \"RRP\": 12.57}, {\"INTERVAL_DATETIME\": \"2021-02-07T11:30:00\", \"REGIONID\": \"QLD1\", \"RRP\": 25.0}, {\"INTERVAL_DATETIME\": \"2021-02-07T11:30:00\", \"REGIONID\": \"SA1\", \"RRP\": -924.17691}, {\"INTERVAL_DATETIME\": \"2021-02-07T11:30:00\", \"REGIONID\": \"TAS1\", \"RRP\": 21.35}, {\"INTERVAL_DATETIME\": \"2021-02-07T11:30:00\", \"REGIONID\": \"VIC1\", \"RRP\": -49.05664}, {\"INTERVAL_DATETIME\": \"2021-02-07T12:00:00\", \"REGIONID\": \"NSW1\", \"RRP\": 12.57}, {\"INTERVAL_DATETIME\": \"2021-02-07T12:00:00\", \"REGIONID\": \"QLD1\", \"RRP\": 26.51}, {\"INTERVAL_DATETIME\": \"2021-02-07T12:00:00\", \"REGIONID\": \"SA1\", \"RRP\": -902.3532}, {\"INTERVAL_DATETIME\": \"2021-02-07T12:00:00\", \"REGIONID\": \"TAS1\", \"RRP\": -57.09061}, {\"INTERVAL_DATETIME\": \"2021-02-07T12:00:00\", \"REGIONID\": \"VIC1\", \"RRP\": -55.03997}, {\"INTERVAL_DATETIME\": \"2021-02-07T12:30:00\", \"REGIONID\": \"NSW1\", \"RRP\": 22.18708}, {\"INTERVAL_DATETIME\": \"2021-02-07T12:30:00\", \"REGIONID\": \"QLD1\", \"RRP\": 26.62}, {\"INTERVAL_DATETIME\": \"2021-02-07T12:30:00\", \"REGIONID\": \"SA1\", \"RRP\": -903.93309}, {\"INTERVAL_DATETIME\": \"2021-02-07T12:30:00\", \"REGIONID\": \"TAS1\", \"RRP\": -103.98567}, {\"INTERVAL_DATETIME\": \"2021-02-07T12:30:00\", \"REGIONID\": \"VIC1\", \"RRP\": -100.0}, {\"INTERVAL_DATETIME\": \"2021-02-07T13:00:00\", \"REGIONID\": \"NSW1\", \"RRP\": 22.33005}, {\"INTERVAL_DATETIME\": \"2021-02-07T13:00:00\", \"REGIONID\": \"QLD1\", \"RRP\": 26.62}, {\"INTERVAL_DATETIME\": \"2021-02-07T13:00:00\", \"REGIONID\": \"SA1\", \"RRP\": -885.11403}, {\"INTERVAL_DATETIME\": \"2021-02-07T13:00:00\", \"REGIONID\": \"TAS1\", \"RRP\": -104.24562}, {\"INTERVAL_DATETIME\": \"2021-02-07T13:00:00\", \"REGIONID\": \"VIC1\", \"RRP\": -100.0}, {\"INTERVAL_DATETIME\": \"2021-02-07T13:30:00\", \"REGIONID\": \"NSW1\", \"RRP\": 22.1212}, {\"INTERVAL_DATETIME\": \"2021-02-07T13:30:00\", \"REGIONID\": \"QLD1\", \"RRP\": 30.1}, {\"INTERVAL_DATETIME\": \"2021-02-07T13:30:00\", \"REGIONID\": \"SA1\", \"RRP\": -874.54848}, {\"INTERVAL_DATETIME\": \"2021-02-07T13:30:00\", \"REGIONID\": \"TAS1\", \"RRP\": -98.10557}, {\"INTERVAL_DATETIME\": \"2021-02-07T13:30:00\", \"REGIONID\": \"VIC1\", \"RRP\": -100.0}, {\"INTERVAL_DATETIME\": \"2021-02-07T14:00:00\", \"REGIONID\": \"NSW1\", \"RRP\": 29.02}, {\"INTERVAL_DATETIME\": \"2021-02-07T14:00:00\", \"REGIONID\": \"QLD1\", \"RRP\": 37.83752}, {\"INTERVAL_DATETIME\": \"2021-02-07T14:00:00\", \"REGIONID\": \"SA1\", \"RRP\": -863.43918}, {\"INTERVAL_DATETIME\": \"2021-02-07T14:00:00\", \"REGIONID\": \"TAS1\", \"RRP\": 25.89}, {\"INTERVAL_DATETIME\": \"2021-02-07T14:00:00\", \"REGIONID\": \"VIC1\", \"RRP\": -100.0}, {\"INTERVAL_DATETIME\": \"2021-02-07T14:30:00\", \"REGIONID\": \"NSW1\", \"RRP\": 32.47}, {\"INTERVAL_DATETIME\": \"2021-02-07T14:30:00\", \"REGIONID\": \"QLD1\", \"RRP\": 44.35}, {\"INTERVAL_DATETIME\": \"2021-02-07T14:30:00\", \"REGIONID\": \"SA1\", \"RRP\": -858.8843}, {\"INTERVAL_DATETIME\": \"2021-02-07T14:30:00\", \"REGIONID\": \"TAS1\", \"RRP\": 30.22}, {\"INTERVAL_DATETIME\": \"2021-02-07T14:30:00\", \"REGIONID\": \"VIC1\", \"RRP\": -100.0}, {\"INTERVAL_DATETIME\": \"2021-02-07T15:00:00\", \"REGIONID\": \"NSW1\", \"RRP\": 32.55}, {\"INTERVAL_DATETIME\": \"2021-02-07T15:00:00\", \"REGIONID\": \"QLD1\", \"RRP\": 47.73006}, {\"INTERVAL_DATETIME\": \"2021-02-07T15:00:00\", \"REGIONID\": \"SA1\", \"RRP\": -875.12685}, {\"INTERVAL_DATETIME\": \"2021-02-07T15:00:00\", \"REGIONID\": \"TAS1\", \"RRP\": 33.04}, {\"INTERVAL_DATETIME\": \"2021-02-07T15:00:00\", \"REGIONID\": \"VIC1\", \"RRP\": -49.7}, {\"INTERVAL_DATETIME\": \"2021-02-07T15:30:00\", \"REGIONID\": \"NSW1\", \"RRP\": 32.55}, {\"INTERVAL_DATETIME\": \"2021-02-07T15:30:00\", \"REGIONID\": \"QLD1\", \"RRP\": 47.73006}, {\"INTERVAL_DATETIME\": \"2021-02-07T15:30:00\", \"REGIONID\": \"SA1\", \"RRP\": -869.62431}, {\"INTERVAL_DATETIME\": \"2021-02-07T15:30:00\", \"REGIONID\": \"TAS1\", \"RRP\": 34.84694}, {\"INTERVAL_DATETIME\": \"2021-02-07T15:30:00\", \"REGIONID\": \"VIC1\", \"RRP\": -36.81993}, {\"INTERVAL_DATETIME\": \"2021-02-07T16:00:00\", \"REGIONID\": \"NSW1\", \"RRP\": 32.56}, {\"INTERVAL_DATETIME\": \"2021-02-07T16:00:00\", \"REGIONID\": \"QLD1\", \"RRP\": 49.61}, {\"INTERVAL_DATETIME\": \"2021-02-07T16:00:00\", \"REGIONID\": \"SA1\", \"RRP\": -887.49615}, {\"INTERVAL_DATETIME\": \"2021-02-07T16:00:00\", \"REGIONID\": \"TAS1\", \"RRP\": 30.32}, {\"INTERVAL_DATETIME\": \"2021-02-07T16:00:00\", \"REGIONID\": \"VIC1\", \"RRP\": 8.95}, {\"INTERVAL_DATETIME\": \"2021-02-07T16:30:00\", \"REGIONID\": \"NSW1\", \"RRP\": 35.47}, {\"INTERVAL_DATETIME\": \"2021-02-07T16:30:00\", \"REGIONID\": \"QLD1\", \"RRP\": 49.61}, {\"INTERVAL_DATETIME\": \"2021-02-07T16:30:00\", \"REGIONID\": \"SA1\", \"RRP\": -939.27427}, {\"INTERVAL_DATETIME\": \"2021-02-07T16:30:00\", \"REGIONID\": \"TAS1\", \"RRP\": 30.32}, {\"INTERVAL_DATETIME\": \"2021-02-07T16:30:00\", \"REGIONID\": \"VIC1\", \"RRP\": 8.95}, {\"INTERVAL_DATETIME\": \"2021-02-07T17:00:00\", \"REGIONID\": \"NSW1\", \"RRP\": 35.57}, {\"INTERVAL_DATETIME\": \"2021-02-07T17:00:00\", \"REGIONID\": \"QLD1\", \"RRP\": 49.5}, {\"INTERVAL_DATETIME\": \"2021-02-07T17:00:00\", \"REGIONID\": \"SA1\", \"RRP\": -190.0}, {\"INTERVAL_DATETIME\": \"2021-02-07T17:00:00\", \"REGIONID\": \"TAS1\", \"RRP\": 30.32}, {\"INTERVAL_DATETIME\": \"2021-02-07T17:00:00\", \"REGIONID\": \"VIC1\", \"RRP\": 8.95}, {\"INTERVAL_DATETIME\": \"2021-02-07T17:30:00\", \"REGIONID\": \"NSW1\", \"RRP\": 35.57}, {\"INTERVAL_DATETIME\": \"2021-02-07T17:30:00\", \"REGIONID\": \"QLD1\", \"RRP\": 200.11}, {\"INTERVAL_DATETIME\": \"2021-02-07T17:30:00\", \"REGIONID\": \"SA1\", \"RRP\": 7.82241}, {\"INTERVAL_DATETIME\": \"2021-02-07T17:30:00\", \"REGIONID\": \"TAS1\", \"RRP\": 30.32}, {\"INTERVAL_DATETIME\": \"2021-02-07T17:30:00\", \"REGIONID\": \"VIC1\", \"RRP\": 8.95}, {\"INTERVAL_DATETIME\": \"2021-02-07T18:00:00\", \"REGIONID\": \"NSW1\", \"RRP\": 35.58}, {\"INTERVAL_DATETIME\": \"2021-02-07T18:00:00\", \"REGIONID\": \"QLD1\", \"RRP\": 279.95}, {\"INTERVAL_DATETIME\": \"2021-02-07T18:00:00\", \"REGIONID\": \"SA1\", \"RRP\": 8.26825}, {\"INTERVAL_DATETIME\": \"2021-02-07T18:00:00\", \"REGIONID\": \"TAS1\", \"RRP\": 30.32}, {\"INTERVAL_DATETIME\": \"2021-02-07T18:00:00\", \"REGIONID\": \"VIC1\", \"RRP\": 8.95011}, {\"INTERVAL_DATETIME\": \"2021-02-07T18:30:00\", \"REGIONID\": \"NSW1\", \"RRP\": 35.58}, {\"INTERVAL_DATETIME\": \"2021-02-07T18:30:00\", \"REGIONID\": \"QLD1\", \"RRP\": 291.03}, {\"INTERVAL_DATETIME\": \"2021-02-07T18:30:00\", \"REGIONID\": \"SA1\", \"RRP\": 10.61366}, {\"INTERVAL_DATETIME\": \"2021-02-07T18:30:00\", \"REGIONID\": \"TAS1\", \"RRP\": 11.21}, {\"INTERVAL_DATETIME\": \"2021-02-07T18:30:00\", \"REGIONID\": \"VIC1\", \"RRP\": 10.94449}, {\"INTERVAL_DATETIME\": \"2021-02-07T19:00:00\", \"REGIONID\": \"NSW1\", \"RRP\": 39.12}, {\"INTERVAL_DATETIME\": \"2021-02-07T19:00:00\", \"REGIONID\": \"QLD1\", \"RRP\": 593.42}, {\"INTERVAL_DATETIME\": \"2021-02-07T19:00:00\", \"REGIONID\": \"SA1\", \"RRP\": 30.73169}, {\"INTERVAL_DATETIME\": \"2021-02-07T19:00:00\", \"REGIONID\": \"TAS1\", \"RRP\": 30.32}, {\"INTERVAL_DATETIME\": \"2021-02-07T19:00:00\", \"REGIONID\": \"VIC1\", \"RRP\": 30.3727}, {\"INTERVAL_DATETIME\": \"2021-02-07T19:30:00\", \"REGIONID\": \"NSW1\", \"RRP\": 39.12}, {\"INTERVAL_DATETIME\": \"2021-02-07T19:30:00\", \"REGIONID\": \"QLD1\", \"RRP\": 291.03}, {\"INTERVAL_DATETIME\": \"2021-02-07T19:30:00\", \"REGIONID\": \"SA1\", \"RRP\": 35.86911}, {\"INTERVAL_DATETIME\": \"2021-02-07T19:30:00\", \"REGIONID\": \"TAS1\", \"RRP\": 32.07445}, {\"INTERVAL_DATETIME\": \"2021-02-07T19:30:00\", \"REGIONID\": \"VIC1\", \"RRP\": 33.62882}, {\"INTERVAL_DATETIME\": \"2021-02-07T20:00:00\", \"REGIONID\": \"NSW1\", \"RRP\": 39.15}, {\"INTERVAL_DATETIME\": \"2021-02-07T20:00:00\", \"REGIONID\": \"QLD1\", \"RRP\": 291.03}, {\"INTERVAL_DATETIME\": \"2021-02-07T20:00:00\", \"REGIONID\": \"SA1\", \"RRP\": 37.2818}, {\"INTERVAL_DATETIME\": \"2021-02-07T20:00:00\", \"REGIONID\": \"TAS1\", \"RRP\": 32.65265}, {\"INTERVAL_DATETIME\": \"2021-02-07T20:00:00\", \"REGIONID\": \"VIC1\", \"RRP\": 34.41598}, {\"INTERVAL_DATETIME\": \"2021-02-07T20:30:00\", \"REGIONID\": \"NSW1\", \"RRP\": 39.12}, {\"INTERVAL_DATETIME\": \"2021-02-07T20:30:00\", \"REGIONID\": \"QLD1\", \"RRP\": 200.11}, {\"INTERVAL_DATETIME\": \"2021-02-07T20:30:00\", \"REGIONID\": \"SA1\", \"RRP\": 36.81122}, {\"INTERVAL_DATETIME\": \"2021-02-07T20:30:00\", \"REGIONID\": \"TAS1\", \"RRP\": 32.40856}, {\"INTERVAL_DATETIME\": \"2021-02-07T20:30:00\", \"REGIONID\": \"VIC1\", \"RRP\": 34.15878}, {\"INTERVAL_DATETIME\": \"2021-02-07T21:00:00\", \"REGIONID\": \"NSW1\", \"RRP\": 35.58}, {\"INTERVAL_DATETIME\": \"2021-02-07T21:00:00\", \"REGIONID\": \"QLD1\", \"RRP\": 70.95}, {\"INTERVAL_DATETIME\": \"2021-02-07T21:00:00\", \"REGIONID\": \"SA1\", \"RRP\": 33.16047}, {\"INTERVAL_DATETIME\": \"2021-02-07T21:00:00\", \"REGIONID\": \"TAS1\", \"RRP\": 30.32}, {\"INTERVAL_DATETIME\": \"2021-02-07T21:00:00\", \"REGIONID\": \"VIC1\", \"RRP\": 31.09199}, {\"INTERVAL_DATETIME\": \"2021-02-07T21:30:00\", \"REGIONID\": \"NSW1\", \"RRP\": 35.57}, {\"INTERVAL_DATETIME\": \"2021-02-07T21:30:00\", \"REGIONID\": \"QLD1\", \"RRP\": 49.5}, {\"INTERVAL_DATETIME\": \"2021-02-07T21:30:00\", \"REGIONID\": \"SA1\", \"RRP\": 32.31881}, {\"INTERVAL_DATETIME\": \"2021-02-07T21:30:00\", \"REGIONID\": \"TAS1\", \"RRP\": 30.32}, {\"INTERVAL_DATETIME\": \"2021-02-07T21:30:00\", \"REGIONID\": \"VIC1\", \"RRP\": 30.61185}, {\"INTERVAL_DATETIME\": \"2021-02-07T22:00:00\", \"REGIONID\": \"NSW1\", \"RRP\": 35.57}, {\"INTERVAL_DATETIME\": \"2021-02-07T22:00:00\", \"REGIONID\": \"QLD1\", \"RRP\": 55.74003}, {\"INTERVAL_DATETIME\": \"2021-02-07T22:00:00\", \"REGIONID\": \"SA1\", \"RRP\": 32.83225}, {\"INTERVAL_DATETIME\": \"2021-02-07T22:00:00\", \"REGIONID\": \"TAS1\", \"RRP\": 58.14}, {\"INTERVAL_DATETIME\": \"2021-02-07T22:00:00\", \"REGIONID\": \"VIC1\", \"RRP\": 31.58407}, {\"INTERVAL_DATETIME\": \"2021-02-07T22:30:00\", \"REGIONID\": \"NSW1\", \"RRP\": 35.58}, {\"INTERVAL_DATETIME\": \"2021-02-07T22:30:00\", \"REGIONID\": \"QLD1\", \"RRP\": 55.74003}, {\"INTERVAL_DATETIME\": \"2021-02-07T22:30:00\", \"REGIONID\": \"SA1\", \"RRP\": 31.68304}, {\"INTERVAL_DATETIME\": \"2021-02-07T22:30:00\", \"REGIONID\": \"TAS1\", \"RRP\": 55.75}, {\"INTERVAL_DATETIME\": \"2021-02-07T22:30:00\", \"REGIONID\": \"VIC1\", \"RRP\": 30.62634}, {\"INTERVAL_DATETIME\": \"2021-02-07T23:00:00\", \"REGIONID\": \"NSW1\", \"RRP\": 35.48}, {\"INTERVAL_DATETIME\": \"2021-02-07T23:00:00\", \"REGIONID\": \"QLD1\", \"RRP\": 47.73006}, {\"INTERVAL_DATETIME\": \"2021-02-07T23:00:00\", \"REGIONID\": \"SA1\", \"RRP\": 31.17147}, {\"INTERVAL_DATETIME\": \"2021-02-07T23:00:00\", \"REGIONID\": \"TAS1\", \"RRP\": 59.88694}, {\"INTERVAL_DATETIME\": \"2021-02-07T23:00:00\", \"REGIONID\": \"VIC1\", \"RRP\": 30.28559}, {\"INTERVAL_DATETIME\": \"2021-02-07T23:30:00\", \"REGIONID\": \"NSW1\", \"RRP\": 35.58}, {\"INTERVAL_DATETIME\": \"2021-02-07T23:30:00\", \"REGIONID\": \"QLD1\", \"RRP\": 44.25}, {\"INTERVAL_DATETIME\": \"2021-02-07T23:30:00\", \"REGIONID\": \"SA1\", \"RRP\": 29.96678}, {\"INTERVAL_DATETIME\": \"2021-02-07T23:30:00\", \"REGIONID\": \"TAS1\", \"RRP\": 55.49}, {\"INTERVAL_DATETIME\": \"2021-02-07T23:30:00\", \"REGIONID\": \"VIC1\", \"RRP\": 28.96}, {\"INTERVAL_DATETIME\": \"2021-02-08T00:00:00\", \"REGIONID\": \"NSW1\", \"RRP\": 35.48}, {\"INTERVAL_DATETIME\": \"2021-02-08T00:00:00\", \"REGIONID\": \"QLD1\", \"RRP\": 36.69989}, {\"INTERVAL_DATETIME\": \"2021-02-08T00:00:00\", \"REGIONID\": \"SA1\", \"RRP\": 34.02714}, {\"INTERVAL_DATETIME\": \"2021-02-08T00:00:00\", \"REGIONID\": \"TAS1\", \"RRP\": 34.34685}, {\"INTERVAL_DATETIME\": \"2021-02-08T00:00:00\", \"REGIONID\": \"VIC1\", \"RRP\": 31.41518}, {\"INTERVAL_DATETIME\": \"2021-02-08T00:30:00\", \"REGIONID\": \"NSW1\", \"RRP\": 35.48}, {\"INTERVAL_DATETIME\": \"2021-02-08T00:30:00\", \"REGIONID\": \"QLD1\", \"RRP\": 44.35}, {\"INTERVAL_DATETIME\": \"2021-02-08T00:30:00\", \"REGIONID\": \"SA1\", \"RRP\": 34.68875}, {\"INTERVAL_DATETIME\": \"2021-02-08T00:30:00\", \"REGIONID\": \"TAS1\", \"RRP\": 32.88519}, {\"INTERVAL_DATETIME\": \"2021-02-08T00:30:00\", \"REGIONID\": \"VIC1\", \"RRP\": 31.54587}, {\"INTERVAL_DATETIME\": \"2021-02-08T01:00:00\", \"REGIONID\": \"NSW1\", \"RRP\": 35.47}, {\"INTERVAL_DATETIME\": \"2021-02-08T01:00:00\", \"REGIONID\": \"QLD1\", \"RRP\": 40.73003}, {\"INTERVAL_DATETIME\": \"2021-02-08T01:00:00\", \"REGIONID\": \"SA1\", \"RRP\": 33.95326}, {\"INTERVAL_DATETIME\": \"2021-02-08T01:00:00\", \"REGIONID\": \"TAS1\", \"RRP\": 36.74967}, {\"INTERVAL_DATETIME\": \"2021-02-08T01:00:00\", \"REGIONID\": \"VIC1\", \"RRP\": 31.18701}, {\"INTERVAL_DATETIME\": \"2021-02-08T01:30:00\", \"REGIONID\": \"NSW1\", \"RRP\": 35.4598}, {\"INTERVAL_DATETIME\": \"2021-02-08T01:30:00\", \"REGIONID\": \"QLD1\", \"RRP\": 37.31638}, {\"INTERVAL_DATETIME\": \"2021-02-08T01:30:00\", \"REGIONID\": \"SA1\", \"RRP\": 33.49271}, {\"INTERVAL_DATETIME\": \"2021-02-08T01:30:00\", \"REGIONID\": \"TAS1\", \"RRP\": 37.68837}, {\"INTERVAL_DATETIME\": \"2021-02-08T01:30:00\", \"REGIONID\": \"VIC1\", \"RRP\": 31.38585}, {\"INTERVAL_DATETIME\": \"2021-02-08T02:00:00\", \"REGIONID\": \"NSW1\", \"RRP\": 33.5306}, {\"INTERVAL_DATETIME\": \"2021-02-08T02:00:00\", \"REGIONID\": \"QLD1\", \"RRP\": 35.25}, {\"INTERVAL_DATETIME\": \"2021-02-08T02:00:00\", \"REGIONID\": \"SA1\", \"RRP\": 24.58672}, {\"INTERVAL_DATETIME\": \"2021-02-08T02:00:00\", \"REGIONID\": \"TAS1\", \"RRP\": 31.1}, {\"INTERVAL_DATETIME\": \"2021-02-08T02:00:00\", \"REGIONID\": \"VIC1\", \"RRP\": 22.98}, {\"INTERVAL_DATETIME\": \"2021-02-08T02:30:00\", \"REGIONID\": \"NSW1\", \"RRP\": 34.31977}, {\"INTERVAL_DATETIME\": \"2021-02-08T02:30:00\", \"REGIONID\": \"QLD1\", \"RRP\": 35.25}, {\"INTERVAL_DATETIME\": \"2021-02-08T02:30:00\", \"REGIONID\": \"SA1\", \"RRP\": 13.92045}, {\"INTERVAL_DATETIME\": \"2021-02-08T02:30:00\", \"REGIONID\": \"TAS1\", \"RRP\": 60.34}, {\"INTERVAL_DATETIME\": \"2021-02-08T02:30:00\", \"REGIONID\": \"VIC1\", \"RRP\": 12.75942}, {\"INTERVAL_DATETIME\": \"2021-02-08T03:00:00\", \"REGIONID\": \"NSW1\", \"RRP\": 34.59436}, {\"INTERVAL_DATETIME\": \"2021-02-08T03:00:00\", \"REGIONID\": \"QLD1\", \"RRP\": 35.25}, {\"INTERVAL_DATETIME\": \"2021-02-08T03:00:00\", \"REGIONID\": \"SA1\", \"RRP\": 10.17467}, {\"INTERVAL_DATETIME\": \"2021-02-08T03:00:00\", \"REGIONID\": \"TAS1\", \"RRP\": 60.34}, {\"INTERVAL_DATETIME\": \"2021-02-08T03:00:00\", \"REGIONID\": \"VIC1\", \"RRP\": 9.1801}, {\"INTERVAL_DATETIME\": \"2021-02-08T03:30:00\", \"REGIONID\": \"NSW1\", \"RRP\": 34.8612}, {\"INTERVAL_DATETIME\": \"2021-02-08T03:30:00\", \"REGIONID\": \"QLD1\", \"RRP\": 35.25}, {\"INTERVAL_DATETIME\": \"2021-02-08T03:30:00\", \"REGIONID\": \"SA1\", \"RRP\": 10.16952}, {\"INTERVAL_DATETIME\": \"2021-02-08T03:30:00\", \"REGIONID\": \"TAS1\", \"RRP\": 60.34}, {\"INTERVAL_DATETIME\": \"2021-02-08T03:30:00\", \"REGIONID\": \"VIC1\", \"RRP\": 9.1801}, {\"INTERVAL_DATETIME\": \"2021-02-08T04:00:00\", \"REGIONID\": \"NSW1\", \"RRP\": 35.46}, {\"INTERVAL_DATETIME\": \"2021-02-08T04:00:00\", \"REGIONID\": \"QLD1\", \"RRP\": 35.73353}, {\"INTERVAL_DATETIME\": \"2021-02-08T04:00:00\", \"REGIONID\": \"SA1\", \"RRP\": 10.17799}, {\"INTERVAL_DATETIME\": \"2021-02-08T04:00:00\", \"REGIONID\": \"TAS1\", \"RRP\": 63.41611}, {\"INTERVAL_DATETIME\": \"2021-02-08T04:00:00\", \"REGIONID\": \"VIC1\", \"RRP\": 9.1801}, {\"INTERVAL_DATETIME\": \"2021-02-08T04:30:00\", \"REGIONID\": \"NSW1\", \"RRP\": 35.47}, {\"INTERVAL_DATETIME\": \"2021-02-08T04:30:00\", \"REGIONID\": \"QLD1\", \"RRP\": 35.90053}, {\"INTERVAL_DATETIME\": \"2021-02-08T04:30:00\", \"REGIONID\": \"SA1\", \"RRP\": 17.08439}, {\"INTERVAL_DATETIME\": \"2021-02-08T04:30:00\", \"REGIONID\": \"TAS1\", \"RRP\": 397.64}, {\"INTERVAL_DATETIME\": \"2021-02-08T04:30:00\", \"REGIONID\": \"VIC1\", \"RRP\": 15.73514}, {\"INTERVAL_DATETIME\": \"2021-02-08T05:00:00\", \"REGIONID\": \"NSW1\", \"RRP\": 35.48}, {\"INTERVAL_DATETIME\": \"2021-02-08T05:00:00\", \"REGIONID\": \"QLD1\", \"RRP\": 36.49448}, {\"INTERVAL_DATETIME\": \"2021-02-08T05:00:00\", \"REGIONID\": \"SA1\", \"RRP\": 23.94359}, {\"INTERVAL_DATETIME\": \"2021-02-08T05:00:00\", \"REGIONID\": \"TAS1\", \"RRP\": 397.77}, {\"INTERVAL_DATETIME\": \"2021-02-08T05:00:00\", \"REGIONID\": \"VIC1\", \"RRP\": 22.06}, {\"INTERVAL_DATETIME\": \"2021-02-08T05:30:00\", \"REGIONID\": \"NSW1\", \"RRP\": 39.15}, {\"INTERVAL_DATETIME\": \"2021-02-08T05:30:00\", \"REGIONID\": \"QLD1\", \"RRP\": 40.96757}, {\"INTERVAL_DATETIME\": \"2021-02-08T05:30:00\", \"REGIONID\": \"SA1\", \"RRP\": 37.68573}, {\"INTERVAL_DATETIME\": \"2021-02-08T05:30:00\", \"REGIONID\": \"TAS1\", \"RRP\": 397.8}, {\"INTERVAL_DATETIME\": \"2021-02-08T05:30:00\", \"REGIONID\": \"VIC1\", \"RRP\": 34.73687}, {\"INTERVAL_DATETIME\": \"2021-02-08T06:00:00\", \"REGIONID\": \"NSW1\", \"RRP\": 39.15}, {\"INTERVAL_DATETIME\": \"2021-02-08T06:00:00\", \"REGIONID\": \"QLD1\", \"RRP\": 41.67607}, {\"INTERVAL_DATETIME\": \"2021-02-08T06:00:00\", \"REGIONID\": \"SA1\", \"RRP\": 38.81767}, {\"INTERVAL_DATETIME\": \"2021-02-08T06:00:00\", \"REGIONID\": \"TAS1\", \"RRP\": 397.8}, {\"INTERVAL_DATETIME\": \"2021-02-08T06:00:00\", \"REGIONID\": \"VIC1\", \"RRP\": 34.89521}, {\"INTERVAL_DATETIME\": \"2021-02-08T06:30:00\", \"REGIONID\": \"NSW1\", \"RRP\": 39.15}, {\"INTERVAL_DATETIME\": \"2021-02-08T06:30:00\", \"REGIONID\": \"QLD1\", \"RRP\": 39.65825}, {\"INTERVAL_DATETIME\": \"2021-02-08T06:30:00\", \"REGIONID\": \"SA1\", \"RRP\": 40.1465}, {\"INTERVAL_DATETIME\": \"2021-02-08T06:30:00\", \"REGIONID\": \"TAS1\", \"RRP\": 397.8}, {\"INTERVAL_DATETIME\": \"2021-02-08T06:30:00\", \"REGIONID\": \"VIC1\", \"RRP\": 35.37773}, {\"INTERVAL_DATETIME\": \"2021-02-08T07:00:00\", \"REGIONID\": \"NSW1\", \"RRP\": 39.15}, {\"INTERVAL_DATETIME\": \"2021-02-08T07:00:00\", \"REGIONID\": \"QLD1\", \"RRP\": 40.36169}, {\"INTERVAL_DATETIME\": \"2021-02-08T07:00:00\", \"REGIONID\": \"SA1\", \"RRP\": 41.64656}, {\"INTERVAL_DATETIME\": \"2021-02-08T07:00:00\", \"REGIONID\": \"TAS1\", \"RRP\": 397.8}, {\"INTERVAL_DATETIME\": \"2021-02-08T07:00:00\", \"REGIONID\": \"VIC1\", \"RRP\": 35.44979}, {\"INTERVAL_DATETIME\": \"2021-02-08T07:30:00\", \"REGIONID\": \"NSW1\", \"RRP\": 39.12}, {\"INTERVAL_DATETIME\": \"2021-02-08T07:30:00\", \"REGIONID\": \"QLD1\", \"RRP\": 40.73009}, {\"INTERVAL_DATETIME\": \"2021-02-08T07:30:00\", \"REGIONID\": \"SA1\", \"RRP\": 20.12623}, {\"INTERVAL_DATETIME\": \"2021-02-08T07:30:00\", \"REGIONID\": \"TAS1\", \"RRP\": 397.85}, {\"INTERVAL_DATETIME\": \"2021-02-08T07:30:00\", \"REGIONID\": \"VIC1\", \"RRP\": 18.11}, {\"INTERVAL_DATETIME\": \"2021-02-08T08:00:00\", \"REGIONID\": \"NSW1\", \"RRP\": 35.58}, {\"INTERVAL_DATETIME\": \"2021-02-08T08:00:00\", \"REGIONID\": \"QLD1\", \"RRP\": 37.33439}, {\"INTERVAL_DATETIME\": \"2021-02-08T08:00:00\", \"REGIONID\": \"SA1\", \"RRP\": 9.80669}, {\"INTERVAL_DATETIME\": \"2021-02-08T08:00:00\", \"REGIONID\": \"TAS1\", \"RRP\": 397.85}, {\"INTERVAL_DATETIME\": \"2021-02-08T08:00:00\", \"REGIONID\": \"VIC1\", \"RRP\": 9.19}, {\"INTERVAL_DATETIME\": \"2021-02-08T08:30:00\", \"REGIONID\": \"NSW1\", \"RRP\": 35.58}, {\"INTERVAL_DATETIME\": \"2021-02-08T08:30:00\", \"REGIONID\": \"QLD1\", \"RRP\": 40.73009}, {\"INTERVAL_DATETIME\": \"2021-02-08T08:30:00\", \"REGIONID\": \"SA1\", \"RRP\": 9.34975}, {\"INTERVAL_DATETIME\": \"2021-02-08T08:30:00\", \"REGIONID\": \"TAS1\", \"RRP\": 397.85}, {\"INTERVAL_DATETIME\": \"2021-02-08T08:30:00\", \"REGIONID\": \"VIC1\", \"RRP\": 9.18}, {\"INTERVAL_DATETIME\": \"2021-02-08T09:00:00\", \"REGIONID\": \"NSW1\", \"RRP\": 35.58}, {\"INTERVAL_DATETIME\": \"2021-02-08T09:00:00\", \"REGIONID\": \"QLD1\", \"RRP\": 40.73003}, {\"INTERVAL_DATETIME\": \"2021-02-08T09:00:00\", \"REGIONID\": \"SA1\", \"RRP\": 8.7409}, {\"INTERVAL_DATETIME\": \"2021-02-08T09:00:00\", \"REGIONID\": \"TAS1\", \"RRP\": 397.85}, {\"INTERVAL_DATETIME\": \"2021-02-08T09:00:00\", \"REGIONID\": \"VIC1\", \"RRP\": 8.95011}, {\"INTERVAL_DATETIME\": \"2021-02-08T09:30:00\", \"REGIONID\": \"NSW1\", \"RRP\": 35.46}, {\"INTERVAL_DATETIME\": \"2021-02-08T09:30:00\", \"REGIONID\": \"QLD1\", \"RRP\": 49.5}, {\"INTERVAL_DATETIME\": \"2021-02-08T09:30:00\", \"REGIONID\": \"SA1\", \"RRP\": 8.42215}, {\"INTERVAL_DATETIME\": \"2021-02-08T09:30:00\", \"REGIONID\": \"TAS1\", \"RRP\": 397.85}, {\"INTERVAL_DATETIME\": \"2021-02-08T09:30:00\", \"REGIONID\": \"VIC1\", \"RRP\": 8.95}, {\"INTERVAL_DATETIME\": \"2021-02-08T10:00:00\", \"REGIONID\": \"NSW1\", \"RRP\": 35.47}, {\"INTERVAL_DATETIME\": \"2021-02-08T10:00:00\", \"REGIONID\": \"QLD1\", \"RRP\": 47.73006}, {\"INTERVAL_DATETIME\": \"2021-02-08T10:00:00\", \"REGIONID\": \"SA1\", \"RRP\": 8.1543}, {\"INTERVAL_DATETIME\": \"2021-02-08T10:00:00\", \"REGIONID\": \"TAS1\", \"RRP\": 397.85}, {\"INTERVAL_DATETIME\": \"2021-02-08T10:00:00\", \"REGIONID\": \"VIC1\", \"RRP\": 8.95}, {\"INTERVAL_DATETIME\": \"2021-02-08T10:30:00\", \"REGIONID\": \"NSW1\", \"RRP\": 35.47}, {\"INTERVAL_DATETIME\": \"2021-02-08T10:30:00\", \"REGIONID\": \"QLD1\", \"RRP\": 44.36462}, {\"INTERVAL_DATETIME\": \"2021-02-08T10:30:00\", \"REGIONID\": \"SA1\", \"RRP\": 7.93526}, {\"INTERVAL_DATETIME\": \"2021-02-08T10:30:00\", \"REGIONID\": \"TAS1\", \"RRP\": 397.85}, {\"INTERVAL_DATETIME\": \"2021-02-08T10:30:00\", \"REGIONID\": \"VIC1\", \"RRP\": 8.95}, {\"INTERVAL_DATETIME\": \"2021-02-08T11:00:00\", \"REGIONID\": \"NSW1\", \"RRP\": 35.47}, {\"INTERVAL_DATETIME\": \"2021-02-08T11:00:00\", \"REGIONID\": \"QLD1\", \"RRP\": 44.36316}, {\"INTERVAL_DATETIME\": \"2021-02-08T11:00:00\", \"REGIONID\": \"SA1\", \"RRP\": 7.80698}, {\"INTERVAL_DATETIME\": \"2021-02-08T11:00:00\", \"REGIONID\": \"TAS1\", \"RRP\": 397.8}, {\"INTERVAL_DATETIME\": \"2021-02-08T11:00:00\", \"REGIONID\": \"VIC1\", \"RRP\": 8.95}, {\"INTERVAL_DATETIME\": \"2021-02-08T11:30:00\", \"REGIONID\": \"NSW1\", \"RRP\": 35.47}, {\"INTERVAL_DATETIME\": \"2021-02-08T11:30:00\", \"REGIONID\": \"QLD1\", \"RRP\": 44.25}, {\"INTERVAL_DATETIME\": \"2021-02-08T11:30:00\", \"REGIONID\": \"SA1\", \"RRP\": -3.1}, {\"INTERVAL_DATETIME\": \"2021-02-08T11:30:00\", \"REGIONID\": \"TAS1\", \"RRP\": 397.8}, {\"INTERVAL_DATETIME\": \"2021-02-08T11:30:00\", \"REGIONID\": \"VIC1\", \"RRP\": 8.95}, {\"INTERVAL_DATETIME\": \"2021-02-08T12:00:00\", \"REGIONID\": \"NSW1\", \"RRP\": 35.46}, {\"INTERVAL_DATETIME\": \"2021-02-08T12:00:00\", \"REGIONID\": \"QLD1\", \"RRP\": 44.35}, {\"INTERVAL_DATETIME\": \"2021-02-08T12:00:00\", \"REGIONID\": \"SA1\", \"RRP\": -190.0}, {\"INTERVAL_DATETIME\": \"2021-02-08T12:00:00\", \"REGIONID\": \"TAS1\", \"RRP\": 397.8}, {\"INTERVAL_DATETIME\": \"2021-02-08T12:00:00\", \"REGIONID\": \"VIC1\", \"RRP\": 0.02}, {\"INTERVAL_DATETIME\": \"2021-02-08T12:30:00\", \"REGIONID\": \"NSW1\", \"RRP\": 35.46}, {\"INTERVAL_DATETIME\": \"2021-02-08T12:30:00\", \"REGIONID\": \"QLD1\", \"RRP\": 47.73006}, {\"INTERVAL_DATETIME\": \"2021-02-08T12:30:00\", \"REGIONID\": \"SA1\", \"RRP\": -190.0}, {\"INTERVAL_DATETIME\": \"2021-02-08T12:30:00\", \"REGIONID\": \"TAS1\", \"RRP\": 397.8}, {\"INTERVAL_DATETIME\": \"2021-02-08T12:30:00\", \"REGIONID\": \"VIC1\", \"RRP\": -19.9}, {\"INTERVAL_DATETIME\": \"2021-02-08T13:00:00\", \"REGIONID\": \"NSW1\", \"RRP\": 35.46}, {\"INTERVAL_DATETIME\": \"2021-02-08T13:00:00\", \"REGIONID\": \"QLD1\", \"RRP\": 47.73006}, {\"INTERVAL_DATETIME\": \"2021-02-08T13:00:00\", \"REGIONID\": \"SA1\", \"RRP\": -200.0}, {\"INTERVAL_DATETIME\": \"2021-02-08T13:00:00\", \"REGIONID\": \"TAS1\", \"RRP\": 397.8}, {\"INTERVAL_DATETIME\": \"2021-02-08T13:00:00\", \"REGIONID\": \"VIC1\", \"RRP\": -36.82}, {\"INTERVAL_DATETIME\": \"2021-02-08T13:30:00\", \"REGIONID\": \"NSW1\", \"RRP\": 35.46}, {\"INTERVAL_DATETIME\": \"2021-02-08T13:30:00\", \"REGIONID\": \"QLD1\", \"RRP\": 47.73006}, {\"INTERVAL_DATETIME\": \"2021-02-08T13:30:00\", \"REGIONID\": \"SA1\", \"RRP\": -190.0}, {\"INTERVAL_DATETIME\": \"2021-02-08T13:30:00\", \"REGIONID\": \"TAS1\", \"RRP\": 397.8}, {\"INTERVAL_DATETIME\": \"2021-02-08T13:30:00\", \"REGIONID\": \"VIC1\", \"RRP\": -36.82}, {\"INTERVAL_DATETIME\": \"2021-02-08T14:00:00\", \"REGIONID\": \"NSW1\", \"RRP\": 35.46}, {\"INTERVAL_DATETIME\": \"2021-02-08T14:00:00\", \"REGIONID\": \"QLD1\", \"RRP\": 55.73002}, {\"INTERVAL_DATETIME\": \"2021-02-08T14:00:00\", \"REGIONID\": \"SA1\", \"RRP\": -190.0}, {\"INTERVAL_DATETIME\": \"2021-02-08T14:00:00\", \"REGIONID\": \"TAS1\", \"RRP\": 397.77}, {\"INTERVAL_DATETIME\": \"2021-02-08T14:00:00\", \"REGIONID\": \"VIC1\", \"RRP\": -36.82}, {\"INTERVAL_DATETIME\": \"2021-02-08T14:30:00\", \"REGIONID\": \"NSW1\", \"RRP\": 35.46}, {\"INTERVAL_DATETIME\": \"2021-02-08T14:30:00\", \"REGIONID\": \"QLD1\", \"RRP\": 55.74003}, {\"INTERVAL_DATETIME\": \"2021-02-08T14:30:00\", \"REGIONID\": \"SA1\", \"RRP\": -190.0}, {\"INTERVAL_DATETIME\": \"2021-02-08T14:30:00\", \"REGIONID\": \"TAS1\", \"RRP\": 397.64}, {\"INTERVAL_DATETIME\": \"2021-02-08T14:30:00\", \"REGIONID\": \"VIC1\", \"RRP\": -36.82}, {\"INTERVAL_DATETIME\": \"2021-02-08T15:00:00\", \"REGIONID\": \"NSW1\", \"RRP\": 35.46}, {\"INTERVAL_DATETIME\": \"2021-02-08T15:00:00\", \"REGIONID\": \"QLD1\", \"RRP\": 55.74003}, {\"INTERVAL_DATETIME\": \"2021-02-08T15:00:00\", \"REGIONID\": \"SA1\", \"RRP\": -17.28555}, {\"INTERVAL_DATETIME\": \"2021-02-08T15:00:00\", \"REGIONID\": \"TAS1\", \"RRP\": 397.64}, {\"INTERVAL_DATETIME\": \"2021-02-08T15:00:00\", \"REGIONID\": \"VIC1\", \"RRP\": -19.9}, {\"INTERVAL_DATETIME\": \"2021-02-08T15:30:00\", \"REGIONID\": \"NSW1\", \"RRP\": 35.47}, {\"INTERVAL_DATETIME\": \"2021-02-08T15:30:00\", \"REGIONID\": \"QLD1\", \"RRP\": 44.25}, {\"INTERVAL_DATETIME\": \"2021-02-08T15:30:00\", \"REGIONID\": \"SA1\", \"RRP\": 7.85958}, {\"INTERVAL_DATETIME\": \"2021-02-08T15:30:00\", \"REGIONID\": \"TAS1\", \"RRP\": 397.64}, {\"INTERVAL_DATETIME\": \"2021-02-08T15:30:00\", \"REGIONID\": \"VIC1\", \"RRP\": 8.95}, {\"INTERVAL_DATETIME\": \"2021-02-08T16:00:00\", \"REGIONID\": \"NSW1\", \"RRP\": 35.47}, {\"INTERVAL_DATETIME\": \"2021-02-08T16:00:00\", \"REGIONID\": \"QLD1\", \"RRP\": 44.7}, {\"INTERVAL_DATETIME\": \"2021-02-08T16:00:00\", \"REGIONID\": \"SA1\", \"RRP\": 8.03377}, {\"INTERVAL_DATETIME\": \"2021-02-08T16:00:00\", \"REGIONID\": \"TAS1\", \"RRP\": 397.64}, {\"INTERVAL_DATETIME\": \"2021-02-08T16:00:00\", \"REGIONID\": \"VIC1\", \"RRP\": 8.95}, {\"INTERVAL_DATETIME\": \"2021-02-08T16:30:00\", \"REGIONID\": \"NSW1\", \"RRP\": 35.48}, {\"INTERVAL_DATETIME\": \"2021-02-08T16:30:00\", \"REGIONID\": \"QLD1\", \"RRP\": 47.73005}, {\"INTERVAL_DATETIME\": \"2021-02-08T16:30:00\", \"REGIONID\": \"SA1\", \"RRP\": 8.20745}, {\"INTERVAL_DATETIME\": \"2021-02-08T16:30:00\", \"REGIONID\": \"TAS1\", \"RRP\": 397.64}, {\"INTERVAL_DATETIME\": \"2021-02-08T16:30:00\", \"REGIONID\": \"VIC1\", \"RRP\": 8.95}, {\"INTERVAL_DATETIME\": \"2021-02-08T17:00:00\", \"REGIONID\": \"NSW1\", \"RRP\": 35.58}, {\"INTERVAL_DATETIME\": \"2021-02-08T17:00:00\", \"REGIONID\": \"QLD1\", \"RRP\": 47.73005}, {\"INTERVAL_DATETIME\": \"2021-02-08T17:00:00\", \"REGIONID\": \"SA1\", \"RRP\": 8.41733}, {\"INTERVAL_DATETIME\": \"2021-02-08T17:00:00\", \"REGIONID\": \"TAS1\", \"RRP\": 397.77}, {\"INTERVAL_DATETIME\": \"2021-02-08T17:00:00\", \"REGIONID\": \"VIC1\", \"RRP\": 9.04}, {\"INTERVAL_DATETIME\": \"2021-02-08T17:30:00\", \"REGIONID\": \"NSW1\", \"RRP\": 39.15}, {\"INTERVAL_DATETIME\": \"2021-02-08T17:30:00\", \"REGIONID\": \"QLD1\", \"RRP\": 58.8}, {\"INTERVAL_DATETIME\": \"2021-02-08T17:30:00\", \"REGIONID\": \"SA1\", \"RRP\": 8.7734}, {\"INTERVAL_DATETIME\": \"2021-02-08T17:30:00\", \"REGIONID\": \"TAS1\", \"RRP\": 397.77}, {\"INTERVAL_DATETIME\": \"2021-02-08T17:30:00\", \"REGIONID\": \"VIC1\", \"RRP\": 9.18}, {\"INTERVAL_DATETIME\": \"2021-02-08T18:00:00\", \"REGIONID\": \"NSW1\", \"RRP\": 39.15}, {\"INTERVAL_DATETIME\": \"2021-02-08T18:00:00\", \"REGIONID\": \"QLD1\", \"RRP\": 90.73002}, {\"INTERVAL_DATETIME\": \"2021-02-08T18:00:00\", \"REGIONID\": \"SA1\", \"RRP\": 9.16252}, {\"INTERVAL_DATETIME\": \"2021-02-08T18:00:00\", \"REGIONID\": \"TAS1\", \"RRP\": 11.26}, {\"INTERVAL_DATETIME\": \"2021-02-08T18:00:00\", \"REGIONID\": \"VIC1\", \"RRP\": 9.19}, {\"INTERVAL_DATETIME\": \"2021-02-08T18:30:00\", \"REGIONID\": \"NSW1\", \"RRP\": 60.99}, {\"INTERVAL_DATETIME\": \"2021-02-08T18:30:00\", \"REGIONID\": \"QLD1\", \"RRP\": 200.11}, {\"INTERVAL_DATETIME\": \"2021-02-08T18:30:00\", \"REGIONID\": \"SA1\", \"RRP\": 9.45029}, {\"INTERVAL_DATETIME\": \"2021-02-08T18:30:00\", \"REGIONID\": \"TAS1\", \"RRP\": 30.3}, {\"INTERVAL_DATETIME\": \"2021-02-08T18:30:00\", \"REGIONID\": \"VIC1\", \"RRP\": 9.19}, {\"INTERVAL_DATETIME\": \"2021-02-08T19:00:00\", \"REGIONID\": \"NSW1\", \"RRP\": 60.99}, {\"INTERVAL_DATETIME\": \"2021-02-08T19:00:00\", \"REGIONID\": \"QLD1\", \"RRP\": 200.11}, {\"INTERVAL_DATETIME\": \"2021-02-08T19:00:00\", \"REGIONID\": \"SA1\", \"RRP\": 19.07433}, {\"INTERVAL_DATETIME\": \"2021-02-08T19:00:00\", \"REGIONID\": \"TAS1\", \"RRP\": 30.17755}, {\"INTERVAL_DATETIME\": \"2021-02-08T19:00:00\", \"REGIONID\": \"VIC1\", \"RRP\": 18.08}, {\"INTERVAL_DATETIME\": \"2021-02-08T19:30:00\", \"REGIONID\": \"NSW1\", \"RRP\": 110.0}, {\"INTERVAL_DATETIME\": \"2021-02-08T19:30:00\", \"REGIONID\": \"QLD1\", \"RRP\": 199.73002}, {\"INTERVAL_DATETIME\": \"2021-02-08T19:30:00\", \"REGIONID\": \"SA1\", \"RRP\": 32.17957}, {\"INTERVAL_DATETIME\": \"2021-02-08T19:30:00\", \"REGIONID\": \"TAS1\", \"RRP\": 30.57919}, {\"INTERVAL_DATETIME\": \"2021-02-08T19:30:00\", \"REGIONID\": \"VIC1\", \"RRP\": 28.96}, {\"INTERVAL_DATETIME\": \"2021-02-08T20:00:00\", \"REGIONID\": \"NSW1\", \"RRP\": 299.6}, {\"INTERVAL_DATETIME\": \"2021-02-08T20:00:00\", \"REGIONID\": \"QLD1\", \"RRP\": 306.57275}, {\"INTERVAL_DATETIME\": \"2021-02-08T20:00:00\", \"REGIONID\": \"SA1\", \"RRP\": 50.44}, {\"INTERVAL_DATETIME\": \"2021-02-08T20:00:00\", \"REGIONID\": \"TAS1\", \"RRP\": 30.74953}, {\"INTERVAL_DATETIME\": \"2021-02-08T20:00:00\", \"REGIONID\": \"VIC1\", \"RRP\": 28.96}, {\"INTERVAL_DATETIME\": \"2021-02-08T20:30:00\", \"REGIONID\": \"NSW1\", \"RRP\": 191.63422}, {\"INTERVAL_DATETIME\": \"2021-02-08T20:30:00\", \"REGIONID\": \"QLD1\", \"RRP\": 200.11}, {\"INTERVAL_DATETIME\": \"2021-02-08T20:30:00\", \"REGIONID\": \"SA1\", \"RRP\": 48.67462}, {\"INTERVAL_DATETIME\": \"2021-02-08T20:30:00\", \"REGIONID\": \"TAS1\", \"RRP\": 30.66425}, {\"INTERVAL_DATETIME\": \"2021-02-08T20:30:00\", \"REGIONID\": \"VIC1\", \"RRP\": 28.96}, {\"INTERVAL_DATETIME\": \"2021-02-08T21:00:00\", \"REGIONID\": \"NSW1\", \"RRP\": 66.40106}, {\"INTERVAL_DATETIME\": \"2021-02-08T21:00:00\", \"REGIONID\": \"QLD1\", \"RRP\": 70.73002}, {\"INTERVAL_DATETIME\": \"2021-02-08T21:00:00\", \"REGIONID\": \"SA1\", \"RRP\": 28.22165}, {\"INTERVAL_DATETIME\": \"2021-02-08T21:00:00\", \"REGIONID\": \"TAS1\", \"RRP\": 397.8}, {\"INTERVAL_DATETIME\": \"2021-02-08T21:00:00\", \"REGIONID\": \"VIC1\", \"RRP\": 25.01199}, {\"INTERVAL_DATETIME\": \"2021-02-08T21:30:00\", \"REGIONID\": \"NSW1\", \"RRP\": 39.12}, {\"INTERVAL_DATETIME\": \"2021-02-08T21:30:00\", \"REGIONID\": \"QLD1\", \"RRP\": 41.56081}, {\"INTERVAL_DATETIME\": \"2021-02-08T21:30:00\", \"REGIONID\": \"SA1\", \"RRP\": 18.40905}, {\"INTERVAL_DATETIME\": \"2021-02-08T21:30:00\", \"REGIONID\": \"TAS1\", \"RRP\": 397.8}, {\"INTERVAL_DATETIME\": \"2021-02-08T21:30:00\", \"REGIONID\": \"VIC1\", \"RRP\": 16.73675}, {\"INTERVAL_DATETIME\": \"2021-02-08T22:00:00\", \"REGIONID\": \"NSW1\", \"RRP\": 35.58}, {\"INTERVAL_DATETIME\": \"2021-02-08T22:00:00\", \"REGIONID\": \"QLD1\", \"RRP\": 44.25}, {\"INTERVAL_DATETIME\": \"2021-02-08T22:00:00\", \"REGIONID\": \"SA1\", \"RRP\": 10.31629}, {\"INTERVAL_DATETIME\": \"2021-02-08T22:00:00\", \"REGIONID\": \"TAS1\", \"RRP\": 397.8}, {\"INTERVAL_DATETIME\": \"2021-02-08T22:00:00\", \"REGIONID\": \"VIC1\", \"RRP\": 9.19}, {\"INTERVAL_DATETIME\": \"2021-02-08T22:30:00\", \"REGIONID\": \"NSW1\", \"RRP\": 39.12}, {\"INTERVAL_DATETIME\": \"2021-02-08T22:30:00\", \"REGIONID\": \"QLD1\", \"RRP\": 47.73006}, {\"INTERVAL_DATETIME\": \"2021-02-08T22:30:00\", \"REGIONID\": \"SA1\", \"RRP\": 13.54635}, {\"INTERVAL_DATETIME\": \"2021-02-08T22:30:00\", \"REGIONID\": \"TAS1\", \"RRP\": 397.8}, {\"INTERVAL_DATETIME\": \"2021-02-08T22:30:00\", \"REGIONID\": \"VIC1\", \"RRP\": 12.36869}, {\"INTERVAL_DATETIME\": \"2021-02-08T23:00:00\", \"REGIONID\": \"NSW1\", \"RRP\": 35.58}, {\"INTERVAL_DATETIME\": \"2021-02-08T23:00:00\", \"REGIONID\": \"QLD1\", \"RRP\": 44.35}, {\"INTERVAL_DATETIME\": \"2021-02-08T23:00:00\", \"REGIONID\": \"SA1\", \"RRP\": 10.22682}, {\"INTERVAL_DATETIME\": \"2021-02-08T23:00:00\", \"REGIONID\": \"TAS1\", \"RRP\": 397.77}, {\"INTERVAL_DATETIME\": \"2021-02-08T23:00:00\", \"REGIONID\": \"VIC1\", \"RRP\": 9.19}, {\"INTERVAL_DATETIME\": \"2021-02-08T23:30:00\", \"REGIONID\": \"NSW1\", \"RRP\": 35.48}, {\"INTERVAL_DATETIME\": \"2021-02-08T23:30:00\", \"REGIONID\": \"QLD1\", \"RRP\": 36.76787}, {\"INTERVAL_DATETIME\": \"2021-02-08T23:30:00\", \"REGIONID\": \"SA1\", \"RRP\": 19.29578}, {\"INTERVAL_DATETIME\": \"2021-02-08T23:30:00\", \"REGIONID\": \"TAS1\", \"RRP\": 397.77}, {\"INTERVAL_DATETIME\": \"2021-02-08T23:30:00\", \"REGIONID\": \"VIC1\", \"RRP\": 18.08}, {\"INTERVAL_DATETIME\": \"2021-02-09T00:00:00\", \"REGIONID\": \"NSW1\", \"RRP\": 35.46015}, {\"INTERVAL_DATETIME\": \"2021-02-09T00:00:00\", \"REGIONID\": \"QLD1\", \"RRP\": 35.25}, {\"INTERVAL_DATETIME\": \"2021-02-09T00:00:00\", \"REGIONID\": \"SA1\", \"RRP\": 32.00104}, {\"INTERVAL_DATETIME\": \"2021-02-09T00:00:00\", \"REGIONID\": \"TAS1\", \"RRP\": 397.77}, {\"INTERVAL_DATETIME\": \"2021-02-09T00:00:00\", \"REGIONID\": \"VIC1\", \"RRP\": 28.96}, {\"INTERVAL_DATETIME\": \"2021-02-09T00:30:00\", \"REGIONID\": \"NSW1\", \"RRP\": 35.47}, {\"INTERVAL_DATETIME\": \"2021-02-09T00:30:00\", \"REGIONID\": \"QLD1\", \"RRP\": 36.85912}, {\"INTERVAL_DATETIME\": \"2021-02-09T00:30:00\", \"REGIONID\": \"SA1\", \"RRP\": 32.40983}, {\"INTERVAL_DATETIME\": \"2021-02-09T00:30:00\", \"REGIONID\": \"TAS1\", \"RRP\": 397.77}, {\"INTERVAL_DATETIME\": \"2021-02-09T00:30:00\", \"REGIONID\": \"VIC1\", \"RRP\": 28.96}, {\"INTERVAL_DATETIME\": \"2021-02-09T01:00:00\", \"REGIONID\": \"NSW1\", \"RRP\": 35.45982}, {\"INTERVAL_DATETIME\": \"2021-02-09T01:00:00\", \"REGIONID\": \"QLD1\", \"RRP\": 36.23461}, {\"INTERVAL_DATETIME\": \"2021-02-09T01:00:00\", \"REGIONID\": \"SA1\", \"RRP\": 31.88768}, {\"INTERVAL_DATETIME\": \"2021-02-09T01:00:00\", \"REGIONID\": \"TAS1\", \"RRP\": 397.77}, {\"INTERVAL_DATETIME\": \"2021-02-09T01:00:00\", \"REGIONID\": \"VIC1\", \"RRP\": 28.70701}, {\"INTERVAL_DATETIME\": \"2021-02-09T01:30:00\", \"REGIONID\": \"NSW1\", \"RRP\": 34.76209}, {\"INTERVAL_DATETIME\": \"2021-02-09T01:30:00\", \"REGIONID\": \"QLD1\", \"RRP\": 35.2}, {\"INTERVAL_DATETIME\": \"2021-02-09T01:30:00\", \"REGIONID\": \"SA1\", \"RRP\": 18.22192}, {\"INTERVAL_DATETIME\": \"2021-02-09T01:30:00\", \"REGIONID\": \"TAS1\", \"RRP\": 397.77}, {\"INTERVAL_DATETIME\": \"2021-02-09T01:30:00\", \"REGIONID\": \"VIC1\", \"RRP\": 16.47266}, {\"INTERVAL_DATETIME\": \"2021-02-09T02:00:00\", \"REGIONID\": \"NSW1\", \"RRP\": 32.5}, {\"INTERVAL_DATETIME\": \"2021-02-09T02:00:00\", \"REGIONID\": \"QLD1\", \"RRP\": 32.62706}, {\"INTERVAL_DATETIME\": \"2021-02-09T02:00:00\", \"REGIONID\": \"SA1\", \"RRP\": 10.5938}, {\"INTERVAL_DATETIME\": \"2021-02-09T02:00:00\", \"REGIONID\": \"TAS1\", \"RRP\": 397.77}, {\"INTERVAL_DATETIME\": \"2021-02-09T02:00:00\", \"REGIONID\": \"VIC1\", \"RRP\": 9.18}, {\"INTERVAL_DATETIME\": \"2021-02-09T02:30:00\", \"REGIONID\": \"NSW1\", \"RRP\": 32.5}, {\"INTERVAL_DATETIME\": \"2021-02-09T02:30:00\", \"REGIONID\": \"QLD1\", \"RRP\": 32.35908}, {\"INTERVAL_DATETIME\": \"2021-02-09T02:30:00\", \"REGIONID\": \"SA1\", \"RRP\": 10.32497}, {\"INTERVAL_DATETIME\": \"2021-02-09T02:30:00\", \"REGIONID\": \"TAS1\", \"RRP\": 397.77}, {\"INTERVAL_DATETIME\": \"2021-02-09T02:30:00\", \"REGIONID\": \"VIC1\", \"RRP\": 9.18}, {\"INTERVAL_DATETIME\": \"2021-02-09T03:00:00\", \"REGIONID\": \"NSW1\", \"RRP\": 32.5}, {\"INTERVAL_DATETIME\": \"2021-02-09T03:00:00\", \"REGIONID\": \"QLD1\", \"RRP\": 32.10354}, {\"INTERVAL_DATETIME\": \"2021-02-09T03:00:00\", \"REGIONID\": \"SA1\", \"RRP\": 10.11677}, {\"INTERVAL_DATETIME\": \"2021-02-09T03:00:00\", \"REGIONID\": \"TAS1\", \"RRP\": 397.77}, {\"INTERVAL_DATETIME\": \"2021-02-09T03:00:00\", \"REGIONID\": \"VIC1\", \"RRP\": 9.04}, {\"INTERVAL_DATETIME\": \"2021-02-09T03:30:00\", \"REGIONID\": \"NSW1\", \"RRP\": 32.5}, {\"INTERVAL_DATETIME\": \"2021-02-09T03:30:00\", \"REGIONID\": \"QLD1\", \"RRP\": 32.09898}, {\"INTERVAL_DATETIME\": \"2021-02-09T03:30:00\", \"REGIONID\": \"SA1\", \"RRP\": 10.06655}, {\"INTERVAL_DATETIME\": \"2021-02-09T03:30:00\", \"REGIONID\": \"TAS1\", \"RRP\": 397.77}, {\"INTERVAL_DATETIME\": \"2021-02-09T03:30:00\", \"REGIONID\": \"VIC1\", \"RRP\": 9.04}, {\"INTERVAL_DATETIME\": \"2021-02-09T04:00:00\", \"REGIONID\": \"NSW1\", \"RRP\": 32.5}, {\"INTERVAL_DATETIME\": \"2021-02-09T04:00:00\", \"REGIONID\": \"QLD1\", \"RRP\": 32.10263}, {\"INTERVAL_DATETIME\": \"2021-02-09T04:00:00\", \"REGIONID\": \"SA1\", \"RRP\": 10.20922}, {\"INTERVAL_DATETIME\": \"2021-02-09T04:00:00\", \"REGIONID\": \"TAS1\", \"RRP\": 397.77}, {\"INTERVAL_DATETIME\": \"2021-02-09T04:00:00\", \"REGIONID\": \"VIC1\", \"RRP\": 9.18}, {\"INTERVAL_DATETIME\": \"2021-02-09T04:30:00\", \"REGIONID\": \"NSW1\", \"RRP\": 32.5}, {\"INTERVAL_DATETIME\": \"2021-02-09T04:30:00\", \"REGIONID\": \"QLD1\", \"RRP\": 32.36758}, {\"INTERVAL_DATETIME\": \"2021-02-09T04:30:00\", \"REGIONID\": \"SA1\", \"RRP\": 10.22349}, {\"INTERVAL_DATETIME\": \"2021-02-09T04:30:00\", \"REGIONID\": \"TAS1\", \"RRP\": 397.64}, {\"INTERVAL_DATETIME\": \"2021-02-09T04:30:00\", \"REGIONID\": \"VIC1\", \"RRP\": 9.18}, {\"INTERVAL_DATETIME\": \"2021-02-09T05:00:00\", \"REGIONID\": \"NSW1\", \"RRP\": 35.47}, {\"INTERVAL_DATETIME\": \"2021-02-09T05:00:00\", \"REGIONID\": \"QLD1\", \"RRP\": 35.25}, {\"INTERVAL_DATETIME\": \"2021-02-09T05:00:00\", \"REGIONID\": \"SA1\", \"RRP\": 31.24752}, {\"INTERVAL_DATETIME\": \"2021-02-09T05:00:00\", \"REGIONID\": \"TAS1\", \"RRP\": 397.62}, {\"INTERVAL_DATETIME\": \"2021-02-09T05:00:00\", \"REGIONID\": \"VIC1\", \"RRP\": 28.96}, {\"INTERVAL_DATETIME\": \"2021-02-09T05:30:00\", \"REGIONID\": \"NSW1\", \"RRP\": 39.12}, {\"INTERVAL_DATETIME\": \"2021-02-09T05:30:00\", \"REGIONID\": \"QLD1\", \"RRP\": 39.97356}, {\"INTERVAL_DATETIME\": \"2021-02-09T05:30:00\", \"REGIONID\": \"SA1\", \"RRP\": 38.24276}, {\"INTERVAL_DATETIME\": \"2021-02-09T05:30:00\", \"REGIONID\": \"TAS1\", \"RRP\": 397.62}, {\"INTERVAL_DATETIME\": \"2021-02-09T05:30:00\", \"REGIONID\": \"VIC1\", \"RRP\": 35.2711}, {\"INTERVAL_DATETIME\": \"2021-02-09T06:00:00\", \"REGIONID\": \"NSW1\", \"RRP\": 43.53683}, {\"INTERVAL_DATETIME\": \"2021-02-09T06:00:00\", \"REGIONID\": \"QLD1\", \"RRP\": 44.25}, {\"INTERVAL_DATETIME\": \"2021-02-09T06:00:00\", \"REGIONID\": \"SA1\", \"RRP\": 46.64621}, {\"INTERVAL_DATETIME\": \"2021-02-09T06:00:00\", \"REGIONID\": \"TAS1\", \"RRP\": 397.64}, {\"INTERVAL_DATETIME\": \"2021-02-09T06:00:00\", \"REGIONID\": \"VIC1\", \"RRP\": 42.09961}, {\"INTERVAL_DATETIME\": \"2021-02-09T06:30:00\", \"REGIONID\": \"NSW1\", \"RRP\": 42.10998}, {\"INTERVAL_DATETIME\": \"2021-02-09T06:30:00\", \"REGIONID\": \"QLD1\", \"RRP\": 40.73009}, {\"INTERVAL_DATETIME\": \"2021-02-09T06:30:00\", \"REGIONID\": \"SA1\", \"RRP\": 47.91773}, {\"INTERVAL_DATETIME\": \"2021-02-09T06:30:00\", \"REGIONID\": \"TAS1\", \"RRP\": 397.64}, {\"INTERVAL_DATETIME\": \"2021-02-09T06:30:00\", \"REGIONID\": \"VIC1\", \"RRP\": 42.46229}, {\"INTERVAL_DATETIME\": \"2021-02-09T07:00:00\", \"REGIONID\": \"NSW1\", \"RRP\": 39.15}, {\"INTERVAL_DATETIME\": \"2021-02-09T07:00:00\", \"REGIONID\": \"QLD1\", \"RRP\": 38.80645}, {\"INTERVAL_DATETIME\": \"2021-02-09T07:00:00\", \"REGIONID\": \"SA1\", \"RRP\": 45.6005}, {\"INTERVAL_DATETIME\": \"2021-02-09T07:00:00\", \"REGIONID\": \"TAS1\", \"RRP\": 397.77}, {\"INTERVAL_DATETIME\": \"2021-02-09T07:00:00\", \"REGIONID\": \"VIC1\", \"RRP\": 39.57428}, {\"INTERVAL_DATETIME\": \"2021-02-09T07:30:00\", \"REGIONID\": \"NSW1\", \"RRP\": 35.58}, {\"INTERVAL_DATETIME\": \"2021-02-09T07:30:00\", \"REGIONID\": \"QLD1\", \"RRP\": 35.84698}, {\"INTERVAL_DATETIME\": \"2021-02-09T07:30:00\", \"REGIONID\": \"SA1\", \"RRP\": 37.7087}, {\"INTERVAL_DATETIME\": \"2021-02-09T07:30:00\", \"REGIONID\": \"TAS1\", \"RRP\": 397.64}, {\"INTERVAL_DATETIME\": \"2021-02-09T07:30:00\", \"REGIONID\": \"VIC1\", \"RRP\": 33.25747}, {\"INTERVAL_DATETIME\": \"2021-02-09T08:00:00\", \"REGIONID\": \"NSW1\", \"RRP\": 35.46}, {\"INTERVAL_DATETIME\": \"2021-02-09T08:00:00\", \"REGIONID\": \"QLD1\", \"RRP\": 35.25}, {\"INTERVAL_DATETIME\": \"2021-02-09T08:00:00\", \"REGIONID\": \"SA1\", \"RRP\": 34.04674}, {\"INTERVAL_DATETIME\": \"2021-02-09T08:00:00\", \"REGIONID\": \"TAS1\", \"RRP\": 397.77}, {\"INTERVAL_DATETIME\": \"2021-02-09T08:00:00\", \"REGIONID\": \"VIC1\", \"RRP\": 31.09918}, {\"INTERVAL_DATETIME\": \"2021-02-09T08:30:00\", \"REGIONID\": \"NSW1\", \"RRP\": 35.46}, {\"INTERVAL_DATETIME\": \"2021-02-09T08:30:00\", \"REGIONID\": \"QLD1\", \"RRP\": 36.23622}, {\"INTERVAL_DATETIME\": \"2021-02-09T08:30:00\", \"REGIONID\": \"SA1\", \"RRP\": 9.71039}, {\"INTERVAL_DATETIME\": \"2021-02-09T08:30:00\", \"REGIONID\": \"TAS1\", \"RRP\": 397.64}, {\"INTERVAL_DATETIME\": \"2021-02-09T08:30:00\", \"REGIONID\": \"VIC1\", \"RRP\": 9.19}, {\"INTERVAL_DATETIME\": \"2021-02-09T09:00:00\", \"REGIONID\": \"NSW1\", \"RRP\": 32.56}, {\"INTERVAL_DATETIME\": \"2021-02-09T09:00:00\", \"REGIONID\": \"QLD1\", \"RRP\": 32.99298}, {\"INTERVAL_DATETIME\": \"2021-02-09T09:00:00\", \"REGIONID\": \"SA1\", \"RRP\": 9.11663}, {\"INTERVAL_DATETIME\": \"2021-02-09T09:00:00\", \"REGIONID\": \"TAS1\", \"RRP\": 397.64}, {\"INTERVAL_DATETIME\": \"2021-02-09T09:00:00\", \"REGIONID\": \"VIC1\", \"RRP\": 9.19}, {\"INTERVAL_DATETIME\": \"2021-02-09T09:30:00\", \"REGIONID\": \"NSW1\", \"RRP\": 35.46}, {\"INTERVAL_DATETIME\": \"2021-02-09T09:30:00\", \"REGIONID\": \"QLD1\", \"RRP\": 36.99719}, {\"INTERVAL_DATETIME\": \"2021-02-09T09:30:00\", \"REGIONID\": \"SA1\", \"RRP\": 8.64988}, {\"INTERVAL_DATETIME\": \"2021-02-09T09:30:00\", \"REGIONID\": \"TAS1\", \"RRP\": 397.64}, {\"INTERVAL_DATETIME\": \"2021-02-09T09:30:00\", \"REGIONID\": \"VIC1\", \"RRP\": 8.95}, {\"INTERVAL_DATETIME\": \"2021-02-09T10:00:00\", \"REGIONID\": \"NSW1\", \"RRP\": 34.58357}, {\"INTERVAL_DATETIME\": \"2021-02-09T10:00:00\", \"REGIONID\": \"QLD1\", \"RRP\": 35.25}, {\"INTERVAL_DATETIME\": \"2021-02-09T10:00:00\", \"REGIONID\": \"SA1\", \"RRP\": 8.42431}, {\"INTERVAL_DATETIME\": \"2021-02-09T10:00:00\", \"REGIONID\": \"TAS1\", \"RRP\": 397.67}, {\"INTERVAL_DATETIME\": \"2021-02-09T10:00:00\", \"REGIONID\": \"VIC1\", \"RRP\": 8.95}, {\"INTERVAL_DATETIME\": \"2021-02-09T10:30:00\", \"REGIONID\": \"NSW1\", \"RRP\": 32.5}, {\"INTERVAL_DATETIME\": \"2021-02-09T10:30:00\", \"REGIONID\": \"QLD1\", \"RRP\": 32.86422}, {\"INTERVAL_DATETIME\": \"2021-02-09T10:30:00\", \"REGIONID\": \"SA1\", \"RRP\": 8.20092}, {\"INTERVAL_DATETIME\": \"2021-02-09T10:30:00\", \"REGIONID\": \"TAS1\", \"RRP\": 397.64}, {\"INTERVAL_DATETIME\": \"2021-02-09T10:30:00\", \"REGIONID\": \"VIC1\", \"RRP\": 8.95}, {\"INTERVAL_DATETIME\": \"2021-02-09T11:00:00\", \"REGIONID\": \"NSW1\", \"RRP\": 32.5}, {\"INTERVAL_DATETIME\": \"2021-02-09T11:00:00\", \"REGIONID\": \"QLD1\", \"RRP\": 32.60765}, {\"INTERVAL_DATETIME\": \"2021-02-09T11:00:00\", \"REGIONID\": \"SA1\", \"RRP\": 2.1052}, {\"INTERVAL_DATETIME\": \"2021-02-09T11:00:00\", \"REGIONID\": \"TAS1\", \"RRP\": 397.64}, {\"INTERVAL_DATETIME\": \"2021-02-09T11:00:00\", \"REGIONID\": \"VIC1\", \"RRP\": 2.33494}, {\"INTERVAL_DATETIME\": \"2021-02-09T11:30:00\", \"REGIONID\": \"NSW1\", \"RRP\": 30.55547}, {\"INTERVAL_DATETIME\": \"2021-02-09T11:30:00\", \"REGIONID\": \"QLD1\", \"RRP\": 30.2}, {\"INTERVAL_DATETIME\": \"2021-02-09T11:30:00\", \"REGIONID\": \"SA1\", \"RRP\": 7.98168}, {\"INTERVAL_DATETIME\": \"2021-02-09T11:30:00\", \"REGIONID\": \"TAS1\", \"RRP\": 397.64}, {\"INTERVAL_DATETIME\": \"2021-02-09T11:30:00\", \"REGIONID\": \"VIC1\", \"RRP\": 8.95}, {\"INTERVAL_DATETIME\": \"2021-02-09T12:00:00\", \"REGIONID\": \"NSW1\", \"RRP\": 30.54466}, {\"INTERVAL_DATETIME\": \"2021-02-09T12:00:00\", \"REGIONID\": \"QLD1\", \"RRP\": 30.2}, {\"INTERVAL_DATETIME\": \"2021-02-09T12:00:00\", \"REGIONID\": \"SA1\", \"RRP\": -11.01081}, {\"INTERVAL_DATETIME\": \"2021-02-09T12:00:00\", \"REGIONID\": \"TAS1\", \"RRP\": 397.64}, {\"INTERVAL_DATETIME\": \"2021-02-09T12:00:00\", \"REGIONID\": \"VIC1\", \"RRP\": -12.33857}, {\"INTERVAL_DATETIME\": \"2021-02-09T12:30:00\", \"REGIONID\": \"NSW1\", \"RRP\": 30.30684}, {\"INTERVAL_DATETIME\": \"2021-02-09T12:30:00\", \"REGIONID\": \"QLD1\", \"RRP\": 30.2}, {\"INTERVAL_DATETIME\": \"2021-02-09T12:30:00\", \"REGIONID\": \"SA1\", \"RRP\": -3.09996}, {\"INTERVAL_DATETIME\": \"2021-02-09T12:30:00\", \"REGIONID\": \"TAS1\", \"RRP\": 397.64}, {\"INTERVAL_DATETIME\": \"2021-02-09T12:30:00\", \"REGIONID\": \"VIC1\", \"RRP\": -3.51222}, {\"INTERVAL_DATETIME\": \"2021-02-09T13:00:00\", \"REGIONID\": \"NSW1\", \"RRP\": 30.24797}, {\"INTERVAL_DATETIME\": \"2021-02-09T13:00:00\", \"REGIONID\": \"QLD1\", \"RRP\": 30.14999}, {\"INTERVAL_DATETIME\": \"2021-02-09T13:00:00\", \"REGIONID\": \"SA1\", \"RRP\": -10.95082}, {\"INTERVAL_DATETIME\": \"2021-02-09T13:00:00\", \"REGIONID\": \"TAS1\", \"RRP\": 397.64}, {\"INTERVAL_DATETIME\": \"2021-02-09T13:00:00\", \"REGIONID\": \"VIC1\", \"RRP\": -12.33231}, {\"INTERVAL_DATETIME\": \"2021-02-09T13:30:00\", \"REGIONID\": \"NSW1\", \"RRP\": 32.39}, {\"INTERVAL_DATETIME\": \"2021-02-09T13:30:00\", \"REGIONID\": \"QLD1\", \"RRP\": 32.54683}, {\"INTERVAL_DATETIME\": \"2021-02-09T13:30:00\", \"REGIONID\": \"SA1\", \"RRP\": 7.94577}, {\"INTERVAL_DATETIME\": \"2021-02-09T13:30:00\", \"REGIONID\": \"TAS1\", \"RRP\": 397.64}, {\"INTERVAL_DATETIME\": \"2021-02-09T13:30:00\", \"REGIONID\": \"VIC1\", \"RRP\": 8.95}, {\"INTERVAL_DATETIME\": \"2021-02-09T14:00:00\", \"REGIONID\": \"NSW1\", \"RRP\": 32.5}, {\"INTERVAL_DATETIME\": \"2021-02-09T14:00:00\", \"REGIONID\": \"QLD1\", \"RRP\": 33.43128}, {\"INTERVAL_DATETIME\": \"2021-02-09T14:00:00\", \"REGIONID\": \"SA1\", \"RRP\": 7.98808}, {\"INTERVAL_DATETIME\": \"2021-02-09T14:00:00\", \"REGIONID\": \"TAS1\", \"RRP\": 397.64}, {\"INTERVAL_DATETIME\": \"2021-02-09T14:00:00\", \"REGIONID\": \"VIC1\", \"RRP\": 8.95}, {\"INTERVAL_DATETIME\": \"2021-02-09T14:30:00\", \"REGIONID\": \"NSW1\", \"RRP\": 32.56}, {\"INTERVAL_DATETIME\": \"2021-02-09T14:30:00\", \"REGIONID\": \"QLD1\", \"RRP\": 34.55022}, {\"INTERVAL_DATETIME\": \"2021-02-09T14:30:00\", \"REGIONID\": \"SA1\", \"RRP\": 8.07742}, {\"INTERVAL_DATETIME\": \"2021-02-09T14:30:00\", \"REGIONID\": \"TAS1\", \"RRP\": 397.64}, {\"INTERVAL_DATETIME\": \"2021-02-09T14:30:00\", \"REGIONID\": \"VIC1\", \"RRP\": 8.95}, {\"INTERVAL_DATETIME\": \"2021-02-09T15:00:00\", \"REGIONID\": \"NSW1\", \"RRP\": 32.56}, {\"INTERVAL_DATETIME\": \"2021-02-09T15:00:00\", \"REGIONID\": \"QLD1\", \"RRP\": 33.31603}, {\"INTERVAL_DATETIME\": \"2021-02-09T15:00:00\", \"REGIONID\": \"SA1\", \"RRP\": 8.21078}, {\"INTERVAL_DATETIME\": \"2021-02-09T15:00:00\", \"REGIONID\": \"TAS1\", \"RRP\": 397.64}, {\"INTERVAL_DATETIME\": \"2021-02-09T15:00:00\", \"REGIONID\": \"VIC1\", \"RRP\": 8.95011}, {\"INTERVAL_DATETIME\": \"2021-02-09T15:30:00\", \"REGIONID\": \"NSW1\", \"RRP\": 32.4}, {\"INTERVAL_DATETIME\": \"2021-02-09T15:30:00\", \"REGIONID\": \"QLD1\", \"RRP\": 31.51957}, {\"INTERVAL_DATETIME\": \"2021-02-09T15:30:00\", \"REGIONID\": \"SA1\", \"RRP\": 8.47438}, {\"INTERVAL_DATETIME\": \"2021-02-09T15:30:00\", \"REGIONID\": \"TAS1\", \"RRP\": 397.64}, {\"INTERVAL_DATETIME\": \"2021-02-09T15:30:00\", \"REGIONID\": \"VIC1\", \"RRP\": 9.04}, {\"INTERVAL_DATETIME\": \"2021-02-09T16:00:00\", \"REGIONID\": \"NSW1\", \"RRP\": 32.56}, {\"INTERVAL_DATETIME\": \"2021-02-09T16:00:00\", \"REGIONID\": \"QLD1\", \"RRP\": 32.71003}, {\"INTERVAL_DATETIME\": \"2021-02-09T16:00:00\", \"REGIONID\": \"SA1\", \"RRP\": 8.8962}, {\"INTERVAL_DATETIME\": \"2021-02-09T16:00:00\", \"REGIONID\": \"TAS1\", \"RRP\": 397.64}, {\"INTERVAL_DATETIME\": \"2021-02-09T16:00:00\", \"REGIONID\": \"VIC1\", \"RRP\": 9.19}, {\"INTERVAL_DATETIME\": \"2021-02-09T16:30:00\", \"REGIONID\": \"NSW1\", \"RRP\": 35.47}, {\"INTERVAL_DATETIME\": \"2021-02-09T16:30:00\", \"REGIONID\": \"QLD1\", \"RRP\": 35.74361}, {\"INTERVAL_DATETIME\": \"2021-02-09T16:30:00\", \"REGIONID\": \"SA1\", \"RRP\": 9.27746}, {\"INTERVAL_DATETIME\": \"2021-02-09T16:30:00\", \"REGIONID\": \"TAS1\", \"RRP\": 397.64}, {\"INTERVAL_DATETIME\": \"2021-02-09T16:30:00\", \"REGIONID\": \"VIC1\", \"RRP\": 9.19}, {\"INTERVAL_DATETIME\": \"2021-02-09T17:00:00\", \"REGIONID\": \"NSW1\", \"RRP\": 35.48}, {\"INTERVAL_DATETIME\": \"2021-02-09T17:00:00\", \"REGIONID\": \"QLD1\", \"RRP\": 35.54417}, {\"INTERVAL_DATETIME\": \"2021-02-09T17:00:00\", \"REGIONID\": \"SA1\", \"RRP\": 30.78942}, {\"INTERVAL_DATETIME\": \"2021-02-09T17:00:00\", \"REGIONID\": \"TAS1\", \"RRP\": 397.77}, {\"INTERVAL_DATETIME\": \"2021-02-09T17:00:00\", \"REGIONID\": \"VIC1\", \"RRP\": 28.96}, {\"INTERVAL_DATETIME\": \"2021-02-09T17:30:00\", \"REGIONID\": \"NSW1\", \"RRP\": 35.58}, {\"INTERVAL_DATETIME\": \"2021-02-09T17:30:00\", \"REGIONID\": \"QLD1\", \"RRP\": 37.05585}, {\"INTERVAL_DATETIME\": \"2021-02-09T17:30:00\", \"REGIONID\": \"SA1\", \"RRP\": 34.64189}, {\"INTERVAL_DATETIME\": \"2021-02-09T17:30:00\", \"REGIONID\": \"TAS1\", \"RRP\": 397.77}, {\"INTERVAL_DATETIME\": \"2021-02-09T17:30:00\", \"REGIONID\": \"VIC1\", \"RRP\": 31.30225}, {\"INTERVAL_DATETIME\": \"2021-02-09T18:00:00\", \"REGIONID\": \"NSW1\", \"RRP\": 39.15}, {\"INTERVAL_DATETIME\": \"2021-02-09T18:00:00\", \"REGIONID\": \"QLD1\", \"RRP\": 41.12903}, {\"INTERVAL_DATETIME\": \"2021-02-09T18:00:00\", \"REGIONID\": \"SA1\", \"RRP\": 50.44}, {\"INTERVAL_DATETIME\": \"2021-02-09T18:00:00\", \"REGIONID\": \"TAS1\", \"RRP\": 397.77}, {\"INTERVAL_DATETIME\": \"2021-02-09T18:00:00\", \"REGIONID\": \"VIC1\", \"RRP\": 34.96}, {\"INTERVAL_DATETIME\": \"2021-02-09T18:30:00\", \"REGIONID\": \"NSW1\", \"RRP\": 47.56601}, {\"INTERVAL_DATETIME\": \"2021-02-09T18:30:00\", \"REGIONID\": \"QLD1\", \"RRP\": 49.61}, {\"INTERVAL_DATETIME\": \"2021-02-09T18:30:00\", \"REGIONID\": \"SA1\", \"RRP\": 53.39946}, {\"INTERVAL_DATETIME\": \"2021-02-09T18:30:00\", \"REGIONID\": \"TAS1\", \"RRP\": 397.64}, {\"INTERVAL_DATETIME\": \"2021-02-09T18:30:00\", \"REGIONID\": \"VIC1\", \"RRP\": 42.92576}, {\"INTERVAL_DATETIME\": \"2021-02-09T19:00:00\", \"REGIONID\": \"NSW1\", \"RRP\": 110.0}, {\"INTERVAL_DATETIME\": \"2021-02-09T19:00:00\", \"REGIONID\": \"QLD1\", \"RRP\": 113.93983}, {\"INTERVAL_DATETIME\": \"2021-02-09T19:00:00\", \"REGIONID\": \"SA1\", \"RRP\": 379.95}, {\"INTERVAL_DATETIME\": \"2021-02-09T19:00:00\", \"REGIONID\": \"TAS1\", \"RRP\": 397.64}, {\"INTERVAL_DATETIME\": \"2021-02-09T19:00:00\", \"REGIONID\": \"VIC1\", \"RRP\": 55.0}, {\"INTERVAL_DATETIME\": \"2021-02-09T19:30:00\", \"REGIONID\": \"NSW1\", \"RRP\": 197.64511}, {\"INTERVAL_DATETIME\": \"2021-02-09T19:30:00\", \"REGIONID\": \"QLD1\", \"RRP\": 200.11}, {\"INTERVAL_DATETIME\": \"2021-02-09T19:30:00\", \"REGIONID\": \"SA1\", \"RRP\": 578.81}, {\"INTERVAL_DATETIME\": \"2021-02-09T19:30:00\", \"REGIONID\": \"TAS1\", \"RRP\": 397.64}, {\"INTERVAL_DATETIME\": \"2021-02-09T19:30:00\", \"REGIONID\": \"VIC1\", \"RRP\": 177.70484}, {\"INTERVAL_DATETIME\": \"2021-02-09T20:00:00\", \"REGIONID\": \"NSW1\", \"RRP\": 200.87292}, {\"INTERVAL_DATETIME\": \"2021-02-09T20:00:00\", \"REGIONID\": \"QLD1\", \"RRP\": 200.11}, {\"INTERVAL_DATETIME\": \"2021-02-09T20:00:00\", \"REGIONID\": \"SA1\", \"RRP\": 578.81}, {\"INTERVAL_DATETIME\": \"2021-02-09T20:00:00\", \"REGIONID\": \"TAS1\", \"RRP\": 397.64}, {\"INTERVAL_DATETIME\": \"2021-02-09T20:00:00\", \"REGIONID\": \"VIC1\", \"RRP\": 184.39037}, {\"INTERVAL_DATETIME\": \"2021-02-09T20:30:00\", \"REGIONID\": \"NSW1\", \"RRP\": 59.90427}, {\"INTERVAL_DATETIME\": \"2021-02-09T20:30:00\", \"REGIONID\": \"QLD1\", \"RRP\": 60.45585}, {\"INTERVAL_DATETIME\": \"2021-02-09T20:30:00\", \"REGIONID\": \"SA1\", \"RRP\": 379.98}, {\"INTERVAL_DATETIME\": \"2021-02-09T20:30:00\", \"REGIONID\": \"TAS1\", \"RRP\": 397.64}, {\"INTERVAL_DATETIME\": \"2021-02-09T20:30:00\", \"REGIONID\": \"VIC1\", \"RRP\": 55.0}, {\"INTERVAL_DATETIME\": \"2021-02-09T21:00:00\", \"REGIONID\": \"NSW1\", \"RRP\": 48.80228}, {\"INTERVAL_DATETIME\": \"2021-02-09T21:00:00\", \"REGIONID\": \"QLD1\", \"RRP\": 49.5}, {\"INTERVAL_DATETIME\": \"2021-02-09T21:00:00\", \"REGIONID\": \"SA1\", \"RRP\": 379.95}, {\"INTERVAL_DATETIME\": \"2021-02-09T21:00:00\", \"REGIONID\": \"TAS1\", \"RRP\": 397.64}, {\"INTERVAL_DATETIME\": \"2021-02-09T21:00:00\", \"REGIONID\": \"VIC1\", \"RRP\": 46.01664}, {\"INTERVAL_DATETIME\": \"2021-02-09T21:30:00\", \"REGIONID\": \"NSW1\", \"RRP\": 39.12}, {\"INTERVAL_DATETIME\": \"2021-02-09T21:30:00\", \"REGIONID\": \"QLD1\", \"RRP\": 40.18344}, {\"INTERVAL_DATETIME\": \"2021-02-09T21:30:00\", \"REGIONID\": \"SA1\", \"RRP\": 51.43}, {\"INTERVAL_DATETIME\": \"2021-02-09T21:30:00\", \"REGIONID\": \"TAS1\", \"RRP\": 397.64}, {\"INTERVAL_DATETIME\": \"2021-02-09T21:30:00\", \"REGIONID\": \"VIC1\", \"RRP\": 35.32316}, {\"INTERVAL_DATETIME\": \"2021-02-09T22:00:00\", \"REGIONID\": \"NSW1\", \"RRP\": 35.58}, {\"INTERVAL_DATETIME\": \"2021-02-09T22:00:00\", \"REGIONID\": \"QLD1\", \"RRP\": 37.29864}, {\"INTERVAL_DATETIME\": \"2021-02-09T22:00:00\", \"REGIONID\": \"SA1\", \"RRP\": 50.44}, {\"INTERVAL_DATETIME\": \"2021-02-09T22:00:00\", \"REGIONID\": \"TAS1\", \"RRP\": 397.64}, {\"INTERVAL_DATETIME\": \"2021-02-09T22:00:00\", \"REGIONID\": \"VIC1\", \"RRP\": 32.5801}, {\"INTERVAL_DATETIME\": \"2021-02-09T22:30:00\", \"REGIONID\": \"NSW1\", \"RRP\": 39.12}, {\"INTERVAL_DATETIME\": \"2021-02-09T22:30:00\", \"REGIONID\": \"QLD1\", \"RRP\": 41.55392}, {\"INTERVAL_DATETIME\": \"2021-02-09T22:30:00\", \"REGIONID\": \"SA1\", \"RRP\": 49.74}, {\"INTERVAL_DATETIME\": \"2021-02-09T22:30:00\", \"REGIONID\": \"TAS1\", \"RRP\": 397.64}, {\"INTERVAL_DATETIME\": \"2021-02-09T22:30:00\", \"REGIONID\": \"VIC1\", \"RRP\": 35.60081}, {\"INTERVAL_DATETIME\": \"2021-02-09T23:00:00\", \"REGIONID\": \"NSW1\", \"RRP\": 38.11134}, {\"INTERVAL_DATETIME\": \"2021-02-09T23:00:00\", \"REGIONID\": \"QLD1\", \"RRP\": 39.20869}, {\"INTERVAL_DATETIME\": \"2021-02-09T23:00:00\", \"REGIONID\": \"SA1\", \"RRP\": 43.49009}, {\"INTERVAL_DATETIME\": \"2021-02-09T23:00:00\", \"REGIONID\": \"TAS1\", \"RRP\": 60.34}, {\"INTERVAL_DATETIME\": \"2021-02-09T23:00:00\", \"REGIONID\": \"VIC1\", \"RRP\": 34.96}, {\"INTERVAL_DATETIME\": \"2021-02-09T23:30:00\", \"REGIONID\": \"NSW1\", \"RRP\": 35.58}, {\"INTERVAL_DATETIME\": \"2021-02-09T23:30:00\", \"REGIONID\": \"QLD1\", \"RRP\": 35.25}, {\"INTERVAL_DATETIME\": \"2021-02-09T23:30:00\", \"REGIONID\": \"SA1\", \"RRP\": 42.35625}, {\"INTERVAL_DATETIME\": \"2021-02-09T23:30:00\", \"REGIONID\": \"TAS1\", \"RRP\": 60.34}, {\"INTERVAL_DATETIME\": \"2021-02-09T23:30:00\", \"REGIONID\": \"VIC1\", \"RRP\": 34.04855}, {\"INTERVAL_DATETIME\": \"2021-02-10T00:00:00\", \"REGIONID\": \"NSW1\", \"RRP\": 35.58}, {\"INTERVAL_DATETIME\": \"2021-02-10T00:00:00\", \"REGIONID\": \"QLD1\", \"RRP\": 34.57218}, {\"INTERVAL_DATETIME\": \"2021-02-10T00:00:00\", \"REGIONID\": \"SA1\", \"RRP\": 50.44}, {\"INTERVAL_DATETIME\": \"2021-02-10T00:00:00\", \"REGIONID\": \"TAS1\", \"RRP\": 60.34}, {\"INTERVAL_DATETIME\": \"2021-02-10T00:00:00\", \"REGIONID\": \"VIC1\", \"RRP\": 34.96}, {\"INTERVAL_DATETIME\": \"2021-02-10T00:30:00\", \"REGIONID\": \"NSW1\", \"RRP\": 35.58}, {\"INTERVAL_DATETIME\": \"2021-02-10T00:30:00\", \"REGIONID\": \"QLD1\", \"RRP\": 35.56004}, {\"INTERVAL_DATETIME\": \"2021-02-10T00:30:00\", \"REGIONID\": \"SA1\", \"RRP\": 50.44}, {\"INTERVAL_DATETIME\": \"2021-02-10T00:30:00\", \"REGIONID\": \"TAS1\", \"RRP\": 60.34}, {\"INTERVAL_DATETIME\": \"2021-02-10T00:30:00\", \"REGIONID\": \"VIC1\", \"RRP\": 34.96}, {\"INTERVAL_DATETIME\": \"2021-02-10T01:00:00\", \"REGIONID\": \"NSW1\", \"RRP\": 35.48}, {\"INTERVAL_DATETIME\": \"2021-02-10T01:00:00\", \"REGIONID\": \"QLD1\", \"RRP\": 35.25}, {\"INTERVAL_DATETIME\": \"2021-02-10T01:00:00\", \"REGIONID\": \"SA1\", \"RRP\": 50.44}, {\"INTERVAL_DATETIME\": \"2021-02-10T01:00:00\", \"REGIONID\": \"TAS1\", \"RRP\": 36.11275}, {\"INTERVAL_DATETIME\": \"2021-02-10T01:00:00\", \"REGIONID\": \"VIC1\", \"RRP\": 34.55582}, {\"INTERVAL_DATETIME\": \"2021-02-10T01:30:00\", \"REGIONID\": \"NSW1\", \"RRP\": 35.4598}, {\"INTERVAL_DATETIME\": \"2021-02-10T01:30:00\", \"REGIONID\": \"QLD1\", \"RRP\": 35.06908}, {\"INTERVAL_DATETIME\": \"2021-02-10T01:30:00\", \"REGIONID\": \"SA1\", \"RRP\": 40.46082}, {\"INTERVAL_DATETIME\": \"2021-02-10T01:30:00\", \"REGIONID\": \"TAS1\", \"RRP\": 35.21939}, {\"INTERVAL_DATETIME\": \"2021-02-10T01:30:00\", \"REGIONID\": \"VIC1\", \"RRP\": 33.78501}, {\"INTERVAL_DATETIME\": \"2021-02-10T02:00:00\", \"REGIONID\": \"NSW1\", \"RRP\": 32.5}, {\"INTERVAL_DATETIME\": \"2021-02-10T02:00:00\", \"REGIONID\": \"QLD1\", \"RRP\": 31.86795}, {\"INTERVAL_DATETIME\": \"2021-02-10T02:00:00\", \"REGIONID\": \"SA1\", \"RRP\": 35.6086}, {\"INTERVAL_DATETIME\": \"2021-02-10T02:00:00\", \"REGIONID\": \"TAS1\", \"RRP\": 31.59711}, {\"INTERVAL_DATETIME\": \"2021-02-10T02:00:00\", \"REGIONID\": \"VIC1\", \"RRP\": 30.31025}, {\"INTERVAL_DATETIME\": \"2021-02-10T02:30:00\", \"REGIONID\": \"NSW1\", \"RRP\": 32.5}, {\"INTERVAL_DATETIME\": \"2021-02-10T02:30:00\", \"REGIONID\": \"QLD1\", \"RRP\": 31.57942}, {\"INTERVAL_DATETIME\": \"2021-02-10T02:30:00\", \"REGIONID\": \"SA1\", \"RRP\": 33.38822}, {\"INTERVAL_DATETIME\": \"2021-02-10T02:30:00\", \"REGIONID\": \"TAS1\", \"RRP\": 30.95433}, {\"INTERVAL_DATETIME\": \"2021-02-10T02:30:00\", \"REGIONID\": \"VIC1\", \"RRP\": 29.69365}, {\"INTERVAL_DATETIME\": \"2021-02-10T03:00:00\", \"REGIONID\": \"NSW1\", \"RRP\": 32.5}, {\"INTERVAL_DATETIME\": \"2021-02-10T03:00:00\", \"REGIONID\": \"QLD1\", \"RRP\": 31.36051}, {\"INTERVAL_DATETIME\": \"2021-02-10T03:00:00\", \"REGIONID\": \"SA1\", \"RRP\": 32.88818}, {\"INTERVAL_DATETIME\": \"2021-02-10T03:00:00\", \"REGIONID\": \"TAS1\", \"RRP\": 30.64413}, {\"INTERVAL_DATETIME\": \"2021-02-10T03:00:00\", \"REGIONID\": \"VIC1\", \"RRP\": 29.39608}, {\"INTERVAL_DATETIME\": \"2021-02-10T03:30:00\", \"REGIONID\": \"NSW1\", \"RRP\": 32.5}, {\"INTERVAL_DATETIME\": \"2021-02-10T03:30:00\", \"REGIONID\": \"QLD1\", \"RRP\": 31.35714}, {\"INTERVAL_DATETIME\": \"2021-02-10T03:30:00\", \"REGIONID\": \"SA1\", \"RRP\": 32.38656}, {\"INTERVAL_DATETIME\": \"2021-02-10T03:30:00\", \"REGIONID\": \"TAS1\", \"RRP\": 30.32865}, {\"INTERVAL_DATETIME\": \"2021-02-10T03:30:00\", \"REGIONID\": \"VIC1\", \"RRP\": 29.09345}, {\"INTERVAL_DATETIME\": \"2021-02-10T04:00:00\", \"REGIONID\": \"NSW1\", \"RRP\": 32.5}, {\"INTERVAL_DATETIME\": \"2021-02-10T04:00:00\", \"REGIONID\": \"QLD1\", \"RRP\": 31.36134}, {\"INTERVAL_DATETIME\": \"2021-02-10T04:00:00\", \"REGIONID\": \"SA1\", \"RRP\": 32.52496}, {\"INTERVAL_DATETIME\": \"2021-02-10T04:00:00\", \"REGIONID\": \"TAS1\", \"RRP\": 30.67736}, {\"INTERVAL_DATETIME\": \"2021-02-10T04:00:00\", \"REGIONID\": \"VIC1\", \"RRP\": 29.35476}]}}, {\"mode\": \"vega-lite\"});\n",
       "</script>"
      ],
      "text/plain": [
       "alt.HConcatChart(...)"
      ]
     },
     "execution_count": 41,
     "metadata": {},
     "output_type": "execute_result"
    }
   ],
   "source": [
    "#hide_input\n",
    "## Plotting using altair ##\n",
    "import altair as alt\n",
    "regions = pd.DataFrame({'REGIONID': ['NSW1','QLD1','SA1','VIC1','TAS1']})\n",
    "\n",
    "# Create subset DF for plotting\n",
    "plot_frame = price_frame.set_index('INTERVAL_DATETIME').copy()\n",
    "plot_frame = plot_frame[['REGIONID','RRP']]\n",
    "plot_frame = plot_frame.reset_index()\n",
    "\n",
    "selection = alt.selection_multi(fields=['REGIONID'])\n",
    "color = alt.condition(selection, alt.Color('REGIONID:N'), alt.value('lightgray'))\n",
    "make_selector = alt.Chart(regions).mark_rect().encode(y='REGIONID', color=color).add_selection(selection)\n",
    "\n",
    "#nem_price_chart = alt.Chart(plot_frame).mark_line().encode(x='INTERVAL_DATETIME', y=alt.Y('RRP', scale=alt.Scale(domain=[0,10])), color='REGIONID').transform_filter(selection)\n",
    "nem_price_chart = alt.Chart(plot_frame).mark_line().encode(\n",
    "    x='INTERVAL_DATETIME', y=alt.Y('RRP'), color='REGIONID').transform_filter(selection).properties(\n",
    "    width=650,\n",
    "    height=400, title='30 Min NEM Prices - Interactive Chart').interactive()\n",
    "\n",
    "make_selector | nem_price_chart"
   ]
  },
  {
   "cell_type": "markdown",
   "id": "exclusive-truth",
   "metadata": {},
   "source": [
    "# Weather Data"
   ]
  },
  {
   "cell_type": "code",
   "execution_count": 19,
   "id": "painful-trouble",
   "metadata": {},
   "outputs": [],
   "source": [
    "#hide_input\n",
    "import psycopg2\n",
    "\n",
    "db = \"BoM_Data\"\n",
    "userid = \"postgres\"\n",
    "passwd = \"iforgot23\"\n",
    "myHost = \"localhost\"\n",
    "\n",
    "# Create a connection to the database\n",
    "conn = None\n",
    "try:\n",
    "    # Parses the config file and connects using the connect string\n",
    "    conn = psycopg2.connect(database=db,\n",
    "                                user=userid,\n",
    "                                password=passwd,\n",
    "                                host=myHost)\n",
    "except psycopg2.Error as sqle:\n",
    "    print(\"psycopg2.Error : \" + sqle.pgerror)"
   ]
  },
  {
   "cell_type": "code",
   "execution_count": 20,
   "id": "talented-gilbert",
   "metadata": {},
   "outputs": [],
   "source": [
    "#hide_input\n",
    "## WRAPPER FUNCTION FOR QUERYING ##\n",
    "import psycopg2.extras\n",
    "\n",
    "def pgquery( conn, sqlcmd, args, silent=False, returntype='tuple'):\n",
    "   \"\"\" utility function to execute some SQL query statement\n",
    "       it can take optional arguments (as a dictionary) to fill in for placeholder in the SQL\n",
    "       will return the complete query result as return value - or in case of error: None\n",
    "       error and transaction handling built-in (by using the 'with' clauses) \"\"\"\n",
    "   retval = None\n",
    "   with conn:\n",
    "      cursortype = None if returntype != 'dict' else psycopg2.extras.RealDictCursor     \n",
    "      with conn.cursor(cursor_factory=cursortype) as cur:\n",
    "         try:\n",
    "            if args is None:\n",
    "                cur.execute(sqlcmd)\n",
    "            else:\n",
    "                cur.execute(sqlcmd, args)\n",
    "            retval = cur.fetchall() # we use fetchall() as we expect only _small_ query results\n",
    "         except Exception as e:\n",
    "            if e.pgcode != None and not(silent):\n",
    "                print(\"db read error: \")\n",
    "                print(e)\n",
    "   return retval"
   ]
  },
  {
   "cell_type": "code",
   "execution_count": 47,
   "id": "partial-bahamas",
   "metadata": {},
   "outputs": [],
   "source": [
    "#hide_input\n",
    "## Create a table showing the daily change in temp forecasts\n",
    "query_stmt = \"select * from capital_city_forecasts\"\n",
    "\n",
    "raw_df = pgquery(conn, query_stmt, None)\n",
    "raw_df = pd.DataFrame(raw_df)\n",
    "raw_df.columns = ['town_index','index','product_id','state','town','aac','lat','lon','elev','start_time_local','end_time_local','utc_offset','start_time_utc','end_time_utc','min_temp','max_temp','lower_precip_limit','upper_precip_limit','precis','prob_precip','Date','Date_Added']\n",
    "raw_df = raw_df[['town', 'min_temp','max_temp','lower_precip_limit','upper_precip_limit','Date','Date_Added']]"
   ]
  },
  {
   "cell_type": "markdown",
   "id": "weighted-finger",
   "metadata": {},
   "source": [
    "## BoM Temperature Forecasts\n",
    "> Dashed line displays yesterday's forecast. Solid line is the most current BoM forecast"
   ]
  },
  {
   "cell_type": "code",
   "execution_count": 48,
   "id": "ordinary-binary",
   "metadata": {},
   "outputs": [
    {
     "data": {
      "application/vnd.plotly.v1+json": {
       "config": {
        "plotlyServerURL": "https://plot.ly"
       },
       "data": [
        {
         "line": {
          "color": "royalblue",
          "width": 4
         },
         "name": "Current Min Forecast",
         "type": "scatter",
         "x": [
          "2021-02-03",
          "2021-02-04",
          "2021-02-05",
          "2021-02-06",
          "2021-02-07",
          "2021-02-08",
          "2021-02-09"
         ],
         "xaxis": "x",
         "y": [
          null,
          21,
          21,
          21,
          22,
          23,
          22
         ],
         "yaxis": "y"
        },
        {
         "line": {
          "color": "royalblue",
          "dash": "dot",
          "width": 4
         },
         "name": "Yesterday Min Forecast",
         "type": "scatter",
         "x": [
          "2021-02-02",
          "2021-02-03",
          "2021-02-04",
          "2021-02-05",
          "2021-02-06",
          "2021-02-07",
          "2021-02-08"
         ],
         "xaxis": "x",
         "y": [
          null,
          21,
          21,
          21,
          21,
          22,
          24
         ],
         "yaxis": "y"
        },
        {
         "line": {
          "color": "firebrick",
          "width": 4
         },
         "name": "Current Max Forecast",
         "type": "scatter",
         "x": [
          "2021-02-03",
          "2021-02-04",
          "2021-02-05",
          "2021-02-06",
          "2021-02-07",
          "2021-02-08",
          "2021-02-09"
         ],
         "xaxis": "x",
         "y": [
          29,
          30,
          30,
          32,
          35,
          31,
          29
         ],
         "yaxis": "y"
        },
        {
         "line": {
          "color": "firebrick",
          "dash": "dot",
          "width": 4
         },
         "name": "Yesterday Max Forecast",
         "type": "scatter",
         "x": [
          "2021-02-02",
          "2021-02-03",
          "2021-02-04",
          "2021-02-05",
          "2021-02-06",
          "2021-02-07",
          "2021-02-08"
         ],
         "xaxis": "x",
         "y": [
          28,
          27,
          29,
          30,
          32,
          34,
          34
         ],
         "yaxis": "y"
        },
        {
         "line": {
          "color": "royalblue",
          "width": 4
         },
         "name": "Current Min Forecast",
         "type": "scatter",
         "x": [
          "2021-02-03",
          "2021-02-04",
          "2021-02-05",
          "2021-02-06",
          "2021-02-07",
          "2021-02-08",
          "2021-02-09"
         ],
         "xaxis": "x2",
         "y": [
          null,
          18,
          21,
          21,
          20,
          19,
          18
         ],
         "yaxis": "y2"
        },
        {
         "line": {
          "color": "royalblue",
          "dash": "dot",
          "width": 4
         },
         "name": "Yesterday Min Forecast",
         "type": "scatter",
         "x": [
          "2021-02-02",
          "2021-02-03",
          "2021-02-04",
          "2021-02-05",
          "2021-02-06",
          "2021-02-07",
          "2021-02-08"
         ],
         "xaxis": "x2",
         "y": [
          null,
          18,
          17,
          20,
          21,
          21,
          19
         ],
         "yaxis": "y2"
        },
        {
         "line": {
          "color": "firebrick",
          "width": 4
         },
         "name": "Current Max Forecast",
         "type": "scatter",
         "x": [
          "2021-02-03",
          "2021-02-04",
          "2021-02-05",
          "2021-02-06",
          "2021-02-07",
          "2021-02-08",
          "2021-02-09"
         ],
         "xaxis": "x2",
         "y": [
          25,
          29,
          29,
          27,
          30,
          25,
          25
         ],
         "yaxis": "y2"
        },
        {
         "line": {
          "color": "firebrick",
          "dash": "dot",
          "width": 4
         },
         "name": "Yesterday Max Forecast",
         "type": "scatter",
         "x": [
          "2021-02-02",
          "2021-02-03",
          "2021-02-04",
          "2021-02-05",
          "2021-02-06",
          "2021-02-07",
          "2021-02-08"
         ],
         "xaxis": "x2",
         "y": [
          24,
          25,
          28,
          28,
          29,
          32,
          29
         ],
         "yaxis": "y2"
        },
        {
         "line": {
          "color": "royalblue",
          "width": 4
         },
         "name": "Current Min Forecast",
         "type": "scatter",
         "x": [
          "2021-02-03",
          "2021-02-04",
          "2021-02-05",
          "2021-02-06",
          "2021-02-07",
          "2021-02-08",
          "2021-02-09"
         ],
         "xaxis": "x3",
         "y": [
          null,
          15,
          21,
          17,
          15,
          13,
          13
         ],
         "yaxis": "y3"
        },
        {
         "line": {
          "color": "royalblue",
          "dash": "dot",
          "width": 4
         },
         "name": "Yesterday Min Forecast",
         "type": "scatter",
         "x": [
          "2021-02-02",
          "2021-02-03",
          "2021-02-04",
          "2021-02-05",
          "2021-02-06",
          "2021-02-07",
          "2021-02-08"
         ],
         "xaxis": "x3",
         "y": [
          null,
          13,
          15,
          21,
          18,
          15,
          15
         ],
         "yaxis": "y3"
        },
        {
         "line": {
          "color": "firebrick",
          "width": 4
         },
         "name": "Current Max Forecast",
         "type": "scatter",
         "x": [
          "2021-02-03",
          "2021-02-04",
          "2021-02-05",
          "2021-02-06",
          "2021-02-07",
          "2021-02-08",
          "2021-02-09"
         ],
         "xaxis": "x3",
         "y": [
          25,
          30,
          27,
          23,
          19,
          19,
          25
         ],
         "yaxis": "y3"
        },
        {
         "line": {
          "color": "firebrick",
          "dash": "dot",
          "width": 4
         },
         "name": "Yesterday Max Forecast",
         "type": "scatter",
         "x": [
          "2021-02-02",
          "2021-02-03",
          "2021-02-04",
          "2021-02-05",
          "2021-02-06",
          "2021-02-07",
          "2021-02-08"
         ],
         "xaxis": "x3",
         "y": [
          19,
          26,
          31,
          27,
          25,
          23,
          20
         ],
         "yaxis": "y3"
        },
        {
         "line": {
          "color": "royalblue",
          "width": 4
         },
         "name": "Current Min Forecast",
         "type": "scatter",
         "x": [
          "2021-02-03",
          "2021-02-04",
          "2021-02-05",
          "2021-02-06",
          "2021-02-07",
          "2021-02-08",
          "2021-02-09"
         ],
         "xaxis": "x4",
         "y": [
          null,
          20,
          13,
          15,
          15,
          13,
          15
         ],
         "yaxis": "y4"
        },
        {
         "line": {
          "color": "royalblue",
          "dash": "dot",
          "width": 4
         },
         "name": "Yesterday Min Forecast",
         "type": "scatter",
         "x": [
          "2021-02-02",
          "2021-02-03",
          "2021-02-04",
          "2021-02-05",
          "2021-02-06",
          "2021-02-07",
          "2021-02-08"
         ],
         "xaxis": "x4",
         "y": [
          null,
          14,
          19,
          13,
          14,
          16,
          14
         ],
         "yaxis": "y4"
        },
        {
         "line": {
          "color": "firebrick",
          "width": 4
         },
         "name": "Current Max Forecast",
         "type": "scatter",
         "x": [
          "2021-02-03",
          "2021-02-04",
          "2021-02-05",
          "2021-02-06",
          "2021-02-07",
          "2021-02-08",
          "2021-02-09"
         ],
         "xaxis": "x4",
         "y": [
          28,
          28,
          20,
          22,
          22,
          25,
          28
         ],
         "yaxis": "y4"
        },
        {
         "line": {
          "color": "firebrick",
          "dash": "dot",
          "width": 4
         },
         "name": "Yesterday Max Forecast",
         "type": "scatter",
         "x": [
          "2021-02-02",
          "2021-02-03",
          "2021-02-04",
          "2021-02-05",
          "2021-02-06",
          "2021-02-07",
          "2021-02-08"
         ],
         "xaxis": "x4",
         "y": [
          25,
          28,
          28,
          20,
          22,
          22,
          23
         ],
         "yaxis": "y4"
        },
        {
         "line": {
          "color": "royalblue",
          "width": 4
         },
         "name": "Current Min Forecast",
         "type": "scatter",
         "x": [
          "2021-02-03",
          "2021-02-04",
          "2021-02-05",
          "2021-02-06",
          "2021-02-07",
          "2021-02-08",
          "2021-02-09"
         ],
         "xaxis": "x5",
         "y": [
          null,
          13,
          16,
          19,
          15,
          11,
          10
         ],
         "yaxis": "y5"
        },
        {
         "line": {
          "color": "royalblue",
          "dash": "dot",
          "width": 4
         },
         "name": "Yesterday Min Forecast",
         "type": "scatter",
         "x": [
          "2021-02-02",
          "2021-02-03",
          "2021-02-04",
          "2021-02-05",
          "2021-02-06",
          "2021-02-07",
          "2021-02-08"
         ],
         "xaxis": "x5",
         "y": [
          null,
          12,
          13,
          15,
          19,
          16,
          14
         ],
         "yaxis": "y5"
        },
        {
         "line": {
          "color": "firebrick",
          "width": 4
         },
         "name": "Current Max Forecast",
         "type": "scatter",
         "x": [
          "2021-02-03",
          "2021-02-04",
          "2021-02-05",
          "2021-02-06",
          "2021-02-07",
          "2021-02-08",
          "2021-02-09"
         ],
         "xaxis": "x5",
         "y": [
          20,
          25,
          27,
          26,
          20,
          21,
          17
         ],
         "yaxis": "y5"
        },
        {
         "line": {
          "color": "firebrick",
          "dash": "dot",
          "width": 4
         },
         "name": "Yesterday Max Forecast",
         "type": "scatter",
         "x": [
          "2021-02-02",
          "2021-02-03",
          "2021-02-04",
          "2021-02-05",
          "2021-02-06",
          "2021-02-07",
          "2021-02-08"
         ],
         "xaxis": "x5",
         "y": [
          20,
          19,
          25,
          27,
          26,
          23,
          18
         ],
         "yaxis": "y5"
        },
        {
         "line": {
          "color": "royalblue",
          "width": 4
         },
         "name": "Current Min Forecast",
         "type": "scatter",
         "x": [
          "2021-02-03",
          "2021-02-04",
          "2021-02-05",
          "2021-02-06",
          "2021-02-07",
          "2021-02-08",
          "2021-02-09"
         ],
         "xaxis": "x6",
         "y": [
          null,
          12,
          16,
          16,
          11,
          12,
          10
         ],
         "yaxis": "y6"
        },
        {
         "line": {
          "color": "royalblue",
          "dash": "dot",
          "width": 4
         },
         "name": "Yesterday Min Forecast",
         "type": "scatter",
         "x": [
          "2021-02-02",
          "2021-02-03",
          "2021-02-04",
          "2021-02-05",
          "2021-02-06",
          "2021-02-07",
          "2021-02-08"
         ],
         "xaxis": "x6",
         "y": [
          null,
          10,
          10,
          14,
          16,
          13,
          11
         ],
         "yaxis": "y6"
        },
        {
         "line": {
          "color": "firebrick",
          "width": 4
         },
         "name": "Current Max Forecast",
         "type": "scatter",
         "x": [
          "2021-02-03",
          "2021-02-04",
          "2021-02-05",
          "2021-02-06",
          "2021-02-07",
          "2021-02-08",
          "2021-02-09"
         ],
         "xaxis": "x6",
         "y": [
          25,
          28,
          26,
          24,
          27,
          22,
          23
         ],
         "yaxis": "y6"
        },
        {
         "line": {
          "color": "firebrick",
          "dash": "dot",
          "width": 4
         },
         "name": "Yesterday Max Forecast",
         "type": "scatter",
         "x": [
          "2021-02-02",
          "2021-02-03",
          "2021-02-04",
          "2021-02-05",
          "2021-02-06",
          "2021-02-07",
          "2021-02-08"
         ],
         "xaxis": "x6",
         "y": [
          26,
          25,
          27,
          28,
          23,
          25,
          26
         ],
         "yaxis": "y6"
        },
        {
         "line": {
          "color": "royalblue",
          "width": 4
         },
         "name": "Current Min Forecast",
         "type": "scatter",
         "x": [
          "2021-02-03",
          "2021-02-04",
          "2021-02-05",
          "2021-02-06",
          "2021-02-07",
          "2021-02-08",
          "2021-02-09"
         ],
         "xaxis": "x7",
         "y": [
          null,
          20,
          14,
          13,
          16,
          16,
          19,
          18
         ],
         "yaxis": "y7"
        },
        {
         "line": {
          "color": "royalblue",
          "dash": "dot",
          "width": 4
         },
         "name": "Yesterday Min Forecast",
         "type": "scatter",
         "x": [
          "2021-02-02",
          "2021-02-03",
          "2021-02-04",
          "2021-02-05",
          "2021-02-06",
          "2021-02-07",
          "2021-02-08"
         ],
         "xaxis": "x7",
         "y": [
          null,
          23,
          22,
          16,
          14,
          17,
          16,
          20
         ],
         "yaxis": "y7"
        },
        {
         "line": {
          "color": "firebrick",
          "width": 4
         },
         "name": "Current Max Forecast",
         "type": "scatter",
         "x": [
          "2021-02-03",
          "2021-02-04",
          "2021-02-05",
          "2021-02-06",
          "2021-02-07",
          "2021-02-08",
          "2021-02-09"
         ],
         "xaxis": "x7",
         "y": [
          null,
          34,
          30,
          29,
          24,
          28,
          27,
          26
         ],
         "yaxis": "y7"
        },
        {
         "line": {
          "color": "firebrick",
          "dash": "dot",
          "width": 4
         },
         "name": "Yesterday Max Forecast",
         "type": "scatter",
         "x": [
          "2021-02-02",
          "2021-02-03",
          "2021-02-04",
          "2021-02-05",
          "2021-02-06",
          "2021-02-07",
          "2021-02-08"
         ],
         "xaxis": "x7",
         "y": [
          null,
          37,
          34,
          32,
          30,
          24,
          28,
          28
         ],
         "yaxis": "y7"
        },
        {
         "line": {
          "color": "royalblue",
          "width": 4
         },
         "name": "Current Min Forecast",
         "type": "scatter",
         "x": [
          "2021-02-03",
          "2021-02-04",
          "2021-02-05",
          "2021-02-06",
          "2021-02-07",
          "2021-02-08",
          "2021-02-09"
         ],
         "xaxis": "x8",
         "y": [
          null,
          24,
          24,
          25,
          25,
          25,
          25,
          25
         ],
         "yaxis": "y8"
        },
        {
         "line": {
          "color": "royalblue",
          "dash": "dot",
          "width": 4
         },
         "name": "Yesterday Min Forecast",
         "type": "scatter",
         "x": [
          "2021-02-02",
          "2021-02-03",
          "2021-02-04",
          "2021-02-05",
          "2021-02-06",
          "2021-02-07",
          "2021-02-08"
         ],
         "xaxis": "x8",
         "y": [
          null,
          24,
          24,
          25,
          25,
          25,
          25,
          25
         ],
         "yaxis": "y8"
        },
        {
         "line": {
          "color": "firebrick",
          "width": 4
         },
         "name": "Current Max Forecast",
         "type": "scatter",
         "x": [
          "2021-02-03",
          "2021-02-04",
          "2021-02-05",
          "2021-02-06",
          "2021-02-07",
          "2021-02-08",
          "2021-02-09"
         ],
         "xaxis": "x8",
         "y": [
          null,
          31,
          31,
          31,
          31,
          31,
          30,
          31
         ],
         "yaxis": "y8"
        },
        {
         "line": {
          "color": "firebrick",
          "dash": "dot",
          "width": 4
         },
         "name": "Yesterday Max Forecast",
         "type": "scatter",
         "x": [
          "2021-02-02",
          "2021-02-03",
          "2021-02-04",
          "2021-02-05",
          "2021-02-06",
          "2021-02-07",
          "2021-02-08"
         ],
         "xaxis": "x8",
         "y": [
          null,
          29,
          30,
          31,
          31,
          31,
          31,
          31
         ],
         "yaxis": "y8"
        }
       ],
       "layout": {
        "annotations": [
         {
          "font": {
           "size": 16
          },
          "showarrow": false,
          "text": "Brisbane",
          "x": 0.5,
          "xanchor": "center",
          "xref": "paper",
          "y": 1,
          "yanchor": "bottom",
          "yref": "paper"
         },
         {
          "font": {
           "size": 16
          },
          "showarrow": false,
          "text": "Sydney",
          "x": 0.5,
          "xanchor": "center",
          "xref": "paper",
          "y": 0.8671875,
          "yanchor": "bottom",
          "yref": "paper"
         },
         {
          "font": {
           "size": 16
          },
          "showarrow": false,
          "text": "Melbourne",
          "x": 0.5,
          "xanchor": "center",
          "xref": "paper",
          "y": 0.734375,
          "yanchor": "bottom",
          "yref": "paper"
         },
         {
          "font": {
           "size": 16
          },
          "showarrow": false,
          "text": "Adelaide",
          "x": 0.5,
          "xanchor": "center",
          "xref": "paper",
          "y": 0.6015625,
          "yanchor": "bottom",
          "yref": "paper"
         },
         {
          "font": {
           "size": 16
          },
          "showarrow": false,
          "text": "Hobart",
          "x": 0.5,
          "xanchor": "center",
          "xref": "paper",
          "y": 0.46875,
          "yanchor": "bottom",
          "yref": "paper"
         },
         {
          "font": {
           "size": 16
          },
          "showarrow": false,
          "text": "Canberra",
          "x": 0.5,
          "xanchor": "center",
          "xref": "paper",
          "y": 0.3359375,
          "yanchor": "bottom",
          "yref": "paper"
         },
         {
          "font": {
           "size": 16
          },
          "showarrow": false,
          "text": "Perth",
          "x": 0.5,
          "xanchor": "center",
          "xref": "paper",
          "y": 0.203125,
          "yanchor": "bottom",
          "yref": "paper"
         },
         {
          "font": {
           "size": 16
          },
          "showarrow": false,
          "text": "Darwin",
          "x": 0.5,
          "xanchor": "center",
          "xref": "paper",
          "y": 0.0703125,
          "yanchor": "bottom",
          "yref": "paper"
         }
        ],
        "height": 1400,
        "showlegend": false,
        "template": {
         "data": {
          "bar": [
           {
            "error_x": {
             "color": "#2a3f5f"
            },
            "error_y": {
             "color": "#2a3f5f"
            },
            "marker": {
             "line": {
              "color": "#E5ECF6",
              "width": 0.5
             }
            },
            "type": "bar"
           }
          ],
          "barpolar": [
           {
            "marker": {
             "line": {
              "color": "#E5ECF6",
              "width": 0.5
             }
            },
            "type": "barpolar"
           }
          ],
          "carpet": [
           {
            "aaxis": {
             "endlinecolor": "#2a3f5f",
             "gridcolor": "white",
             "linecolor": "white",
             "minorgridcolor": "white",
             "startlinecolor": "#2a3f5f"
            },
            "baxis": {
             "endlinecolor": "#2a3f5f",
             "gridcolor": "white",
             "linecolor": "white",
             "minorgridcolor": "white",
             "startlinecolor": "#2a3f5f"
            },
            "type": "carpet"
           }
          ],
          "choropleth": [
           {
            "colorbar": {
             "outlinewidth": 0,
             "ticks": ""
            },
            "type": "choropleth"
           }
          ],
          "contour": [
           {
            "colorbar": {
             "outlinewidth": 0,
             "ticks": ""
            },
            "colorscale": [
             [
              0,
              "#0d0887"
             ],
             [
              0.1111111111111111,
              "#46039f"
             ],
             [
              0.2222222222222222,
              "#7201a8"
             ],
             [
              0.3333333333333333,
              "#9c179e"
             ],
             [
              0.4444444444444444,
              "#bd3786"
             ],
             [
              0.5555555555555556,
              "#d8576b"
             ],
             [
              0.6666666666666666,
              "#ed7953"
             ],
             [
              0.7777777777777778,
              "#fb9f3a"
             ],
             [
              0.8888888888888888,
              "#fdca26"
             ],
             [
              1,
              "#f0f921"
             ]
            ],
            "type": "contour"
           }
          ],
          "contourcarpet": [
           {
            "colorbar": {
             "outlinewidth": 0,
             "ticks": ""
            },
            "type": "contourcarpet"
           }
          ],
          "heatmap": [
           {
            "colorbar": {
             "outlinewidth": 0,
             "ticks": ""
            },
            "colorscale": [
             [
              0,
              "#0d0887"
             ],
             [
              0.1111111111111111,
              "#46039f"
             ],
             [
              0.2222222222222222,
              "#7201a8"
             ],
             [
              0.3333333333333333,
              "#9c179e"
             ],
             [
              0.4444444444444444,
              "#bd3786"
             ],
             [
              0.5555555555555556,
              "#d8576b"
             ],
             [
              0.6666666666666666,
              "#ed7953"
             ],
             [
              0.7777777777777778,
              "#fb9f3a"
             ],
             [
              0.8888888888888888,
              "#fdca26"
             ],
             [
              1,
              "#f0f921"
             ]
            ],
            "type": "heatmap"
           }
          ],
          "heatmapgl": [
           {
            "colorbar": {
             "outlinewidth": 0,
             "ticks": ""
            },
            "colorscale": [
             [
              0,
              "#0d0887"
             ],
             [
              0.1111111111111111,
              "#46039f"
             ],
             [
              0.2222222222222222,
              "#7201a8"
             ],
             [
              0.3333333333333333,
              "#9c179e"
             ],
             [
              0.4444444444444444,
              "#bd3786"
             ],
             [
              0.5555555555555556,
              "#d8576b"
             ],
             [
              0.6666666666666666,
              "#ed7953"
             ],
             [
              0.7777777777777778,
              "#fb9f3a"
             ],
             [
              0.8888888888888888,
              "#fdca26"
             ],
             [
              1,
              "#f0f921"
             ]
            ],
            "type": "heatmapgl"
           }
          ],
          "histogram": [
           {
            "marker": {
             "colorbar": {
              "outlinewidth": 0,
              "ticks": ""
             }
            },
            "type": "histogram"
           }
          ],
          "histogram2d": [
           {
            "colorbar": {
             "outlinewidth": 0,
             "ticks": ""
            },
            "colorscale": [
             [
              0,
              "#0d0887"
             ],
             [
              0.1111111111111111,
              "#46039f"
             ],
             [
              0.2222222222222222,
              "#7201a8"
             ],
             [
              0.3333333333333333,
              "#9c179e"
             ],
             [
              0.4444444444444444,
              "#bd3786"
             ],
             [
              0.5555555555555556,
              "#d8576b"
             ],
             [
              0.6666666666666666,
              "#ed7953"
             ],
             [
              0.7777777777777778,
              "#fb9f3a"
             ],
             [
              0.8888888888888888,
              "#fdca26"
             ],
             [
              1,
              "#f0f921"
             ]
            ],
            "type": "histogram2d"
           }
          ],
          "histogram2dcontour": [
           {
            "colorbar": {
             "outlinewidth": 0,
             "ticks": ""
            },
            "colorscale": [
             [
              0,
              "#0d0887"
             ],
             [
              0.1111111111111111,
              "#46039f"
             ],
             [
              0.2222222222222222,
              "#7201a8"
             ],
             [
              0.3333333333333333,
              "#9c179e"
             ],
             [
              0.4444444444444444,
              "#bd3786"
             ],
             [
              0.5555555555555556,
              "#d8576b"
             ],
             [
              0.6666666666666666,
              "#ed7953"
             ],
             [
              0.7777777777777778,
              "#fb9f3a"
             ],
             [
              0.8888888888888888,
              "#fdca26"
             ],
             [
              1,
              "#f0f921"
             ]
            ],
            "type": "histogram2dcontour"
           }
          ],
          "mesh3d": [
           {
            "colorbar": {
             "outlinewidth": 0,
             "ticks": ""
            },
            "type": "mesh3d"
           }
          ],
          "parcoords": [
           {
            "line": {
             "colorbar": {
              "outlinewidth": 0,
              "ticks": ""
             }
            },
            "type": "parcoords"
           }
          ],
          "pie": [
           {
            "automargin": true,
            "type": "pie"
           }
          ],
          "scatter": [
           {
            "marker": {
             "colorbar": {
              "outlinewidth": 0,
              "ticks": ""
             }
            },
            "type": "scatter"
           }
          ],
          "scatter3d": [
           {
            "line": {
             "colorbar": {
              "outlinewidth": 0,
              "ticks": ""
             }
            },
            "marker": {
             "colorbar": {
              "outlinewidth": 0,
              "ticks": ""
             }
            },
            "type": "scatter3d"
           }
          ],
          "scattercarpet": [
           {
            "marker": {
             "colorbar": {
              "outlinewidth": 0,
              "ticks": ""
             }
            },
            "type": "scattercarpet"
           }
          ],
          "scattergeo": [
           {
            "marker": {
             "colorbar": {
              "outlinewidth": 0,
              "ticks": ""
             }
            },
            "type": "scattergeo"
           }
          ],
          "scattergl": [
           {
            "marker": {
             "colorbar": {
              "outlinewidth": 0,
              "ticks": ""
             }
            },
            "type": "scattergl"
           }
          ],
          "scattermapbox": [
           {
            "marker": {
             "colorbar": {
              "outlinewidth": 0,
              "ticks": ""
             }
            },
            "type": "scattermapbox"
           }
          ],
          "scatterpolar": [
           {
            "marker": {
             "colorbar": {
              "outlinewidth": 0,
              "ticks": ""
             }
            },
            "type": "scatterpolar"
           }
          ],
          "scatterpolargl": [
           {
            "marker": {
             "colorbar": {
              "outlinewidth": 0,
              "ticks": ""
             }
            },
            "type": "scatterpolargl"
           }
          ],
          "scatterternary": [
           {
            "marker": {
             "colorbar": {
              "outlinewidth": 0,
              "ticks": ""
             }
            },
            "type": "scatterternary"
           }
          ],
          "surface": [
           {
            "colorbar": {
             "outlinewidth": 0,
             "ticks": ""
            },
            "colorscale": [
             [
              0,
              "#0d0887"
             ],
             [
              0.1111111111111111,
              "#46039f"
             ],
             [
              0.2222222222222222,
              "#7201a8"
             ],
             [
              0.3333333333333333,
              "#9c179e"
             ],
             [
              0.4444444444444444,
              "#bd3786"
             ],
             [
              0.5555555555555556,
              "#d8576b"
             ],
             [
              0.6666666666666666,
              "#ed7953"
             ],
             [
              0.7777777777777778,
              "#fb9f3a"
             ],
             [
              0.8888888888888888,
              "#fdca26"
             ],
             [
              1,
              "#f0f921"
             ]
            ],
            "type": "surface"
           }
          ],
          "table": [
           {
            "cells": {
             "fill": {
              "color": "#EBF0F8"
             },
             "line": {
              "color": "white"
             }
            },
            "header": {
             "fill": {
              "color": "#C8D4E3"
             },
             "line": {
              "color": "white"
             }
            },
            "type": "table"
           }
          ]
         },
         "layout": {
          "annotationdefaults": {
           "arrowcolor": "#2a3f5f",
           "arrowhead": 0,
           "arrowwidth": 1
          },
          "coloraxis": {
           "colorbar": {
            "outlinewidth": 0,
            "ticks": ""
           }
          },
          "colorscale": {
           "diverging": [
            [
             0,
             "#8e0152"
            ],
            [
             0.1,
             "#c51b7d"
            ],
            [
             0.2,
             "#de77ae"
            ],
            [
             0.3,
             "#f1b6da"
            ],
            [
             0.4,
             "#fde0ef"
            ],
            [
             0.5,
             "#f7f7f7"
            ],
            [
             0.6,
             "#e6f5d0"
            ],
            [
             0.7,
             "#b8e186"
            ],
            [
             0.8,
             "#7fbc41"
            ],
            [
             0.9,
             "#4d9221"
            ],
            [
             1,
             "#276419"
            ]
           ],
           "sequential": [
            [
             0,
             "#0d0887"
            ],
            [
             0.1111111111111111,
             "#46039f"
            ],
            [
             0.2222222222222222,
             "#7201a8"
            ],
            [
             0.3333333333333333,
             "#9c179e"
            ],
            [
             0.4444444444444444,
             "#bd3786"
            ],
            [
             0.5555555555555556,
             "#d8576b"
            ],
            [
             0.6666666666666666,
             "#ed7953"
            ],
            [
             0.7777777777777778,
             "#fb9f3a"
            ],
            [
             0.8888888888888888,
             "#fdca26"
            ],
            [
             1,
             "#f0f921"
            ]
           ],
           "sequentialminus": [
            [
             0,
             "#0d0887"
            ],
            [
             0.1111111111111111,
             "#46039f"
            ],
            [
             0.2222222222222222,
             "#7201a8"
            ],
            [
             0.3333333333333333,
             "#9c179e"
            ],
            [
             0.4444444444444444,
             "#bd3786"
            ],
            [
             0.5555555555555556,
             "#d8576b"
            ],
            [
             0.6666666666666666,
             "#ed7953"
            ],
            [
             0.7777777777777778,
             "#fb9f3a"
            ],
            [
             0.8888888888888888,
             "#fdca26"
            ],
            [
             1,
             "#f0f921"
            ]
           ]
          },
          "colorway": [
           "#636efa",
           "#EF553B",
           "#00cc96",
           "#ab63fa",
           "#FFA15A",
           "#19d3f3",
           "#FF6692",
           "#B6E880",
           "#FF97FF",
           "#FECB52"
          ],
          "font": {
           "color": "#2a3f5f"
          },
          "geo": {
           "bgcolor": "white",
           "lakecolor": "white",
           "landcolor": "#E5ECF6",
           "showlakes": true,
           "showland": true,
           "subunitcolor": "white"
          },
          "hoverlabel": {
           "align": "left"
          },
          "hovermode": "closest",
          "mapbox": {
           "style": "light"
          },
          "paper_bgcolor": "white",
          "plot_bgcolor": "#E5ECF6",
          "polar": {
           "angularaxis": {
            "gridcolor": "white",
            "linecolor": "white",
            "ticks": ""
           },
           "bgcolor": "#E5ECF6",
           "radialaxis": {
            "gridcolor": "white",
            "linecolor": "white",
            "ticks": ""
           }
          },
          "scene": {
           "xaxis": {
            "backgroundcolor": "#E5ECF6",
            "gridcolor": "white",
            "gridwidth": 2,
            "linecolor": "white",
            "showbackground": true,
            "ticks": "",
            "zerolinecolor": "white"
           },
           "yaxis": {
            "backgroundcolor": "#E5ECF6",
            "gridcolor": "white",
            "gridwidth": 2,
            "linecolor": "white",
            "showbackground": true,
            "ticks": "",
            "zerolinecolor": "white"
           },
           "zaxis": {
            "backgroundcolor": "#E5ECF6",
            "gridcolor": "white",
            "gridwidth": 2,
            "linecolor": "white",
            "showbackground": true,
            "ticks": "",
            "zerolinecolor": "white"
           }
          },
          "shapedefaults": {
           "line": {
            "color": "#2a3f5f"
           }
          },
          "ternary": {
           "aaxis": {
            "gridcolor": "white",
            "linecolor": "white",
            "ticks": ""
           },
           "baxis": {
            "gridcolor": "white",
            "linecolor": "white",
            "ticks": ""
           },
           "bgcolor": "#E5ECF6",
           "caxis": {
            "gridcolor": "white",
            "linecolor": "white",
            "ticks": ""
           }
          },
          "title": {
           "x": 0.05
          },
          "xaxis": {
           "automargin": true,
           "gridcolor": "white",
           "linecolor": "white",
           "ticks": "",
           "title": {
            "standoff": 15
           },
           "zerolinecolor": "white",
           "zerolinewidth": 2
          },
          "yaxis": {
           "automargin": true,
           "gridcolor": "white",
           "linecolor": "white",
           "ticks": "",
           "title": {
            "standoff": 15
           },
           "zerolinecolor": "white",
           "zerolinewidth": 2
          }
         }
        },
        "title": {
         "text": "BoM Temperature Forecasts"
        },
        "width": 800,
        "xaxis": {
         "anchor": "y",
         "domain": [
          0,
          1
         ]
        },
        "xaxis2": {
         "anchor": "y2",
         "domain": [
          0,
          1
         ]
        },
        "xaxis3": {
         "anchor": "y3",
         "domain": [
          0,
          1
         ]
        },
        "xaxis4": {
         "anchor": "y4",
         "domain": [
          0,
          1
         ]
        },
        "xaxis5": {
         "anchor": "y5",
         "domain": [
          0,
          1
         ]
        },
        "xaxis6": {
         "anchor": "y6",
         "domain": [
          0,
          1
         ]
        },
        "xaxis7": {
         "anchor": "y7",
         "domain": [
          0,
          1
         ]
        },
        "xaxis8": {
         "anchor": "y8",
         "domain": [
          0,
          1
         ]
        },
        "yaxis": {
         "anchor": "x",
         "domain": [
          0.9296875,
          1
         ]
        },
        "yaxis2": {
         "anchor": "x2",
         "domain": [
          0.796875,
          0.8671875
         ]
        },
        "yaxis3": {
         "anchor": "x3",
         "domain": [
          0.6640625,
          0.734375
         ]
        },
        "yaxis4": {
         "anchor": "x4",
         "domain": [
          0.53125,
          0.6015625
         ]
        },
        "yaxis5": {
         "anchor": "x5",
         "domain": [
          0.3984375,
          0.46875
         ]
        },
        "yaxis6": {
         "anchor": "x6",
         "domain": [
          0.265625,
          0.3359375
         ]
        },
        "yaxis7": {
         "anchor": "x7",
         "domain": [
          0.1328125,
          0.203125
         ]
        },
        "yaxis8": {
         "anchor": "x8",
         "domain": [
          0,
          0.0703125
         ]
        }
       }
      },
      "text/html": [
       "<div>\n",
       "        \n",
       "        \n",
       "            <div id=\"cc95938c-f365-44cc-8ef5-ef61e481a39e\" class=\"plotly-graph-div\" style=\"height:1400px; width:800px;\"></div>\n",
       "            <script type=\"text/javascript\">\n",
       "                require([\"plotly\"], function(Plotly) {\n",
       "                    window.PLOTLYENV=window.PLOTLYENV || {};\n",
       "                    \n",
       "                if (document.getElementById(\"cc95938c-f365-44cc-8ef5-ef61e481a39e\")) {\n",
       "                    Plotly.newPlot(\n",
       "                        'cc95938c-f365-44cc-8ef5-ef61e481a39e',\n",
       "                        [{\"line\": {\"color\": \"royalblue\", \"width\": 4}, \"name\": \"Current Min Forecast\", \"type\": \"scatter\", \"x\": [\"2021-02-03\", \"2021-02-04\", \"2021-02-05\", \"2021-02-06\", \"2021-02-07\", \"2021-02-08\", \"2021-02-09\"], \"xaxis\": \"x\", \"y\": [null, 21.0, 21.0, 21.0, 22.0, 23.0, 22.0], \"yaxis\": \"y\"}, {\"line\": {\"color\": \"royalblue\", \"dash\": \"dot\", \"width\": 4}, \"name\": \"Yesterday Min Forecast\", \"type\": \"scatter\", \"x\": [\"2021-02-02\", \"2021-02-03\", \"2021-02-04\", \"2021-02-05\", \"2021-02-06\", \"2021-02-07\", \"2021-02-08\"], \"xaxis\": \"x\", \"y\": [null, 21.0, 21.0, 21.0, 21.0, 22.0, 24.0], \"yaxis\": \"y\"}, {\"line\": {\"color\": \"firebrick\", \"width\": 4}, \"name\": \"Current Max Forecast\", \"type\": \"scatter\", \"x\": [\"2021-02-03\", \"2021-02-04\", \"2021-02-05\", \"2021-02-06\", \"2021-02-07\", \"2021-02-08\", \"2021-02-09\"], \"xaxis\": \"x\", \"y\": [29.0, 30.0, 30.0, 32.0, 35.0, 31.0, 29.0], \"yaxis\": \"y\"}, {\"line\": {\"color\": \"firebrick\", \"dash\": \"dot\", \"width\": 4}, \"name\": \"Yesterday Max Forecast\", \"type\": \"scatter\", \"x\": [\"2021-02-02\", \"2021-02-03\", \"2021-02-04\", \"2021-02-05\", \"2021-02-06\", \"2021-02-07\", \"2021-02-08\"], \"xaxis\": \"x\", \"y\": [28.0, 27.0, 29.0, 30.0, 32.0, 34.0, 34.0], \"yaxis\": \"y\"}, {\"line\": {\"color\": \"royalblue\", \"width\": 4}, \"name\": \"Current Min Forecast\", \"type\": \"scatter\", \"x\": [\"2021-02-03\", \"2021-02-04\", \"2021-02-05\", \"2021-02-06\", \"2021-02-07\", \"2021-02-08\", \"2021-02-09\"], \"xaxis\": \"x2\", \"y\": [null, 18.0, 21.0, 21.0, 20.0, 19.0, 18.0], \"yaxis\": \"y2\"}, {\"line\": {\"color\": \"royalblue\", \"dash\": \"dot\", \"width\": 4}, \"name\": \"Yesterday Min Forecast\", \"type\": \"scatter\", \"x\": [\"2021-02-02\", \"2021-02-03\", \"2021-02-04\", \"2021-02-05\", \"2021-02-06\", \"2021-02-07\", \"2021-02-08\"], \"xaxis\": \"x2\", \"y\": [null, 18.0, 17.0, 20.0, 21.0, 21.0, 19.0], \"yaxis\": \"y2\"}, {\"line\": {\"color\": \"firebrick\", \"width\": 4}, \"name\": \"Current Max Forecast\", \"type\": \"scatter\", \"x\": [\"2021-02-03\", \"2021-02-04\", \"2021-02-05\", \"2021-02-06\", \"2021-02-07\", \"2021-02-08\", \"2021-02-09\"], \"xaxis\": \"x2\", \"y\": [25.0, 29.0, 29.0, 27.0, 30.0, 25.0, 25.0], \"yaxis\": \"y2\"}, {\"line\": {\"color\": \"firebrick\", \"dash\": \"dot\", \"width\": 4}, \"name\": \"Yesterday Max Forecast\", \"type\": \"scatter\", \"x\": [\"2021-02-02\", \"2021-02-03\", \"2021-02-04\", \"2021-02-05\", \"2021-02-06\", \"2021-02-07\", \"2021-02-08\"], \"xaxis\": \"x2\", \"y\": [24.0, 25.0, 28.0, 28.0, 29.0, 32.0, 29.0], \"yaxis\": \"y2\"}, {\"line\": {\"color\": \"royalblue\", \"width\": 4}, \"name\": \"Current Min Forecast\", \"type\": \"scatter\", \"x\": [\"2021-02-03\", \"2021-02-04\", \"2021-02-05\", \"2021-02-06\", \"2021-02-07\", \"2021-02-08\", \"2021-02-09\"], \"xaxis\": \"x3\", \"y\": [null, 15.0, 21.0, 17.0, 15.0, 13.0, 13.0], \"yaxis\": \"y3\"}, {\"line\": {\"color\": \"royalblue\", \"dash\": \"dot\", \"width\": 4}, \"name\": \"Yesterday Min Forecast\", \"type\": \"scatter\", \"x\": [\"2021-02-02\", \"2021-02-03\", \"2021-02-04\", \"2021-02-05\", \"2021-02-06\", \"2021-02-07\", \"2021-02-08\"], \"xaxis\": \"x3\", \"y\": [null, 13.0, 15.0, 21.0, 18.0, 15.0, 15.0], \"yaxis\": \"y3\"}, {\"line\": {\"color\": \"firebrick\", \"width\": 4}, \"name\": \"Current Max Forecast\", \"type\": \"scatter\", \"x\": [\"2021-02-03\", \"2021-02-04\", \"2021-02-05\", \"2021-02-06\", \"2021-02-07\", \"2021-02-08\", \"2021-02-09\"], \"xaxis\": \"x3\", \"y\": [25.0, 30.0, 27.0, 23.0, 19.0, 19.0, 25.0], \"yaxis\": \"y3\"}, {\"line\": {\"color\": \"firebrick\", \"dash\": \"dot\", \"width\": 4}, \"name\": \"Yesterday Max Forecast\", \"type\": \"scatter\", \"x\": [\"2021-02-02\", \"2021-02-03\", \"2021-02-04\", \"2021-02-05\", \"2021-02-06\", \"2021-02-07\", \"2021-02-08\"], \"xaxis\": \"x3\", \"y\": [19.0, 26.0, 31.0, 27.0, 25.0, 23.0, 20.0], \"yaxis\": \"y3\"}, {\"line\": {\"color\": \"royalblue\", \"width\": 4}, \"name\": \"Current Min Forecast\", \"type\": \"scatter\", \"x\": [\"2021-02-03\", \"2021-02-04\", \"2021-02-05\", \"2021-02-06\", \"2021-02-07\", \"2021-02-08\", \"2021-02-09\"], \"xaxis\": \"x4\", \"y\": [null, 20.0, 13.0, 15.0, 15.0, 13.0, 15.0], \"yaxis\": \"y4\"}, {\"line\": {\"color\": \"royalblue\", \"dash\": \"dot\", \"width\": 4}, \"name\": \"Yesterday Min Forecast\", \"type\": \"scatter\", \"x\": [\"2021-02-02\", \"2021-02-03\", \"2021-02-04\", \"2021-02-05\", \"2021-02-06\", \"2021-02-07\", \"2021-02-08\"], \"xaxis\": \"x4\", \"y\": [null, 14.0, 19.0, 13.0, 14.0, 16.0, 14.0], \"yaxis\": \"y4\"}, {\"line\": {\"color\": \"firebrick\", \"width\": 4}, \"name\": \"Current Max Forecast\", \"type\": \"scatter\", \"x\": [\"2021-02-03\", \"2021-02-04\", \"2021-02-05\", \"2021-02-06\", \"2021-02-07\", \"2021-02-08\", \"2021-02-09\"], \"xaxis\": \"x4\", \"y\": [28.0, 28.0, 20.0, 22.0, 22.0, 25.0, 28.0], \"yaxis\": \"y4\"}, {\"line\": {\"color\": \"firebrick\", \"dash\": \"dot\", \"width\": 4}, \"name\": \"Yesterday Max Forecast\", \"type\": \"scatter\", \"x\": [\"2021-02-02\", \"2021-02-03\", \"2021-02-04\", \"2021-02-05\", \"2021-02-06\", \"2021-02-07\", \"2021-02-08\"], \"xaxis\": \"x4\", \"y\": [25.0, 28.0, 28.0, 20.0, 22.0, 22.0, 23.0], \"yaxis\": \"y4\"}, {\"line\": {\"color\": \"royalblue\", \"width\": 4}, \"name\": \"Current Min Forecast\", \"type\": \"scatter\", \"x\": [\"2021-02-03\", \"2021-02-04\", \"2021-02-05\", \"2021-02-06\", \"2021-02-07\", \"2021-02-08\", \"2021-02-09\"], \"xaxis\": \"x5\", \"y\": [null, 13.0, 16.0, 19.0, 15.0, 11.0, 10.0], \"yaxis\": \"y5\"}, {\"line\": {\"color\": \"royalblue\", \"dash\": \"dot\", \"width\": 4}, \"name\": \"Yesterday Min Forecast\", \"type\": \"scatter\", \"x\": [\"2021-02-02\", \"2021-02-03\", \"2021-02-04\", \"2021-02-05\", \"2021-02-06\", \"2021-02-07\", \"2021-02-08\"], \"xaxis\": \"x5\", \"y\": [null, 12.0, 13.0, 15.0, 19.0, 16.0, 14.0], \"yaxis\": \"y5\"}, {\"line\": {\"color\": \"firebrick\", \"width\": 4}, \"name\": \"Current Max Forecast\", \"type\": \"scatter\", \"x\": [\"2021-02-03\", \"2021-02-04\", \"2021-02-05\", \"2021-02-06\", \"2021-02-07\", \"2021-02-08\", \"2021-02-09\"], \"xaxis\": \"x5\", \"y\": [20.0, 25.0, 27.0, 26.0, 20.0, 21.0, 17.0], \"yaxis\": \"y5\"}, {\"line\": {\"color\": \"firebrick\", \"dash\": \"dot\", \"width\": 4}, \"name\": \"Yesterday Max Forecast\", \"type\": \"scatter\", \"x\": [\"2021-02-02\", \"2021-02-03\", \"2021-02-04\", \"2021-02-05\", \"2021-02-06\", \"2021-02-07\", \"2021-02-08\"], \"xaxis\": \"x5\", \"y\": [20.0, 19.0, 25.0, 27.0, 26.0, 23.0, 18.0], \"yaxis\": \"y5\"}, {\"line\": {\"color\": \"royalblue\", \"width\": 4}, \"name\": \"Current Min Forecast\", \"type\": \"scatter\", \"x\": [\"2021-02-03\", \"2021-02-04\", \"2021-02-05\", \"2021-02-06\", \"2021-02-07\", \"2021-02-08\", \"2021-02-09\"], \"xaxis\": \"x6\", \"y\": [null, 12.0, 16.0, 16.0, 11.0, 12.0, 10.0], \"yaxis\": \"y6\"}, {\"line\": {\"color\": \"royalblue\", \"dash\": \"dot\", \"width\": 4}, \"name\": \"Yesterday Min Forecast\", \"type\": \"scatter\", \"x\": [\"2021-02-02\", \"2021-02-03\", \"2021-02-04\", \"2021-02-05\", \"2021-02-06\", \"2021-02-07\", \"2021-02-08\"], \"xaxis\": \"x6\", \"y\": [null, 10.0, 10.0, 14.0, 16.0, 13.0, 11.0], \"yaxis\": \"y6\"}, {\"line\": {\"color\": \"firebrick\", \"width\": 4}, \"name\": \"Current Max Forecast\", \"type\": \"scatter\", \"x\": [\"2021-02-03\", \"2021-02-04\", \"2021-02-05\", \"2021-02-06\", \"2021-02-07\", \"2021-02-08\", \"2021-02-09\"], \"xaxis\": \"x6\", \"y\": [25.0, 28.0, 26.0, 24.0, 27.0, 22.0, 23.0], \"yaxis\": \"y6\"}, {\"line\": {\"color\": \"firebrick\", \"dash\": \"dot\", \"width\": 4}, \"name\": \"Yesterday Max Forecast\", \"type\": \"scatter\", \"x\": [\"2021-02-02\", \"2021-02-03\", \"2021-02-04\", \"2021-02-05\", \"2021-02-06\", \"2021-02-07\", \"2021-02-08\"], \"xaxis\": \"x6\", \"y\": [26.0, 25.0, 27.0, 28.0, 23.0, 25.0, 26.0], \"yaxis\": \"y6\"}, {\"line\": {\"color\": \"royalblue\", \"width\": 4}, \"name\": \"Current Min Forecast\", \"type\": \"scatter\", \"x\": [\"2021-02-03\", \"2021-02-04\", \"2021-02-05\", \"2021-02-06\", \"2021-02-07\", \"2021-02-08\", \"2021-02-09\"], \"xaxis\": \"x7\", \"y\": [null, 20.0, 14.0, 13.0, 16.0, 16.0, 19.0, 18.0], \"yaxis\": \"y7\"}, {\"line\": {\"color\": \"royalblue\", \"dash\": \"dot\", \"width\": 4}, \"name\": \"Yesterday Min Forecast\", \"type\": \"scatter\", \"x\": [\"2021-02-02\", \"2021-02-03\", \"2021-02-04\", \"2021-02-05\", \"2021-02-06\", \"2021-02-07\", \"2021-02-08\"], \"xaxis\": \"x7\", \"y\": [null, 23.0, 22.0, 16.0, 14.0, 17.0, 16.0, 20.0], \"yaxis\": \"y7\"}, {\"line\": {\"color\": \"firebrick\", \"width\": 4}, \"name\": \"Current Max Forecast\", \"type\": \"scatter\", \"x\": [\"2021-02-03\", \"2021-02-04\", \"2021-02-05\", \"2021-02-06\", \"2021-02-07\", \"2021-02-08\", \"2021-02-09\"], \"xaxis\": \"x7\", \"y\": [null, 34.0, 30.0, 29.0, 24.0, 28.0, 27.0, 26.0], \"yaxis\": \"y7\"}, {\"line\": {\"color\": \"firebrick\", \"dash\": \"dot\", \"width\": 4}, \"name\": \"Yesterday Max Forecast\", \"type\": \"scatter\", \"x\": [\"2021-02-02\", \"2021-02-03\", \"2021-02-04\", \"2021-02-05\", \"2021-02-06\", \"2021-02-07\", \"2021-02-08\"], \"xaxis\": \"x7\", \"y\": [null, 37.0, 34.0, 32.0, 30.0, 24.0, 28.0, 28.0], \"yaxis\": \"y7\"}, {\"line\": {\"color\": \"royalblue\", \"width\": 4}, \"name\": \"Current Min Forecast\", \"type\": \"scatter\", \"x\": [\"2021-02-03\", \"2021-02-04\", \"2021-02-05\", \"2021-02-06\", \"2021-02-07\", \"2021-02-08\", \"2021-02-09\"], \"xaxis\": \"x8\", \"y\": [null, 24.0, 24.0, 25.0, 25.0, 25.0, 25.0, 25.0], \"yaxis\": \"y8\"}, {\"line\": {\"color\": \"royalblue\", \"dash\": \"dot\", \"width\": 4}, \"name\": \"Yesterday Min Forecast\", \"type\": \"scatter\", \"x\": [\"2021-02-02\", \"2021-02-03\", \"2021-02-04\", \"2021-02-05\", \"2021-02-06\", \"2021-02-07\", \"2021-02-08\"], \"xaxis\": \"x8\", \"y\": [null, 24.0, 24.0, 25.0, 25.0, 25.0, 25.0, 25.0], \"yaxis\": \"y8\"}, {\"line\": {\"color\": \"firebrick\", \"width\": 4}, \"name\": \"Current Max Forecast\", \"type\": \"scatter\", \"x\": [\"2021-02-03\", \"2021-02-04\", \"2021-02-05\", \"2021-02-06\", \"2021-02-07\", \"2021-02-08\", \"2021-02-09\"], \"xaxis\": \"x8\", \"y\": [null, 31.0, 31.0, 31.0, 31.0, 31.0, 30.0, 31.0], \"yaxis\": \"y8\"}, {\"line\": {\"color\": \"firebrick\", \"dash\": \"dot\", \"width\": 4}, \"name\": \"Yesterday Max Forecast\", \"type\": \"scatter\", \"x\": [\"2021-02-02\", \"2021-02-03\", \"2021-02-04\", \"2021-02-05\", \"2021-02-06\", \"2021-02-07\", \"2021-02-08\"], \"xaxis\": \"x8\", \"y\": [null, 29.0, 30.0, 31.0, 31.0, 31.0, 31.0, 31.0], \"yaxis\": \"y8\"}],\n",
       "                        {\"annotations\": [{\"font\": {\"size\": 16}, \"showarrow\": false, \"text\": \"Brisbane\", \"x\": 0.5, \"xanchor\": \"center\", \"xref\": \"paper\", \"y\": 1.0, \"yanchor\": \"bottom\", \"yref\": \"paper\"}, {\"font\": {\"size\": 16}, \"showarrow\": false, \"text\": \"Sydney\", \"x\": 0.5, \"xanchor\": \"center\", \"xref\": \"paper\", \"y\": 0.8671875, \"yanchor\": \"bottom\", \"yref\": \"paper\"}, {\"font\": {\"size\": 16}, \"showarrow\": false, \"text\": \"Melbourne\", \"x\": 0.5, \"xanchor\": \"center\", \"xref\": \"paper\", \"y\": 0.734375, \"yanchor\": \"bottom\", \"yref\": \"paper\"}, {\"font\": {\"size\": 16}, \"showarrow\": false, \"text\": \"Adelaide\", \"x\": 0.5, \"xanchor\": \"center\", \"xref\": \"paper\", \"y\": 0.6015625, \"yanchor\": \"bottom\", \"yref\": \"paper\"}, {\"font\": {\"size\": 16}, \"showarrow\": false, \"text\": \"Hobart\", \"x\": 0.5, \"xanchor\": \"center\", \"xref\": \"paper\", \"y\": 0.46875, \"yanchor\": \"bottom\", \"yref\": \"paper\"}, {\"font\": {\"size\": 16}, \"showarrow\": false, \"text\": \"Canberra\", \"x\": 0.5, \"xanchor\": \"center\", \"xref\": \"paper\", \"y\": 0.3359375, \"yanchor\": \"bottom\", \"yref\": \"paper\"}, {\"font\": {\"size\": 16}, \"showarrow\": false, \"text\": \"Perth\", \"x\": 0.5, \"xanchor\": \"center\", \"xref\": \"paper\", \"y\": 0.203125, \"yanchor\": \"bottom\", \"yref\": \"paper\"}, {\"font\": {\"size\": 16}, \"showarrow\": false, \"text\": \"Darwin\", \"x\": 0.5, \"xanchor\": \"center\", \"xref\": \"paper\", \"y\": 0.0703125, \"yanchor\": \"bottom\", \"yref\": \"paper\"}], \"height\": 1400, \"showlegend\": false, \"template\": {\"data\": {\"bar\": [{\"error_x\": {\"color\": \"#2a3f5f\"}, \"error_y\": {\"color\": \"#2a3f5f\"}, \"marker\": {\"line\": {\"color\": \"#E5ECF6\", \"width\": 0.5}}, \"type\": \"bar\"}], \"barpolar\": [{\"marker\": {\"line\": {\"color\": \"#E5ECF6\", \"width\": 0.5}}, \"type\": \"barpolar\"}], \"carpet\": [{\"aaxis\": {\"endlinecolor\": \"#2a3f5f\", \"gridcolor\": \"white\", \"linecolor\": \"white\", \"minorgridcolor\": \"white\", \"startlinecolor\": \"#2a3f5f\"}, \"baxis\": {\"endlinecolor\": \"#2a3f5f\", \"gridcolor\": \"white\", \"linecolor\": \"white\", \"minorgridcolor\": \"white\", \"startlinecolor\": \"#2a3f5f\"}, \"type\": \"carpet\"}], \"choropleth\": [{\"colorbar\": {\"outlinewidth\": 0, \"ticks\": \"\"}, \"type\": \"choropleth\"}], \"contour\": [{\"colorbar\": {\"outlinewidth\": 0, \"ticks\": \"\"}, \"colorscale\": [[0.0, \"#0d0887\"], [0.1111111111111111, \"#46039f\"], [0.2222222222222222, \"#7201a8\"], [0.3333333333333333, \"#9c179e\"], [0.4444444444444444, \"#bd3786\"], [0.5555555555555556, \"#d8576b\"], [0.6666666666666666, \"#ed7953\"], [0.7777777777777778, \"#fb9f3a\"], [0.8888888888888888, \"#fdca26\"], [1.0, \"#f0f921\"]], \"type\": \"contour\"}], \"contourcarpet\": [{\"colorbar\": {\"outlinewidth\": 0, \"ticks\": \"\"}, \"type\": \"contourcarpet\"}], \"heatmap\": [{\"colorbar\": {\"outlinewidth\": 0, \"ticks\": \"\"}, \"colorscale\": [[0.0, \"#0d0887\"], [0.1111111111111111, \"#46039f\"], [0.2222222222222222, \"#7201a8\"], [0.3333333333333333, \"#9c179e\"], [0.4444444444444444, \"#bd3786\"], [0.5555555555555556, \"#d8576b\"], [0.6666666666666666, \"#ed7953\"], [0.7777777777777778, \"#fb9f3a\"], [0.8888888888888888, \"#fdca26\"], [1.0, \"#f0f921\"]], \"type\": \"heatmap\"}], \"heatmapgl\": [{\"colorbar\": {\"outlinewidth\": 0, \"ticks\": \"\"}, \"colorscale\": [[0.0, \"#0d0887\"], [0.1111111111111111, \"#46039f\"], [0.2222222222222222, \"#7201a8\"], [0.3333333333333333, \"#9c179e\"], [0.4444444444444444, \"#bd3786\"], [0.5555555555555556, \"#d8576b\"], [0.6666666666666666, \"#ed7953\"], [0.7777777777777778, \"#fb9f3a\"], [0.8888888888888888, \"#fdca26\"], [1.0, \"#f0f921\"]], \"type\": \"heatmapgl\"}], \"histogram\": [{\"marker\": {\"colorbar\": {\"outlinewidth\": 0, \"ticks\": \"\"}}, \"type\": \"histogram\"}], \"histogram2d\": [{\"colorbar\": {\"outlinewidth\": 0, \"ticks\": \"\"}, \"colorscale\": [[0.0, \"#0d0887\"], [0.1111111111111111, \"#46039f\"], [0.2222222222222222, \"#7201a8\"], [0.3333333333333333, \"#9c179e\"], [0.4444444444444444, \"#bd3786\"], [0.5555555555555556, \"#d8576b\"], [0.6666666666666666, \"#ed7953\"], [0.7777777777777778, \"#fb9f3a\"], [0.8888888888888888, \"#fdca26\"], [1.0, \"#f0f921\"]], \"type\": \"histogram2d\"}], \"histogram2dcontour\": [{\"colorbar\": {\"outlinewidth\": 0, \"ticks\": \"\"}, \"colorscale\": [[0.0, \"#0d0887\"], [0.1111111111111111, \"#46039f\"], [0.2222222222222222, \"#7201a8\"], [0.3333333333333333, \"#9c179e\"], [0.4444444444444444, \"#bd3786\"], [0.5555555555555556, \"#d8576b\"], [0.6666666666666666, \"#ed7953\"], [0.7777777777777778, \"#fb9f3a\"], [0.8888888888888888, \"#fdca26\"], [1.0, \"#f0f921\"]], \"type\": \"histogram2dcontour\"}], \"mesh3d\": [{\"colorbar\": {\"outlinewidth\": 0, \"ticks\": \"\"}, \"type\": \"mesh3d\"}], \"parcoords\": [{\"line\": {\"colorbar\": {\"outlinewidth\": 0, \"ticks\": \"\"}}, \"type\": \"parcoords\"}], \"pie\": [{\"automargin\": true, \"type\": \"pie\"}], \"scatter\": [{\"marker\": {\"colorbar\": {\"outlinewidth\": 0, \"ticks\": \"\"}}, \"type\": \"scatter\"}], \"scatter3d\": [{\"line\": {\"colorbar\": {\"outlinewidth\": 0, \"ticks\": \"\"}}, \"marker\": {\"colorbar\": {\"outlinewidth\": 0, \"ticks\": \"\"}}, \"type\": \"scatter3d\"}], \"scattercarpet\": [{\"marker\": {\"colorbar\": {\"outlinewidth\": 0, \"ticks\": \"\"}}, \"type\": \"scattercarpet\"}], \"scattergeo\": [{\"marker\": {\"colorbar\": {\"outlinewidth\": 0, \"ticks\": \"\"}}, \"type\": \"scattergeo\"}], \"scattergl\": [{\"marker\": {\"colorbar\": {\"outlinewidth\": 0, \"ticks\": \"\"}}, \"type\": \"scattergl\"}], \"scattermapbox\": [{\"marker\": {\"colorbar\": {\"outlinewidth\": 0, \"ticks\": \"\"}}, \"type\": \"scattermapbox\"}], \"scatterpolar\": [{\"marker\": {\"colorbar\": {\"outlinewidth\": 0, \"ticks\": \"\"}}, \"type\": \"scatterpolar\"}], \"scatterpolargl\": [{\"marker\": {\"colorbar\": {\"outlinewidth\": 0, \"ticks\": \"\"}}, \"type\": \"scatterpolargl\"}], \"scatterternary\": [{\"marker\": {\"colorbar\": {\"outlinewidth\": 0, \"ticks\": \"\"}}, \"type\": \"scatterternary\"}], \"surface\": [{\"colorbar\": {\"outlinewidth\": 0, \"ticks\": \"\"}, \"colorscale\": [[0.0, \"#0d0887\"], [0.1111111111111111, \"#46039f\"], [0.2222222222222222, \"#7201a8\"], [0.3333333333333333, \"#9c179e\"], [0.4444444444444444, \"#bd3786\"], [0.5555555555555556, \"#d8576b\"], [0.6666666666666666, \"#ed7953\"], [0.7777777777777778, \"#fb9f3a\"], [0.8888888888888888, \"#fdca26\"], [1.0, \"#f0f921\"]], \"type\": \"surface\"}], \"table\": [{\"cells\": {\"fill\": {\"color\": \"#EBF0F8\"}, \"line\": {\"color\": \"white\"}}, \"header\": {\"fill\": {\"color\": \"#C8D4E3\"}, \"line\": {\"color\": \"white\"}}, \"type\": \"table\"}]}, \"layout\": {\"annotationdefaults\": {\"arrowcolor\": \"#2a3f5f\", \"arrowhead\": 0, \"arrowwidth\": 1}, \"coloraxis\": {\"colorbar\": {\"outlinewidth\": 0, \"ticks\": \"\"}}, \"colorscale\": {\"diverging\": [[0, \"#8e0152\"], [0.1, \"#c51b7d\"], [0.2, \"#de77ae\"], [0.3, \"#f1b6da\"], [0.4, \"#fde0ef\"], [0.5, \"#f7f7f7\"], [0.6, \"#e6f5d0\"], [0.7, \"#b8e186\"], [0.8, \"#7fbc41\"], [0.9, \"#4d9221\"], [1, \"#276419\"]], \"sequential\": [[0.0, \"#0d0887\"], [0.1111111111111111, \"#46039f\"], [0.2222222222222222, \"#7201a8\"], [0.3333333333333333, \"#9c179e\"], [0.4444444444444444, \"#bd3786\"], [0.5555555555555556, \"#d8576b\"], [0.6666666666666666, \"#ed7953\"], [0.7777777777777778, \"#fb9f3a\"], [0.8888888888888888, \"#fdca26\"], [1.0, \"#f0f921\"]], \"sequentialminus\": [[0.0, \"#0d0887\"], [0.1111111111111111, \"#46039f\"], [0.2222222222222222, \"#7201a8\"], [0.3333333333333333, \"#9c179e\"], [0.4444444444444444, \"#bd3786\"], [0.5555555555555556, \"#d8576b\"], [0.6666666666666666, \"#ed7953\"], [0.7777777777777778, \"#fb9f3a\"], [0.8888888888888888, \"#fdca26\"], [1.0, \"#f0f921\"]]}, \"colorway\": [\"#636efa\", \"#EF553B\", \"#00cc96\", \"#ab63fa\", \"#FFA15A\", \"#19d3f3\", \"#FF6692\", \"#B6E880\", \"#FF97FF\", \"#FECB52\"], \"font\": {\"color\": \"#2a3f5f\"}, \"geo\": {\"bgcolor\": \"white\", \"lakecolor\": \"white\", \"landcolor\": \"#E5ECF6\", \"showlakes\": true, \"showland\": true, \"subunitcolor\": \"white\"}, \"hoverlabel\": {\"align\": \"left\"}, \"hovermode\": \"closest\", \"mapbox\": {\"style\": \"light\"}, \"paper_bgcolor\": \"white\", \"plot_bgcolor\": \"#E5ECF6\", \"polar\": {\"angularaxis\": {\"gridcolor\": \"white\", \"linecolor\": \"white\", \"ticks\": \"\"}, \"bgcolor\": \"#E5ECF6\", \"radialaxis\": {\"gridcolor\": \"white\", \"linecolor\": \"white\", \"ticks\": \"\"}}, \"scene\": {\"xaxis\": {\"backgroundcolor\": \"#E5ECF6\", \"gridcolor\": \"white\", \"gridwidth\": 2, \"linecolor\": \"white\", \"showbackground\": true, \"ticks\": \"\", \"zerolinecolor\": \"white\"}, \"yaxis\": {\"backgroundcolor\": \"#E5ECF6\", \"gridcolor\": \"white\", \"gridwidth\": 2, \"linecolor\": \"white\", \"showbackground\": true, \"ticks\": \"\", \"zerolinecolor\": \"white\"}, \"zaxis\": {\"backgroundcolor\": \"#E5ECF6\", \"gridcolor\": \"white\", \"gridwidth\": 2, \"linecolor\": \"white\", \"showbackground\": true, \"ticks\": \"\", \"zerolinecolor\": \"white\"}}, \"shapedefaults\": {\"line\": {\"color\": \"#2a3f5f\"}}, \"ternary\": {\"aaxis\": {\"gridcolor\": \"white\", \"linecolor\": \"white\", \"ticks\": \"\"}, \"baxis\": {\"gridcolor\": \"white\", \"linecolor\": \"white\", \"ticks\": \"\"}, \"bgcolor\": \"#E5ECF6\", \"caxis\": {\"gridcolor\": \"white\", \"linecolor\": \"white\", \"ticks\": \"\"}}, \"title\": {\"x\": 0.05}, \"xaxis\": {\"automargin\": true, \"gridcolor\": \"white\", \"linecolor\": \"white\", \"ticks\": \"\", \"title\": {\"standoff\": 15}, \"zerolinecolor\": \"white\", \"zerolinewidth\": 2}, \"yaxis\": {\"automargin\": true, \"gridcolor\": \"white\", \"linecolor\": \"white\", \"ticks\": \"\", \"title\": {\"standoff\": 15}, \"zerolinecolor\": \"white\", \"zerolinewidth\": 2}}}, \"title\": {\"text\": \"BoM Temperature Forecasts\"}, \"width\": 800, \"xaxis\": {\"anchor\": \"y\", \"domain\": [0.0, 1.0]}, \"xaxis2\": {\"anchor\": \"y2\", \"domain\": [0.0, 1.0]}, \"xaxis3\": {\"anchor\": \"y3\", \"domain\": [0.0, 1.0]}, \"xaxis4\": {\"anchor\": \"y4\", \"domain\": [0.0, 1.0]}, \"xaxis5\": {\"anchor\": \"y5\", \"domain\": [0.0, 1.0]}, \"xaxis6\": {\"anchor\": \"y6\", \"domain\": [0.0, 1.0]}, \"xaxis7\": {\"anchor\": \"y7\", \"domain\": [0.0, 1.0]}, \"xaxis8\": {\"anchor\": \"y8\", \"domain\": [0.0, 1.0]}, \"yaxis\": {\"anchor\": \"x\", \"domain\": [0.9296875, 1.0]}, \"yaxis2\": {\"anchor\": \"x2\", \"domain\": [0.796875, 0.8671875]}, \"yaxis3\": {\"anchor\": \"x3\", \"domain\": [0.6640625, 0.734375]}, \"yaxis4\": {\"anchor\": \"x4\", \"domain\": [0.53125, 0.6015625]}, \"yaxis5\": {\"anchor\": \"x5\", \"domain\": [0.3984375, 0.46875]}, \"yaxis6\": {\"anchor\": \"x6\", \"domain\": [0.265625, 0.3359375]}, \"yaxis7\": {\"anchor\": \"x7\", \"domain\": [0.1328125, 0.203125]}, \"yaxis8\": {\"anchor\": \"x8\", \"domain\": [0.0, 0.0703125]}},\n",
       "                        {\"responsive\": true}\n",
       "                    ).then(function(){\n",
       "                            \n",
       "var gd = document.getElementById('cc95938c-f365-44cc-8ef5-ef61e481a39e');\n",
       "var x = new MutationObserver(function (mutations, observer) {{\n",
       "        var display = window.getComputedStyle(gd).display;\n",
       "        if (!display || display === 'none') {{\n",
       "            console.log([gd, 'removed!']);\n",
       "            Plotly.purge(gd);\n",
       "            observer.disconnect();\n",
       "        }}\n",
       "}});\n",
       "\n",
       "// Listen for the removal of the full notebook cells\n",
       "var notebookContainer = gd.closest('#notebook-container');\n",
       "if (notebookContainer) {{\n",
       "    x.observe(notebookContainer, {childList: true});\n",
       "}}\n",
       "\n",
       "// Listen for the clearing of the current output cell\n",
       "var outputEl = gd.closest('.output');\n",
       "if (outputEl) {{\n",
       "    x.observe(outputEl, {childList: true});\n",
       "}}\n",
       "\n",
       "                        })\n",
       "                };\n",
       "                });\n",
       "            </script>\n",
       "        </div>"
      ]
     },
     "metadata": {},
     "output_type": "display_data"
    }
   ],
   "source": [
    "#hide\n",
    "from plotly.subplots import make_subplots \n",
    "# Get a common x-axis to use\n",
    "xaxis_current = raw_df[(raw_df.Date_Added==current_date)&(raw_df.town=='Sydney')].Date\n",
    "xaxis_yesterday = raw_df[(raw_df.Date_Added==yesterday)&(raw_df.town=='Sydney')].Date\n",
    "\n",
    "\n",
    "towns = raw_df.town.unique()\n",
    "fig = make_subplots(rows=8, cols=1, subplot_titles=(towns))\n",
    "\n",
    "for i,t in enumerate(raw_df.town.unique()):\n",
    "    # Todays min forecast\n",
    "    fig.add_trace(go.Scatter(x=xaxis_current, y=raw_df[(raw_df.town==t) & (raw_df.Date_Added==current_date)].min_temp,\n",
    "                 name='Current Min Forecast', line=dict(color='royalblue', width=4)), row=(i+1), col=1)\n",
    "    \n",
    "    # Yesterdays min forecast\n",
    "    fig.add_trace(go.Scatter(x=xaxis_yesterday, y=raw_df[(raw_df.town==t) & (raw_df.Date_Added==yesterday)].min_temp,\n",
    "                 name='Yesterday Min Forecast', line=dict(color='royalblue', width=4, dash='dot')), row=(i+1), col=1)\n",
    "    \n",
    "    # Todays max forecast\n",
    "    fig.add_trace(go.Scatter(x=xaxis_current, y=raw_df[(raw_df.town==t) & (raw_df.Date_Added==current_date)].max_temp,\n",
    "                 name='Current Max Forecast', line=dict(color='firebrick', width=4)), row=(i+1), col=1)   \n",
    "    \n",
    "    # Yesterday max forecast\n",
    "    fig.add_trace(go.Scatter(x=xaxis_yesterday, y=raw_df[(raw_df.town==t) & (raw_df.Date_Added==yesterday)].max_temp,\n",
    "                 name='Yesterday Max Forecast', line=dict(color='firebrick', width=4, dash='dot')), row=(i+1), col=1)  \n",
    "\n",
    "fig.update_layout(height=1400, width=800, title_text='BoM Temperature Forecasts', showlegend=False)    \n",
    "fig.show()\n",
    "\n",
    "# For next cell\n",
    "#from IPython.display import HTML\n",
    "#hide_input\n",
    "#HTML(fig.to_html())"
   ]
  },
  {
   "cell_type": "code",
   "execution_count": null,
   "id": "postal-window",
   "metadata": {},
   "outputs": [],
   "source": [
    "#hide_input\n",
    "from IPython.display import HTML"
   ]
  }
 ],
 "metadata": {
  "kernelspec": {
   "display_name": "Python 3",
   "language": "python",
   "name": "python3"
  },
  "language_info": {
   "codemirror_mode": {
    "name": "ipython",
    "version": 3
   },
   "file_extension": ".py",
   "mimetype": "text/x-python",
   "name": "python",
   "nbconvert_exporter": "python",
   "pygments_lexer": "ipython3",
   "version": "3.7.9"
  }
 },
 "nbformat": 4,
 "nbformat_minor": 5
}
