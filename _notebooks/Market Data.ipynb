{
 "cells": [
  {
   "cell_type": "markdown",
   "id": "sweet-motel",
   "metadata": {},
   "source": [
    "# Market Data\n",
    "> Updated NEM data\n",
    "- toc: true \n",
    "- badges: false\n",
    "- comments: true\n",
    "- categories: [jupyter]\n",
    "- image: images/chart-preview.png"
   ]
  },
  {
   "cell_type": "code",
   "execution_count": 1,
   "id": "simplified-authority",
   "metadata": {},
   "outputs": [],
   "source": [
    "#hide_input\n",
    "from datetime import datetime, date, timedelta\n",
    "import requests\n",
    "import re\n",
    "from tqdm import tqdm\n",
    "from collections import namedtuple\n",
    "from io import BytesIO\n",
    "from zipfile import ZipFile\n",
    "\n",
    "import pandas as  pd\n",
    "import numpy as np\n",
    "\n",
    "import plotly\n",
    "import plotly.express as px\n",
    "from plotly.subplots import make_subplots\n",
    "import plotly.graph_objects as go\n",
    "\n",
    "from IPython.display import display_html, HTML\n",
    "\n",
    "import ipywidgets as widgets"
   ]
  },
  {
   "cell_type": "code",
   "execution_count": 2,
   "id": "likely-favorite",
   "metadata": {},
   "outputs": [],
   "source": [
    "#hide_input\n",
    "\n",
    "# Global variables #\n",
    "current_date = datetime.date(datetime.now())\n",
    "yesterday = current_date - timedelta(days=1)\n",
    "states = [\"QLD\",\"NSW\",\"VIC\",\"SA\",\"TAS\",\"ACT\",\"WA\",\"NT\"]\n",
    "capital_cities = [\"Brisbane\",\"Sydney\",\"Melbourne\",\"Adelaide\",\"Hobart\",\"Canberra\",\"Perth\",\"Darwin\"]"
   ]
  },
  {
   "cell_type": "code",
   "execution_count": 3,
   "id": "tracked-emperor",
   "metadata": {},
   "outputs": [
    {
     "name": "stdout",
     "output_type": "stream",
     "text": [
      "Last ran:  2021-02-04 12:29:18\n"
     ]
    }
   ],
   "source": [
    "#hide_input\n",
    "print('Last ran: ', datetime.now().strftime('%Y-%m-%d %H:%M:%S'))"
   ]
  },
  {
   "cell_type": "code",
   "execution_count": null,
   "id": "circular-communications",
   "metadata": {},
   "outputs": [],
   "source": []
  }
 ],
 "metadata": {
  "kernelspec": {
   "display_name": "Python 3",
   "language": "python",
   "name": "python3"
  },
  "language_info": {
   "codemirror_mode": {
    "name": "ipython",
    "version": 3
   },
   "file_extension": ".py",
   "mimetype": "text/x-python",
   "name": "python",
   "nbconvert_exporter": "python",
   "pygments_lexer": "ipython3",
   "version": "3.7.9"
  }
 },
 "nbformat": 4,
 "nbformat_minor": 5
}
